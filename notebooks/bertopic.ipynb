{
 "cells": [
  {
   "cell_type": "markdown",
   "id": "c8691738",
   "metadata": {},
   "source": [
    "## Imports"
   ]
  },
  {
   "cell_type": "code",
   "execution_count": 1,
   "id": "34710da9",
   "metadata": {},
   "outputs": [
    {
     "name": "stderr",
     "output_type": "stream",
     "text": [
      "2021-07-20 19:04:04.647904: I tensorflow/stream_executor/platform/default/dso_loader.cc:53] Successfully opened dynamic library libcudart.so.11.0\n"
     ]
    }
   ],
   "source": [
    "import pandas as pd\n",
    "import numpy as np\n",
    "from LeWagon_FinalProject.data import DataProcessor\n",
    "from bertopic import BERTopic\n",
    "import hdbscan\n",
    "from sklearn.metrics.pairwise import cosine_similarity"
   ]
  },
  {
   "cell_type": "markdown",
   "id": "e6237b63",
   "metadata": {
    "heading_collapsed": true
   },
   "source": [
    "## Functions"
   ]
  },
  {
   "cell_type": "code",
   "execution_count": 2,
   "id": "a8174f6b",
   "metadata": {
    "hidden": true
   },
   "outputs": [],
   "source": [
    "def generate_docs(df_, number_of_docs):\n",
    "    df_ = df_[['date', 'content']][0:number_of_docs].copy().reset_index(drop=True)\n",
    "    df_.to_csv(f'../raw_data/BERTDocsContent_{str(number_of_docs)}.csv', header=True, index=False, encoding='utf-8')\n",
    "    return df_.copy()"
   ]
  },
  {
   "cell_type": "code",
   "execution_count": 3,
   "id": "1221ad9c",
   "metadata": {
    "hidden": true
   },
   "outputs": [],
   "source": [
    "def generate_topic_info(bert_model, number_of_docs):\n",
    "    df_topic_info = bert_model.get_topic_info()\n",
    "\n",
    "    df_topic_info.to_csv(f'../raw_data/BERTopicInfo_{str(number_of_docs)}.csv', header=True, index=False, encoding='utf-8')\n",
    "    return df_topic_info.copy()"
   ]
  },
  {
   "cell_type": "code",
   "execution_count": 4,
   "id": "734f46b8",
   "metadata": {
    "hidden": true
   },
   "outputs": [],
   "source": [
    "def generate_terms(bert_model, number_of_docs):\n",
    "    topics = bert_model.get_topics()\n",
    "    number_of_topics = len(topics)-1\n",
    "    num_of_terms = len(topics[0])\n",
    "\n",
    "    topic_columns = ['topic', 'term', 'weight']\n",
    "\n",
    "    df_topics = pd.DataFrame(columns=topic_columns)\n",
    "    for i in range(-1,number_of_topics): \n",
    "        for j in range(num_of_terms):\n",
    "            new_topic = {}\n",
    "            new_topic['topic'] = topic_model.topic_names[i]\n",
    "            new_topic['term'] = topics[i][j][0]\n",
    "            new_topic['weight'] = round(topics[i][j][1],6)\n",
    "            df_topics = df_topics.append(new_topic, ignore_index=True)\n",
    "\n",
    "    df_topics.to_csv(f'../raw_data/BERTopicTerms_{str(number_of_docs)}.csv', header=True, index=False, encoding='utf-8')\n",
    "    return df_topics.copy()"
   ]
  },
  {
   "cell_type": "code",
   "execution_count": 5,
   "id": "ff2635dd",
   "metadata": {
    "hidden": true
   },
   "outputs": [],
   "source": [
    "def correlation_matrix_to_df(df_corr):\n",
    "    list_done = []\n",
    "    lits_item1 = []\n",
    "    lits_item2 = []\n",
    "    list_corr = []\n",
    "\n",
    "    for k in range(1,df_corr.shape[1]):\n",
    "        for i, j in df_corr.iterrows():\n",
    "            #if (df_corr.columns[k] != j[0]) and (j[0] not in list_done):\n",
    "            #if (j[0] not in list_done):\n",
    "            lits_item1.append(df_corr.columns[k])\n",
    "            lits_item2.append(j[0])\n",
    "            list_corr.append(j[k])\n",
    "        list_done.append(df_corr.columns[k])\n",
    "\n",
    "    corr_dict = {'topic1': lits_item1,\n",
    "                 'topic2': lits_item2,\n",
    "                 'similarity': list_corr}\n",
    "    df_res = pd.DataFrame(corr_dict)\n",
    "    df_res = df_res.sort_values(by='similarity', ascending=False).copy()\n",
    "    df_res.reset_index(inplace=True,drop=True)\n",
    "    return df_res.copy()"
   ]
  },
  {
   "cell_type": "code",
   "execution_count": 6,
   "id": "2304d11b",
   "metadata": {
    "hidden": true
   },
   "outputs": [],
   "source": [
    "def generate_topic_similarity(bert_model, number_of_docs):\n",
    "    corr_matrix = bert_model.topic_sim_matrix\n",
    "\n",
    "    topics = bert_model.get_topics()\n",
    "    number_of_topics = len(topics)-1\n",
    "\n",
    "    topic_columns = ['topic']\n",
    "    for i in range(-1,number_of_topics):\n",
    "        topic_columns.append(bert_model.topic_names[i])\n",
    "\n",
    "    df_similarity = pd.DataFrame(columns=topic_columns)\n",
    "    for i in range(-1,number_of_topics):\n",
    "        new_topic = {}\n",
    "        new_topic['topic'] = bert_model.topic_names[i]\n",
    "        for j in range(-1,number_of_topics):\n",
    "            new_topic[bert_model.topic_names[j]] = round(corr_matrix[i,j],6)\n",
    "        df_similarity = df_similarity.append(new_topic, ignore_index=True)\n",
    "        \n",
    "    df_topic_similarity = correlation_matrix_to_df(df_similarity)\n",
    "    df_topic_similarity.to_csv(f'../raw_data/BERTopicSimilarity_{str(number_of_docs)}.csv', header=True, index=False, encoding='utf-8')\n",
    "    return df_topic_similarity.copy()"
   ]
  },
  {
   "cell_type": "code",
   "execution_count": 7,
   "id": "70084133",
   "metadata": {
    "hidden": true
   },
   "outputs": [],
   "source": [
    "def get_topic_documents(cluster_id, condensed_tree):\n",
    "    result_points = np.array([])\n",
    "    result_points_val = np.array([])\n",
    "    \n",
    "    #assert cluster_id > -1, \"The topic's label should be greater than -1!\"\n",
    "    \n",
    "    if cluster_id <= -1:\n",
    "        return result_points.astype(np.int64), result_points_val.astype(np.float64)\n",
    "        \n",
    "    raw_tree = condensed_tree._raw_tree\n",
    "    \n",
    "    # Just the cluster elements of the tree, excluding singleton points\n",
    "    cluster_tree = raw_tree[raw_tree['child_size'] > 1]\n",
    "    \n",
    "    # Get the leaf cluster nodes under the cluster we are considering\n",
    "    leaves = hdbscan.plots._recurse_leaf_dfs(cluster_tree, cluster_id)\n",
    "    \n",
    "    # Now collect up the last remaining points of each leaf cluster (the heart of the leaf) \n",
    "    for leaf in leaves:\n",
    "        #max_lambda = raw_tree['lambda_val'][raw_tree['parent'] == leaf].max()\n",
    "        #points = raw_tree['child'][(raw_tree['parent'] == leaf) & (raw_tree['lambda_val'] == max_lambda)]\n",
    "        #points_val = raw_tree['lambda_val'][(raw_tree['parent'] == leaf) & (raw_tree['lambda_val'] == max_lambda)]\n",
    "        points = raw_tree['child'][(raw_tree['parent'] == leaf)]\n",
    "        points_val = raw_tree['lambda_val'][(raw_tree['parent'] == leaf)]\n",
    "        result_points = np.hstack((result_points, points))\n",
    "        result_points_val = np.hstack((result_points_val, points_val))\n",
    "        \n",
    "    return result_points.astype(np.int64), result_points_val.astype(np.float64)"
   ]
  },
  {
   "cell_type": "code",
   "execution_count": 8,
   "id": "9cf25505",
   "metadata": {
    "hidden": true
   },
   "outputs": [],
   "source": [
    "def generate_topic_documents(bert_model, number_of_docs):\n",
    "    clusterer = bert_model.hdbscan_model\n",
    "    tree = clusterer.condensed_tree_\n",
    "    clusters = tree._select_clusters()\n",
    "\n",
    "    number_of_topics = len(clusters)\n",
    "\n",
    "    relevant_columns = ['topic', 'document', 'lambda_val']\n",
    "    df_rel_docs = pd.DataFrame(columns=relevant_columns)\n",
    "\n",
    "    for i in range(0, number_of_topics):\n",
    "        rel_docs, lambda_vals = get_topic_documents(clusters[i], tree)\n",
    "        topic_name = bert_model.topic_names[i]\n",
    "        for j in range(0, len(rel_docs)):\n",
    "            new_doc_rel = {}\n",
    "            new_doc_rel['topic'] = topic_name\n",
    "            new_doc_rel['document'] = rel_docs[j]\n",
    "            new_doc_rel['lambda_val'] = round(lambda_vals[j],6)\n",
    "            df_rel_docs = df_rel_docs.append(new_doc_rel, ignore_index=True)\n",
    "\n",
    "    df_rel_docs.to_csv(f'../raw_data/BERTopicDocuments_{str(number_of_docs)}.csv', header=True, index=False, encoding='utf-8')\n",
    "    return df_rel_docs.copy()"
   ]
  },
  {
   "cell_type": "code",
   "execution_count": 9,
   "id": "3def10c2",
   "metadata": {
    "hidden": true
   },
   "outputs": [],
   "source": [
    "def get_cosine_similarity(feature_vec_1, feature_vec_2):\n",
    "    return cosine_similarity(feature_vec_1.reshape(1, -1), feature_vec_2.reshape(1, -1))[0][0]"
   ]
  },
  {
   "cell_type": "code",
   "execution_count": 10,
   "id": "8a260c4d",
   "metadata": {
    "hidden": true
   },
   "outputs": [
    {
     "data": {
      "text/plain": [
       "\"\\n    sim_columns = ['cosine_similarity', 'document1', 'document2']\\n    df_sim_docs = pd.DataFrame(columns=sim_columns)\\n    temp_columns = ['cosine_similarity']\\n    for i in range(0, len(docs)):\\n        docs_sim = df_documents_similarity[i]\\n        df_sim_docs_temp = pd.DataFrame(data = docs_sim, columns=temp_columns)\\n        df_sim_docs_temp['document1'] = i\\n        df_sim_docs_temp['document2'] = df_sim_docs_temp.index\\n        df_sim_docs = df_sim_docs.append(df_sim_docs_temp, ignore_index=True)\\n    \\n    #df_sim_docs.to_csv(f'../raw_data/BERTopicDocumentsSimilarity_{str(number_of_docs)}.csv', header=True, index=False, encoding='utf-8')     \\n    return df_sim_docs.copy()\\n\""
      ]
     },
     "execution_count": 10,
     "metadata": {},
     "output_type": "execute_result"
    }
   ],
   "source": [
    "def generate_documents_similarity(bert_model, docs, number_of_docs):\n",
    "    emb_model = bert_model.embedding_model\n",
    "    \n",
    "    # Create documents embeddings\n",
    "    embeddings = emb_model.embedding_model.encode(docs)\n",
    "    doc_sim_matrix = cosine_similarity(embeddings, embeddings)\n",
    "    np.savetxt(f'../raw_data/BERTopicDocumentsSimilarity_{str(number_of_docs)}.csv', doc_sim_matrix, delimiter=',')\n",
    "    np.save(f'../raw_data/BERTopicDocumentsSimilarity_{str(number_of_docs)}.npy', doc_sim_matrix)\n",
    "    return doc_sim_matrix\n",
    "'''\n",
    "    sim_columns = ['cosine_similarity', 'document1', 'document2']\n",
    "    df_sim_docs = pd.DataFrame(columns=sim_columns)\n",
    "    temp_columns = ['cosine_similarity']\n",
    "    for i in range(0, len(docs)):\n",
    "        docs_sim = df_documents_similarity[i]\n",
    "        df_sim_docs_temp = pd.DataFrame(data = docs_sim, columns=temp_columns)\n",
    "        df_sim_docs_temp['document1'] = i\n",
    "        df_sim_docs_temp['document2'] = df_sim_docs_temp.index\n",
    "        df_sim_docs = df_sim_docs.append(df_sim_docs_temp, ignore_index=True)\n",
    "    \n",
    "    #df_sim_docs.to_csv(f'../raw_data/BERTopicDocumentsSimilarity_{str(number_of_docs)}.csv', header=True, index=False, encoding='utf-8')     \n",
    "    return df_sim_docs.copy()\n",
    "'''"
   ]
  },
  {
   "cell_type": "markdown",
   "id": "19af20e7",
   "metadata": {},
   "source": [
    "## Generate data"
   ]
  },
  {
   "cell_type": "code",
   "execution_count": 11,
   "id": "58fbbe35",
   "metadata": {},
   "outputs": [],
   "source": [
    "number_of_docs = 3_000\n",
    "\n",
    "dp = DataProcessor(csv_path='../raw_data/', csv_name='articles1')\n",
    "df = dp.load_dataset()"
   ]
  },
  {
   "cell_type": "code",
   "execution_count": 12,
   "id": "a8a8da03",
   "metadata": {},
   "outputs": [
    {
     "name": "stdout",
     "output_type": "stream",
     "text": [
      "(3000, 2)\n"
     ]
    },
    {
     "data": {
      "text/html": [
       "<div>\n",
       "<style scoped>\n",
       "    .dataframe tbody tr th:only-of-type {\n",
       "        vertical-align: middle;\n",
       "    }\n",
       "\n",
       "    .dataframe tbody tr th {\n",
       "        vertical-align: top;\n",
       "    }\n",
       "\n",
       "    .dataframe thead th {\n",
       "        text-align: right;\n",
       "    }\n",
       "</style>\n",
       "<table border=\"1\" class=\"dataframe\">\n",
       "  <thead>\n",
       "    <tr style=\"text-align: right;\">\n",
       "      <th></th>\n",
       "      <th>date</th>\n",
       "      <th>content</th>\n",
       "    </tr>\n",
       "  </thead>\n",
       "  <tbody>\n",
       "    <tr>\n",
       "      <th>0</th>\n",
       "      <td>2016-12-31</td>\n",
       "      <td>WASHINGTON  —   Congressional Republicans have...</td>\n",
       "    </tr>\n",
       "  </tbody>\n",
       "</table>\n",
       "</div>"
      ],
      "text/plain": [
       "        date                                            content\n",
       "0 2016-12-31  WASHINGTON  —   Congressional Republicans have..."
      ]
     },
     "execution_count": 12,
     "metadata": {},
     "output_type": "execute_result"
    }
   ],
   "source": [
    "df_docs = generate_docs(df, number_of_docs)\n",
    "print(df_docs.shape)\n",
    "df_docs.head(1)"
   ]
  },
  {
   "cell_type": "code",
   "execution_count": 13,
   "id": "36f78e03",
   "metadata": {},
   "outputs": [],
   "source": [
    "topic_model = BERTopic.load('../raw_data/bert_model_2_2_3000')"
   ]
  },
  {
   "cell_type": "code",
   "execution_count": 14,
   "id": "29dc26e2",
   "metadata": {},
   "outputs": [
    {
     "name": "stdout",
     "output_type": "stream",
     "text": [
      "(62, 3)\n"
     ]
    },
    {
     "data": {
      "text/html": [
       "<div>\n",
       "<style scoped>\n",
       "    .dataframe tbody tr th:only-of-type {\n",
       "        vertical-align: middle;\n",
       "    }\n",
       "\n",
       "    .dataframe tbody tr th {\n",
       "        vertical-align: top;\n",
       "    }\n",
       "\n",
       "    .dataframe thead th {\n",
       "        text-align: right;\n",
       "    }\n",
       "</style>\n",
       "<table border=\"1\" class=\"dataframe\">\n",
       "  <thead>\n",
       "    <tr style=\"text-align: right;\">\n",
       "      <th></th>\n",
       "      <th>Topic</th>\n",
       "      <th>Count</th>\n",
       "      <th>Name</th>\n",
       "    </tr>\n",
       "  </thead>\n",
       "  <tbody>\n",
       "    <tr>\n",
       "      <th>0</th>\n",
       "      <td>-1</td>\n",
       "      <td>1143</td>\n",
       "      <td>-1_he said_mr trump_he was_that he</td>\n",
       "    </tr>\n",
       "  </tbody>\n",
       "</table>\n",
       "</div>"
      ],
      "text/plain": [
       "   Topic  Count                                Name\n",
       "0     -1   1143  -1_he said_mr trump_he was_that he"
      ]
     },
     "execution_count": 14,
     "metadata": {},
     "output_type": "execute_result"
    }
   ],
   "source": [
    "df_topics_info = generate_topic_info(topic_model, number_of_docs)\n",
    "print(df_topics_info.shape)\n",
    "df_topics_info.head(1)"
   ]
  },
  {
   "cell_type": "code",
   "execution_count": 15,
   "id": "aab86f7f",
   "metadata": {},
   "outputs": [
    {
     "name": "stdout",
     "output_type": "stream",
     "text": [
      "(620, 3)\n"
     ]
    },
    {
     "data": {
      "text/html": [
       "<div>\n",
       "<style scoped>\n",
       "    .dataframe tbody tr th:only-of-type {\n",
       "        vertical-align: middle;\n",
       "    }\n",
       "\n",
       "    .dataframe tbody tr th {\n",
       "        vertical-align: top;\n",
       "    }\n",
       "\n",
       "    .dataframe thead th {\n",
       "        text-align: right;\n",
       "    }\n",
       "</style>\n",
       "<table border=\"1\" class=\"dataframe\">\n",
       "  <thead>\n",
       "    <tr style=\"text-align: right;\">\n",
       "      <th></th>\n",
       "      <th>topic</th>\n",
       "      <th>term</th>\n",
       "      <th>weight</th>\n",
       "    </tr>\n",
       "  </thead>\n",
       "  <tbody>\n",
       "    <tr>\n",
       "      <th>0</th>\n",
       "      <td>-1_he said_mr trump_he was_that he</td>\n",
       "      <td>he said</td>\n",
       "      <td>0.00368</td>\n",
       "    </tr>\n",
       "  </tbody>\n",
       "</table>\n",
       "</div>"
      ],
      "text/plain": [
       "                                topic     term   weight\n",
       "0  -1_he said_mr trump_he was_that he  he said  0.00368"
      ]
     },
     "execution_count": 15,
     "metadata": {},
     "output_type": "execute_result"
    }
   ],
   "source": [
    "df_terms = generate_terms(topic_model, number_of_docs)\n",
    "print(df_terms.shape)\n",
    "df_terms.head(1)"
   ]
  },
  {
   "cell_type": "code",
   "execution_count": 16,
   "id": "38d9c277",
   "metadata": {},
   "outputs": [
    {
     "name": "stdout",
     "output_type": "stream",
     "text": [
      "(3844, 3)\n"
     ]
    },
    {
     "data": {
      "text/html": [
       "<div>\n",
       "<style scoped>\n",
       "    .dataframe tbody tr th:only-of-type {\n",
       "        vertical-align: middle;\n",
       "    }\n",
       "\n",
       "    .dataframe tbody tr th {\n",
       "        vertical-align: top;\n",
       "    }\n",
       "\n",
       "    .dataframe thead th {\n",
       "        text-align: right;\n",
       "    }\n",
       "</style>\n",
       "<table border=\"1\" class=\"dataframe\">\n",
       "  <thead>\n",
       "    <tr style=\"text-align: right;\">\n",
       "      <th></th>\n",
       "      <th>topic1</th>\n",
       "      <th>topic2</th>\n",
       "      <th>similarity</th>\n",
       "    </tr>\n",
       "  </thead>\n",
       "  <tbody>\n",
       "    <tr>\n",
       "      <th>0</th>\n",
       "      <td>-1_he said_mr trump_he was_that he</td>\n",
       "      <td>-1_he said_mr trump_he was_that he</td>\n",
       "      <td>1.0</td>\n",
       "    </tr>\n",
       "  </tbody>\n",
       "</table>\n",
       "</div>"
      ],
      "text/plain": [
       "                               topic1                              topic2  \\\n",
       "0  -1_he said_mr trump_he was_that he  -1_he said_mr trump_he was_that he   \n",
       "\n",
       "   similarity  \n",
       "0         1.0  "
      ]
     },
     "execution_count": 16,
     "metadata": {},
     "output_type": "execute_result"
    }
   ],
   "source": [
    "df_topic_similarity = generate_topic_similarity(topic_model, number_of_docs)\n",
    "print(df_topic_similarity.shape)\n",
    "df_topic_similarity.head(1)"
   ]
  },
  {
   "cell_type": "code",
   "execution_count": 17,
   "id": "a13d5620",
   "metadata": {},
   "outputs": [
    {
     "name": "stdout",
     "output_type": "stream",
     "text": [
      "(1709, 3)\n"
     ]
    },
    {
     "data": {
      "text/html": [
       "<div>\n",
       "<style scoped>\n",
       "    .dataframe tbody tr th:only-of-type {\n",
       "        vertical-align: middle;\n",
       "    }\n",
       "\n",
       "    .dataframe tbody tr th {\n",
       "        vertical-align: top;\n",
       "    }\n",
       "\n",
       "    .dataframe thead th {\n",
       "        text-align: right;\n",
       "    }\n",
       "</style>\n",
       "<table border=\"1\" class=\"dataframe\">\n",
       "  <thead>\n",
       "    <tr style=\"text-align: right;\">\n",
       "      <th></th>\n",
       "      <th>topic</th>\n",
       "      <th>document</th>\n",
       "      <th>lambda_val</th>\n",
       "    </tr>\n",
       "  </thead>\n",
       "  <tbody>\n",
       "    <tr>\n",
       "      <th>0</th>\n",
       "      <td>0_the new_new york_york times_climate change</td>\n",
       "      <td>2204</td>\n",
       "      <td>6.0245</td>\n",
       "    </tr>\n",
       "  </tbody>\n",
       "</table>\n",
       "</div>"
      ],
      "text/plain": [
       "                                          topic document  lambda_val\n",
       "0  0_the new_new york_york times_climate change     2204      6.0245"
      ]
     },
     "execution_count": 17,
     "metadata": {},
     "output_type": "execute_result"
    }
   ],
   "source": [
    "df_topic_documents = generate_topic_documents(topic_model, number_of_docs)\n",
    "print(df_topic_documents.shape)\n",
    "df_topic_documents.head(1)"
   ]
  },
  {
   "cell_type": "code",
   "execution_count": 18,
   "id": "00c2d182",
   "metadata": {},
   "outputs": [
    {
     "name": "stdout",
     "output_type": "stream",
     "text": [
      "(3000, 3000)\n",
      "CPU times: user 9min 38s, sys: 16 s, total: 9min 54s\n",
      "Wall time: 1min 45s\n"
     ]
    },
    {
     "data": {
      "text/plain": [
       "array([[ 1.0000004 ,  0.04089347, -0.04203755, ...,  0.21397781,\n",
       "         0.17506757,  0.2757412 ],\n",
       "       [ 0.04089347,  0.9999999 ,  0.14799452, ...,  0.08324938,\n",
       "        -0.0160458 ,  0.20328471],\n",
       "       [-0.04203755,  0.14799452,  1.0000001 , ...,  0.18919231,\n",
       "         0.17196642,  0.16383162],\n",
       "       ...,\n",
       "       [ 0.21397781,  0.08324938,  0.18919231, ...,  1.0000001 ,\n",
       "         0.6301272 ,  0.59342474],\n",
       "       [ 0.17506757, -0.0160458 ,  0.17196642, ...,  0.6301272 ,\n",
       "         0.9999997 ,  0.65144277],\n",
       "       [ 0.2757412 ,  0.20328471,  0.16383162, ...,  0.59342474,\n",
       "         0.65144277,  1.0000001 ]], dtype=float32)"
      ]
     },
     "execution_count": 18,
     "metadata": {},
     "output_type": "execute_result"
    }
   ],
   "source": [
    "%%time\n",
    "docs = df_docs['content'].values\n",
    "matrix_documents_similarity = generate_documents_similarity(topic_model, docs, number_of_docs)\n",
    "print(matrix_documents_similarity.shape)\n",
    "matrix_documents_similarity"
   ]
  },
  {
   "cell_type": "markdown",
   "id": "276d91c6",
   "metadata": {},
   "source": [
    "## Data processed"
   ]
  },
  {
   "cell_type": "code",
   "execution_count": 19,
   "id": "9a56dfda",
   "metadata": {},
   "outputs": [
    {
     "name": "stdout",
     "output_type": "stream",
     "text": [
      "(3000, 2)\n"
     ]
    },
    {
     "data": {
      "text/html": [
       "<div>\n",
       "<style scoped>\n",
       "    .dataframe tbody tr th:only-of-type {\n",
       "        vertical-align: middle;\n",
       "    }\n",
       "\n",
       "    .dataframe tbody tr th {\n",
       "        vertical-align: top;\n",
       "    }\n",
       "\n",
       "    .dataframe thead th {\n",
       "        text-align: right;\n",
       "    }\n",
       "</style>\n",
       "<table border=\"1\" class=\"dataframe\">\n",
       "  <thead>\n",
       "    <tr style=\"text-align: right;\">\n",
       "      <th></th>\n",
       "      <th>date</th>\n",
       "      <th>content</th>\n",
       "    </tr>\n",
       "  </thead>\n",
       "  <tbody>\n",
       "    <tr>\n",
       "      <th>0</th>\n",
       "      <td>2016-12-31</td>\n",
       "      <td>WASHINGTON  —   Congressional Republicans have...</td>\n",
       "    </tr>\n",
       "  </tbody>\n",
       "</table>\n",
       "</div>"
      ],
      "text/plain": [
       "         date                                            content\n",
       "0  2016-12-31  WASHINGTON  —   Congressional Republicans have..."
      ]
     },
     "execution_count": 19,
     "metadata": {},
     "output_type": "execute_result"
    }
   ],
   "source": [
    "number_of_docs = 3_000\n",
    "\n",
    "df_docs_content = pd.read_csv(f'../raw_data/BERTDocsContent_{str(number_of_docs)}.csv')\n",
    "print(df_docs_content.shape)\n",
    "df_docs_content.head(1)"
   ]
  },
  {
   "cell_type": "code",
   "execution_count": 20,
   "id": "f8c7860d",
   "metadata": {},
   "outputs": [
    {
     "name": "stdout",
     "output_type": "stream",
     "text": [
      "(62, 3)\n"
     ]
    },
    {
     "data": {
      "text/html": [
       "<div>\n",
       "<style scoped>\n",
       "    .dataframe tbody tr th:only-of-type {\n",
       "        vertical-align: middle;\n",
       "    }\n",
       "\n",
       "    .dataframe tbody tr th {\n",
       "        vertical-align: top;\n",
       "    }\n",
       "\n",
       "    .dataframe thead th {\n",
       "        text-align: right;\n",
       "    }\n",
       "</style>\n",
       "<table border=\"1\" class=\"dataframe\">\n",
       "  <thead>\n",
       "    <tr style=\"text-align: right;\">\n",
       "      <th></th>\n",
       "      <th>Topic</th>\n",
       "      <th>Count</th>\n",
       "      <th>Name</th>\n",
       "    </tr>\n",
       "  </thead>\n",
       "  <tbody>\n",
       "    <tr>\n",
       "      <th>0</th>\n",
       "      <td>-1</td>\n",
       "      <td>1143</td>\n",
       "      <td>-1_he said_mr trump_he was_that he</td>\n",
       "    </tr>\n",
       "  </tbody>\n",
       "</table>\n",
       "</div>"
      ],
      "text/plain": [
       "   Topic  Count                                Name\n",
       "0     -1   1143  -1_he said_mr trump_he was_that he"
      ]
     },
     "execution_count": 20,
     "metadata": {},
     "output_type": "execute_result"
    }
   ],
   "source": [
    "df_topic_info = pd.read_csv(f'../raw_data/BERTopicInfo_{str(number_of_docs)}.csv')\n",
    "print(df_topic_info.shape)\n",
    "df_topic_info.head(1)"
   ]
  },
  {
   "cell_type": "code",
   "execution_count": 21,
   "id": "b222fa31",
   "metadata": {},
   "outputs": [
    {
     "name": "stdout",
     "output_type": "stream",
     "text": [
      "(1709, 3)\n"
     ]
    },
    {
     "data": {
      "text/html": [
       "<div>\n",
       "<style scoped>\n",
       "    .dataframe tbody tr th:only-of-type {\n",
       "        vertical-align: middle;\n",
       "    }\n",
       "\n",
       "    .dataframe tbody tr th {\n",
       "        vertical-align: top;\n",
       "    }\n",
       "\n",
       "    .dataframe thead th {\n",
       "        text-align: right;\n",
       "    }\n",
       "</style>\n",
       "<table border=\"1\" class=\"dataframe\">\n",
       "  <thead>\n",
       "    <tr style=\"text-align: right;\">\n",
       "      <th></th>\n",
       "      <th>topic</th>\n",
       "      <th>document</th>\n",
       "      <th>lambda_val</th>\n",
       "    </tr>\n",
       "  </thead>\n",
       "  <tbody>\n",
       "    <tr>\n",
       "      <th>0</th>\n",
       "      <td>0_the new_new york_york times_climate change</td>\n",
       "      <td>2204</td>\n",
       "      <td>6.0245</td>\n",
       "    </tr>\n",
       "  </tbody>\n",
       "</table>\n",
       "</div>"
      ],
      "text/plain": [
       "                                          topic  document  lambda_val\n",
       "0  0_the new_new york_york times_climate change      2204      6.0245"
      ]
     },
     "execution_count": 21,
     "metadata": {},
     "output_type": "execute_result"
    }
   ],
   "source": [
    "df_topic_docs = pd.read_csv(f'../raw_data/BERTopicDocuments_{str(number_of_docs)}.csv')\n",
    "print(df_topic_docs.shape)\n",
    "df_topic_docs.head(1)"
   ]
  },
  {
   "cell_type": "code",
   "execution_count": 22,
   "id": "2d0a59cb",
   "metadata": {},
   "outputs": [
    {
     "name": "stdout",
     "output_type": "stream",
     "text": [
      "(620, 3)\n"
     ]
    },
    {
     "data": {
      "text/html": [
       "<div>\n",
       "<style scoped>\n",
       "    .dataframe tbody tr th:only-of-type {\n",
       "        vertical-align: middle;\n",
       "    }\n",
       "\n",
       "    .dataframe tbody tr th {\n",
       "        vertical-align: top;\n",
       "    }\n",
       "\n",
       "    .dataframe thead th {\n",
       "        text-align: right;\n",
       "    }\n",
       "</style>\n",
       "<table border=\"1\" class=\"dataframe\">\n",
       "  <thead>\n",
       "    <tr style=\"text-align: right;\">\n",
       "      <th></th>\n",
       "      <th>topic</th>\n",
       "      <th>term</th>\n",
       "      <th>weight</th>\n",
       "    </tr>\n",
       "  </thead>\n",
       "  <tbody>\n",
       "    <tr>\n",
       "      <th>0</th>\n",
       "      <td>-1_he said_mr trump_he was_that he</td>\n",
       "      <td>he said</td>\n",
       "      <td>0.00368</td>\n",
       "    </tr>\n",
       "  </tbody>\n",
       "</table>\n",
       "</div>"
      ],
      "text/plain": [
       "                                topic     term   weight\n",
       "0  -1_he said_mr trump_he was_that he  he said  0.00368"
      ]
     },
     "execution_count": 22,
     "metadata": {},
     "output_type": "execute_result"
    }
   ],
   "source": [
    "df_topic_terms = pd.read_csv(f'../raw_data/BERTopicTerms_{str(number_of_docs)}.csv')\n",
    "print(df_topic_terms.shape)\n",
    "df_topic_terms.head(1)"
   ]
  },
  {
   "cell_type": "code",
   "execution_count": 23,
   "id": "2948e350",
   "metadata": {},
   "outputs": [
    {
     "name": "stdout",
     "output_type": "stream",
     "text": [
      "(3844, 3)\n"
     ]
    },
    {
     "data": {
      "text/html": [
       "<div>\n",
       "<style scoped>\n",
       "    .dataframe tbody tr th:only-of-type {\n",
       "        vertical-align: middle;\n",
       "    }\n",
       "\n",
       "    .dataframe tbody tr th {\n",
       "        vertical-align: top;\n",
       "    }\n",
       "\n",
       "    .dataframe thead th {\n",
       "        text-align: right;\n",
       "    }\n",
       "</style>\n",
       "<table border=\"1\" class=\"dataframe\">\n",
       "  <thead>\n",
       "    <tr style=\"text-align: right;\">\n",
       "      <th></th>\n",
       "      <th>topic1</th>\n",
       "      <th>topic2</th>\n",
       "      <th>similarity</th>\n",
       "    </tr>\n",
       "  </thead>\n",
       "  <tbody>\n",
       "    <tr>\n",
       "      <th>0</th>\n",
       "      <td>-1_he said_mr trump_he was_that he</td>\n",
       "      <td>-1_he said_mr trump_he was_that he</td>\n",
       "      <td>1.0</td>\n",
       "    </tr>\n",
       "  </tbody>\n",
       "</table>\n",
       "</div>"
      ],
      "text/plain": [
       "                               topic1                              topic2  \\\n",
       "0  -1_he said_mr trump_he was_that he  -1_he said_mr trump_he was_that he   \n",
       "\n",
       "   similarity  \n",
       "0         1.0  "
      ]
     },
     "execution_count": 23,
     "metadata": {},
     "output_type": "execute_result"
    }
   ],
   "source": [
    "df_topic_sim = pd.read_csv(f'../raw_data/BERTopicSimilarity_{str(number_of_docs)}.csv')\n",
    "print(df_topic_sim.shape)\n",
    "df_topic_sim.head(1)"
   ]
  },
  {
   "cell_type": "code",
   "execution_count": 24,
   "id": "35144356",
   "metadata": {},
   "outputs": [
    {
     "name": "stdout",
     "output_type": "stream",
     "text": [
      "(3000, 3000)\n"
     ]
    },
    {
     "data": {
      "text/plain": [
       "array([[ 1.0000004 ,  0.04089347, -0.04203755, ...,  0.21397781,\n",
       "         0.17506757,  0.2757412 ],\n",
       "       [ 0.04089347,  0.9999999 ,  0.14799452, ...,  0.08324938,\n",
       "        -0.0160458 ,  0.20328471],\n",
       "       [-0.04203755,  0.14799452,  1.0000001 , ...,  0.18919231,\n",
       "         0.17196642,  0.16383162],\n",
       "       ...,\n",
       "       [ 0.21397781,  0.08324938,  0.18919231, ...,  1.0000001 ,\n",
       "         0.6301272 ,  0.59342474],\n",
       "       [ 0.17506757, -0.0160458 ,  0.17196642, ...,  0.6301272 ,\n",
       "         0.9999997 ,  0.65144277],\n",
       "       [ 0.2757412 ,  0.20328471,  0.16383162, ...,  0.59342474,\n",
       "         0.65144277,  1.0000001 ]], dtype=float32)"
      ]
     },
     "execution_count": 24,
     "metadata": {},
     "output_type": "execute_result"
    }
   ],
   "source": [
    "#matrix_docs_similarity = np.loadtxt(f'../raw_data/BERTopicDocumentsSimilarity_{str(number_of_docs)}.csv', delimiter=',')\n",
    "matrix_docs_similarity = np.load(f'../raw_data/BERTopicDocumentsSimilarity_{str(number_of_docs)}.npy')\n",
    "print(matrix_docs_similarity.shape)\n",
    "matrix_docs_similarity"
   ]
  }
 ],
 "metadata": {
  "kernelspec": {
   "display_name": "Python 3 (ipykernel)",
   "language": "python",
   "name": "python3"
  },
  "language_info": {
   "codemirror_mode": {
    "name": "ipython",
    "version": 3
   },
   "file_extension": ".py",
   "mimetype": "text/x-python",
   "name": "python",
   "nbconvert_exporter": "python",
   "pygments_lexer": "ipython3",
   "version": "3.8.6"
  },
  "toc": {
   "base_numbering": 1,
   "nav_menu": {},
   "number_sections": true,
   "sideBar": true,
   "skip_h1_title": false,
   "title_cell": "Table of Contents",
   "title_sidebar": "Contents",
   "toc_cell": false,
   "toc_position": {},
   "toc_section_display": true,
   "toc_window_display": false
  }
 },
 "nbformat": 4,
 "nbformat_minor": 5
}
