{
 "cells": [
  {
   "cell_type": "markdown",
   "id": "44861931",
   "metadata": {},
   "source": [
    "## Imports"
   ]
  },
  {
   "cell_type": "code",
   "execution_count": 1,
   "id": "0345d62d",
   "metadata": {},
   "outputs": [],
   "source": [
    "import pandas as pd\n",
    "import numpy as np"
   ]
  },
  {
   "cell_type": "code",
   "execution_count": 2,
   "id": "6c57aade",
   "metadata": {},
   "outputs": [],
   "source": [
    "%load_ext autoreload\n",
    "%autoreload 2\n",
    "from LeWagon_FinalProject.data import DataProcessor\n",
    "from LeWagon_FinalProject.graphos import Grapho\n",
    "import warnings\n",
    "warnings.filterwarnings('ignore')\n",
    "%matplotlib inline"
   ]
  },
  {
   "cell_type": "markdown",
   "id": "21c46b05",
   "metadata": {},
   "source": [
    "## Data Topics"
   ]
  },
  {
   "cell_type": "code",
   "execution_count": 3,
   "id": "b3db0eed",
   "metadata": {},
   "outputs": [
    {
     "data": {
      "text/html": [
       "<div>\n",
       "<style scoped>\n",
       "    .dataframe tbody tr th:only-of-type {\n",
       "        vertical-align: middle;\n",
       "    }\n",
       "\n",
       "    .dataframe tbody tr th {\n",
       "        vertical-align: top;\n",
       "    }\n",
       "\n",
       "    .dataframe thead th {\n",
       "        text-align: right;\n",
       "    }\n",
       "</style>\n",
       "<table border=\"1\" class=\"dataframe\">\n",
       "  <thead>\n",
       "    <tr style=\"text-align: right;\">\n",
       "      <th></th>\n",
       "      <th>document1</th>\n",
       "      <th>topic</th>\n",
       "      <th>probabilities</th>\n",
       "      <th>document1_title</th>\n",
       "      <th>document1_size</th>\n",
       "      <th>document2</th>\n",
       "      <th>similarity_previous_document</th>\n",
       "      <th>similarity_previous_topic</th>\n",
       "      <th>topic_name</th>\n",
       "      <th>sentimet_classification</th>\n",
       "      <th>sentimet_score</th>\n",
       "      <th>setiment_scale</th>\n",
       "    </tr>\n",
       "  </thead>\n",
       "  <tbody>\n",
       "    <tr>\n",
       "      <th>0</th>\n",
       "      <td>2</td>\n",
       "      <td>5</td>\n",
       "      <td>1</td>\n",
       "      <td>one year brazil bolsonaro ‘ expected</td>\n",
       "      <td>1</td>\n",
       "      <td>2.0</td>\n",
       "      <td>0.000000</td>\n",
       "      <td>0.0</td>\n",
       "      <td>5_indigenous tribe_brazil indigenous_rainfores...</td>\n",
       "      <td>neutral</td>\n",
       "      <td>0.659938</td>\n",
       "      <td>0.688700</td>\n",
       "    </tr>\n",
       "    <tr>\n",
       "      <th>1</th>\n",
       "      <td>79</td>\n",
       "      <td>5</td>\n",
       "      <td>1</td>\n",
       "      <td>south american balloon youth camp brazil world</td>\n",
       "      <td>1</td>\n",
       "      <td>2.0</td>\n",
       "      <td>0.174226</td>\n",
       "      <td>0.0</td>\n",
       "      <td>5_indigenous tribe_brazil indigenous_rainfores...</td>\n",
       "      <td>positive</td>\n",
       "      <td>0.923050</td>\n",
       "      <td>0.999336</td>\n",
       "    </tr>\n",
       "    <tr>\n",
       "      <th>2</th>\n",
       "      <td>84</td>\n",
       "      <td>5</td>\n",
       "      <td>1</td>\n",
       "      <td>brazil plan allow mining amazonian indigenous ...</td>\n",
       "      <td>2</td>\n",
       "      <td>79.0</td>\n",
       "      <td>0.387873</td>\n",
       "      <td>0.0</td>\n",
       "      <td>5_indigenous tribe_brazil indigenous_rainfores...</td>\n",
       "      <td>neutral</td>\n",
       "      <td>0.931446</td>\n",
       "      <td>0.983429</td>\n",
       "    </tr>\n",
       "    <tr>\n",
       "      <th>3</th>\n",
       "      <td>124</td>\n",
       "      <td>5</td>\n",
       "      <td>1</td>\n",
       "      <td>brazilian tribe forest tapper unite bolsonaro</td>\n",
       "      <td>3</td>\n",
       "      <td>84.0</td>\n",
       "      <td>0.350180</td>\n",
       "      <td>0.0</td>\n",
       "      <td>5_indigenous tribe_brazil indigenous_rainfores...</td>\n",
       "      <td>neutral</td>\n",
       "      <td>0.553063</td>\n",
       "      <td>0.544878</td>\n",
       "    </tr>\n",
       "    <tr>\n",
       "      <th>4</th>\n",
       "      <td>134</td>\n",
       "      <td>5</td>\n",
       "      <td>1</td>\n",
       "      <td>brazil tribe stride digital age defend culture...</td>\n",
       "      <td>1</td>\n",
       "      <td>124.0</td>\n",
       "      <td>0.420630</td>\n",
       "      <td>0.0</td>\n",
       "      <td>5_indigenous tribe_brazil indigenous_rainfores...</td>\n",
       "      <td>neutral</td>\n",
       "      <td>0.883912</td>\n",
       "      <td>0.913974</td>\n",
       "    </tr>\n",
       "  </tbody>\n",
       "</table>\n",
       "</div>"
      ],
      "text/plain": [
       "   document1  topic  probabilities  \\\n",
       "0          2      5              1   \n",
       "1         79      5              1   \n",
       "2         84      5              1   \n",
       "3        124      5              1   \n",
       "4        134      5              1   \n",
       "\n",
       "                                     document1_title  document1_size  \\\n",
       "0               one year brazil bolsonaro ‘ expected               1   \n",
       "1     south american balloon youth camp brazil world               1   \n",
       "2  brazil plan allow mining amazonian indigenous ...               2   \n",
       "3      brazilian tribe forest tapper unite bolsonaro               3   \n",
       "4  brazil tribe stride digital age defend culture...               1   \n",
       "\n",
       "   document2  similarity_previous_document  similarity_previous_topic  \\\n",
       "0        2.0                      0.000000                        0.0   \n",
       "1        2.0                      0.174226                        0.0   \n",
       "2       79.0                      0.387873                        0.0   \n",
       "3       84.0                      0.350180                        0.0   \n",
       "4      124.0                      0.420630                        0.0   \n",
       "\n",
       "                                          topic_name sentimet_classification  \\\n",
       "0  5_indigenous tribe_brazil indigenous_rainfores...                 neutral   \n",
       "1  5_indigenous tribe_brazil indigenous_rainfores...                positive   \n",
       "2  5_indigenous tribe_brazil indigenous_rainfores...                 neutral   \n",
       "3  5_indigenous tribe_brazil indigenous_rainfores...                 neutral   \n",
       "4  5_indigenous tribe_brazil indigenous_rainfores...                 neutral   \n",
       "\n",
       "   sentimet_score  setiment_scale  \n",
       "0        0.659938        0.688700  \n",
       "1        0.923050        0.999336  \n",
       "2        0.931446        0.983429  \n",
       "3        0.553063        0.544878  \n",
       "4        0.883912        0.913974  "
      ]
     },
     "execution_count": 3,
     "metadata": {},
     "output_type": "execute_result"
    }
   ],
   "source": [
    "dp = DataProcessor(csv_path='../raw_data/proj_final/10_docs_per_topic_brazil_preproced/', csv_name='2020_1_graph_data')\n",
    "df = dp.load_dataset()\n",
    "df.head()"
   ]
  },
  {
   "cell_type": "markdown",
   "id": "aed51654",
   "metadata": {},
   "source": [
    "## Data Similarity"
   ]
  },
  {
   "cell_type": "code",
   "execution_count": 4,
   "id": "1aad2e31",
   "metadata": {},
   "outputs": [
    {
     "data": {
      "text/plain": [
       "(329, 329)"
      ]
     },
     "execution_count": 4,
     "metadata": {},
     "output_type": "execute_result"
    }
   ],
   "source": [
    "dp_1 = DataProcessor(csv_path='../raw_data/proj_final/10_docs_per_topic_brazil_preproced/', csv_name='2020_1_BERTopic_DocumentsSimilarity')\n",
    "similar = dp_1.load_npy()\n",
    "\n",
    "similar.shape"
   ]
  },
  {
   "cell_type": "markdown",
   "id": "0e73bda0",
   "metadata": {},
   "source": [
    "## Create Grapho"
   ]
  },
  {
   "cell_type": "code",
   "execution_count": 5,
   "id": "677a505a",
   "metadata": {},
   "outputs": [],
   "source": [
    "grapho = Grapho(similar, df)\n",
    "grapho.prepare_data()"
   ]
  },
  {
   "cell_type": "code",
   "execution_count": 6,
   "id": "2841f955",
   "metadata": {},
   "outputs": [],
   "source": [
    "grapho.filter(weight=0.01, min_topic_news=0)"
   ]
  },
  {
   "cell_type": "code",
   "execution_count": 7,
   "id": "06f078f9",
   "metadata": {},
   "outputs": [],
   "source": [
    "grapho.calculate_order(strategy='topic_similarity')"
   ]
  },
  {
   "cell_type": "code",
   "execution_count": 8,
   "id": "a669ce98",
   "metadata": {},
   "outputs": [],
   "source": [
    "grapho.hilbert_d(num_bits=9, num_dims=2)"
   ]
  },
  {
   "cell_type": "code",
   "execution_count": 9,
   "id": "cdcd0b00",
   "metadata": {},
   "outputs": [],
   "source": [
    "# grapho.plot_hilbert()"
   ]
  },
  {
   "cell_type": "code",
   "execution_count": 10,
   "id": "0fd1ff4d",
   "metadata": {},
   "outputs": [],
   "source": [
    "grapho.calculate_hilbert_line(spacing_mul=100, strategy='ia')"
   ]
  },
  {
   "cell_type": "code",
   "execution_count": 11,
   "id": "452a7ade",
   "metadata": {},
   "outputs": [],
   "source": [
    "# grapho.plot_hilbert(data=True)"
   ]
  },
  {
   "cell_type": "code",
   "execution_count": 12,
   "id": "8c54b374",
   "metadata": {},
   "outputs": [],
   "source": [
    "grapho.add_list_edge_node()"
   ]
  },
  {
   "cell_type": "code",
   "execution_count": 13,
   "id": "7547bc6a",
   "metadata": {
    "scrolled": true
   },
   "outputs": [],
   "source": [
    "#grapho.plot_bezier(tam=70)"
   ]
  },
  {
   "cell_type": "code",
   "execution_count": 14,
   "id": "6c8ca9b3",
   "metadata": {},
   "outputs": [],
   "source": [
    "grapho.curve_to_df()"
   ]
  },
  {
   "cell_type": "code",
   "execution_count": 15,
   "id": "4901a68e",
   "metadata": {},
   "outputs": [],
   "source": [
    "grapho.topic_minmax()"
   ]
  },
  {
   "cell_type": "code",
   "execution_count": 16,
   "id": "94938b0d",
   "metadata": {},
   "outputs": [],
   "source": [
    "grapho.change_sentiment()"
   ]
  },
  {
   "cell_type": "code",
   "execution_count": 17,
   "id": "237356a0",
   "metadata": {},
   "outputs": [
    {
     "data": {
      "text/html": [
       "\n",
       "    <div class=\"bk-root\">\n",
       "        <a href=\"https://bokeh.org\" target=\"_blank\" class=\"bk-logo bk-logo-small bk-logo-notebook\"></a>\n",
       "        <span id=\"1002\">Loading BokehJS ...</span>\n",
       "    </div>"
      ]
     },
     "metadata": {},
     "output_type": "display_data"
    },
    {
     "data": {
      "application/javascript": [
       "\n",
       "(function(root) {\n",
       "  function now() {\n",
       "    return new Date();\n",
       "  }\n",
       "\n",
       "  var force = true;\n",
       "\n",
       "  if (typeof root._bokeh_onload_callbacks === \"undefined\" || force === true) {\n",
       "    root._bokeh_onload_callbacks = [];\n",
       "    root._bokeh_is_loading = undefined;\n",
       "  }\n",
       "\n",
       "  var JS_MIME_TYPE = 'application/javascript';\n",
       "  var HTML_MIME_TYPE = 'text/html';\n",
       "  var EXEC_MIME_TYPE = 'application/vnd.bokehjs_exec.v0+json';\n",
       "  var CLASS_NAME = 'output_bokeh rendered_html';\n",
       "\n",
       "  /**\n",
       "   * Render data to the DOM node\n",
       "   */\n",
       "  function render(props, node) {\n",
       "    var script = document.createElement(\"script\");\n",
       "    node.appendChild(script);\n",
       "  }\n",
       "\n",
       "  /**\n",
       "   * Handle when an output is cleared or removed\n",
       "   */\n",
       "  function handleClearOutput(event, handle) {\n",
       "    var cell = handle.cell;\n",
       "\n",
       "    var id = cell.output_area._bokeh_element_id;\n",
       "    var server_id = cell.output_area._bokeh_server_id;\n",
       "    // Clean up Bokeh references\n",
       "    if (id != null && id in Bokeh.index) {\n",
       "      Bokeh.index[id].model.document.clear();\n",
       "      delete Bokeh.index[id];\n",
       "    }\n",
       "\n",
       "    if (server_id !== undefined) {\n",
       "      // Clean up Bokeh references\n",
       "      var cmd = \"from bokeh.io.state import curstate; print(curstate().uuid_to_server['\" + server_id + \"'].get_sessions()[0].document.roots[0]._id)\";\n",
       "      cell.notebook.kernel.execute(cmd, {\n",
       "        iopub: {\n",
       "          output: function(msg) {\n",
       "            var id = msg.content.text.trim();\n",
       "            if (id in Bokeh.index) {\n",
       "              Bokeh.index[id].model.document.clear();\n",
       "              delete Bokeh.index[id];\n",
       "            }\n",
       "          }\n",
       "        }\n",
       "      });\n",
       "      // Destroy server and session\n",
       "      var cmd = \"import bokeh.io.notebook as ion; ion.destroy_server('\" + server_id + \"')\";\n",
       "      cell.notebook.kernel.execute(cmd);\n",
       "    }\n",
       "  }\n",
       "\n",
       "  /**\n",
       "   * Handle when a new output is added\n",
       "   */\n",
       "  function handleAddOutput(event, handle) {\n",
       "    var output_area = handle.output_area;\n",
       "    var output = handle.output;\n",
       "\n",
       "    // limit handleAddOutput to display_data with EXEC_MIME_TYPE content only\n",
       "    if ((output.output_type != \"display_data\") || (!Object.prototype.hasOwnProperty.call(output.data, EXEC_MIME_TYPE))) {\n",
       "      return\n",
       "    }\n",
       "\n",
       "    var toinsert = output_area.element.find(\".\" + CLASS_NAME.split(' ')[0]);\n",
       "\n",
       "    if (output.metadata[EXEC_MIME_TYPE][\"id\"] !== undefined) {\n",
       "      toinsert[toinsert.length - 1].firstChild.textContent = output.data[JS_MIME_TYPE];\n",
       "      // store reference to embed id on output_area\n",
       "      output_area._bokeh_element_id = output.metadata[EXEC_MIME_TYPE][\"id\"];\n",
       "    }\n",
       "    if (output.metadata[EXEC_MIME_TYPE][\"server_id\"] !== undefined) {\n",
       "      var bk_div = document.createElement(\"div\");\n",
       "      bk_div.innerHTML = output.data[HTML_MIME_TYPE];\n",
       "      var script_attrs = bk_div.children[0].attributes;\n",
       "      for (var i = 0; i < script_attrs.length; i++) {\n",
       "        toinsert[toinsert.length - 1].firstChild.setAttribute(script_attrs[i].name, script_attrs[i].value);\n",
       "        toinsert[toinsert.length - 1].firstChild.textContent = bk_div.children[0].textContent\n",
       "      }\n",
       "      // store reference to server id on output_area\n",
       "      output_area._bokeh_server_id = output.metadata[EXEC_MIME_TYPE][\"server_id\"];\n",
       "    }\n",
       "  }\n",
       "\n",
       "  function register_renderer(events, OutputArea) {\n",
       "\n",
       "    function append_mime(data, metadata, element) {\n",
       "      // create a DOM node to render to\n",
       "      var toinsert = this.create_output_subarea(\n",
       "        metadata,\n",
       "        CLASS_NAME,\n",
       "        EXEC_MIME_TYPE\n",
       "      );\n",
       "      this.keyboard_manager.register_events(toinsert);\n",
       "      // Render to node\n",
       "      var props = {data: data, metadata: metadata[EXEC_MIME_TYPE]};\n",
       "      render(props, toinsert[toinsert.length - 1]);\n",
       "      element.append(toinsert);\n",
       "      return toinsert\n",
       "    }\n",
       "\n",
       "    /* Handle when an output is cleared or removed */\n",
       "    events.on('clear_output.CodeCell', handleClearOutput);\n",
       "    events.on('delete.Cell', handleClearOutput);\n",
       "\n",
       "    /* Handle when a new output is added */\n",
       "    events.on('output_added.OutputArea', handleAddOutput);\n",
       "\n",
       "    /**\n",
       "     * Register the mime type and append_mime function with output_area\n",
       "     */\n",
       "    OutputArea.prototype.register_mime_type(EXEC_MIME_TYPE, append_mime, {\n",
       "      /* Is output safe? */\n",
       "      safe: true,\n",
       "      /* Index of renderer in `output_area.display_order` */\n",
       "      index: 0\n",
       "    });\n",
       "  }\n",
       "\n",
       "  // register the mime type if in Jupyter Notebook environment and previously unregistered\n",
       "  if (root.Jupyter !== undefined) {\n",
       "    var events = require('base/js/events');\n",
       "    var OutputArea = require('notebook/js/outputarea').OutputArea;\n",
       "\n",
       "    if (OutputArea.prototype.mime_types().indexOf(EXEC_MIME_TYPE) == -1) {\n",
       "      register_renderer(events, OutputArea);\n",
       "    }\n",
       "  }\n",
       "\n",
       "  \n",
       "  if (typeof (root._bokeh_timeout) === \"undefined\" || force === true) {\n",
       "    root._bokeh_timeout = Date.now() + 5000;\n",
       "    root._bokeh_failed_load = false;\n",
       "  }\n",
       "\n",
       "  var NB_LOAD_WARNING = {'data': {'text/html':\n",
       "     \"<div style='background-color: #fdd'>\\n\"+\n",
       "     \"<p>\\n\"+\n",
       "     \"BokehJS does not appear to have successfully loaded. If loading BokehJS from CDN, this \\n\"+\n",
       "     \"may be due to a slow or bad network connection. Possible fixes:\\n\"+\n",
       "     \"</p>\\n\"+\n",
       "     \"<ul>\\n\"+\n",
       "     \"<li>re-rerun `output_notebook()` to attempt to load from CDN again, or</li>\\n\"+\n",
       "     \"<li>use INLINE resources instead, as so:</li>\\n\"+\n",
       "     \"</ul>\\n\"+\n",
       "     \"<code>\\n\"+\n",
       "     \"from bokeh.resources import INLINE\\n\"+\n",
       "     \"output_notebook(resources=INLINE)\\n\"+\n",
       "     \"</code>\\n\"+\n",
       "     \"</div>\"}};\n",
       "\n",
       "  function display_loaded() {\n",
       "    var el = document.getElementById(\"1002\");\n",
       "    if (el != null) {\n",
       "      el.textContent = \"BokehJS is loading...\";\n",
       "    }\n",
       "    if (root.Bokeh !== undefined) {\n",
       "      if (el != null) {\n",
       "        el.textContent = \"BokehJS \" + root.Bokeh.version + \" successfully loaded.\";\n",
       "      }\n",
       "    } else if (Date.now() < root._bokeh_timeout) {\n",
       "      setTimeout(display_loaded, 100)\n",
       "    }\n",
       "  }\n",
       "\n",
       "\n",
       "  function run_callbacks() {\n",
       "    try {\n",
       "      root._bokeh_onload_callbacks.forEach(function(callback) {\n",
       "        if (callback != null)\n",
       "          callback();\n",
       "      });\n",
       "    } finally {\n",
       "      delete root._bokeh_onload_callbacks\n",
       "    }\n",
       "    console.debug(\"Bokeh: all callbacks have finished\");\n",
       "  }\n",
       "\n",
       "  function load_libs(css_urls, js_urls, callback) {\n",
       "    if (css_urls == null) css_urls = [];\n",
       "    if (js_urls == null) js_urls = [];\n",
       "\n",
       "    root._bokeh_onload_callbacks.push(callback);\n",
       "    if (root._bokeh_is_loading > 0) {\n",
       "      console.debug(\"Bokeh: BokehJS is being loaded, scheduling callback at\", now());\n",
       "      return null;\n",
       "    }\n",
       "    if (js_urls == null || js_urls.length === 0) {\n",
       "      run_callbacks();\n",
       "      return null;\n",
       "    }\n",
       "    console.debug(\"Bokeh: BokehJS not loaded, scheduling load and callback at\", now());\n",
       "    root._bokeh_is_loading = css_urls.length + js_urls.length;\n",
       "\n",
       "    function on_load() {\n",
       "      root._bokeh_is_loading--;\n",
       "      if (root._bokeh_is_loading === 0) {\n",
       "        console.debug(\"Bokeh: all BokehJS libraries/stylesheets loaded\");\n",
       "        run_callbacks()\n",
       "      }\n",
       "    }\n",
       "\n",
       "    function on_error(url) {\n",
       "      console.error(\"failed to load \" + url);\n",
       "    }\n",
       "\n",
       "    for (let i = 0; i < css_urls.length; i++) {\n",
       "      const url = css_urls[i];\n",
       "      const element = document.createElement(\"link\");\n",
       "      element.onload = on_load;\n",
       "      element.onerror = on_error.bind(null, url);\n",
       "      element.rel = \"stylesheet\";\n",
       "      element.type = \"text/css\";\n",
       "      element.href = url;\n",
       "      console.debug(\"Bokeh: injecting link tag for BokehJS stylesheet: \", url);\n",
       "      document.body.appendChild(element);\n",
       "    }\n",
       "\n",
       "    const hashes = {\"https://cdn.bokeh.org/bokeh/release/bokeh-2.3.3.min.js\": \"dM3QQsP+wXdHg42wTqW85BjZQdLNNIXqlPw/BgKoExPmTG7ZLML4EGqLMfqHT6ON\", \"https://cdn.bokeh.org/bokeh/release/bokeh-tables-2.3.3.min.js\": \"8x57I4YuIfu8XyZfFo0XVr2WAT8EK4rh/uDe3wF7YuW2FNUSNEpJbsPaB1nJ2fz2\", \"https://cdn.bokeh.org/bokeh/release/bokeh-widgets-2.3.3.min.js\": \"3QTqdz9LyAm2i0sG5XTePsHec3UHWwVsrOL68SYRoAXsafvfAyqtQ+h440+qIBhS\"};\n",
       "\n",
       "    for (let i = 0; i < js_urls.length; i++) {\n",
       "      const url = js_urls[i];\n",
       "      const element = document.createElement('script');\n",
       "      element.onload = on_load;\n",
       "      element.onerror = on_error.bind(null, url);\n",
       "      element.async = false;\n",
       "      element.src = url;\n",
       "      if (url in hashes) {\n",
       "        element.crossOrigin = \"anonymous\";\n",
       "        element.integrity = \"sha384-\" + hashes[url];\n",
       "      }\n",
       "      console.debug(\"Bokeh: injecting script tag for BokehJS library: \", url);\n",
       "      document.head.appendChild(element);\n",
       "    }\n",
       "  };\n",
       "\n",
       "  function inject_raw_css(css) {\n",
       "    const element = document.createElement(\"style\");\n",
       "    element.appendChild(document.createTextNode(css));\n",
       "    document.body.appendChild(element);\n",
       "  }\n",
       "\n",
       "  \n",
       "  var js_urls = [\"https://cdn.bokeh.org/bokeh/release/bokeh-2.3.3.min.js\", \"https://cdn.bokeh.org/bokeh/release/bokeh-widgets-2.3.3.min.js\", \"https://cdn.bokeh.org/bokeh/release/bokeh-tables-2.3.3.min.js\", \"https://unpkg.com/@holoviz/panel@0.12.0/dist/panel.min.js\"];\n",
       "  var css_urls = [];\n",
       "  \n",
       "\n",
       "  var inline_js = [\n",
       "    function(Bokeh) {\n",
       "      Bokeh.set_log_level(\"info\");\n",
       "    },\n",
       "    function(Bokeh) {\n",
       "    \n",
       "    \n",
       "    }\n",
       "  ];\n",
       "\n",
       "  function run_inline_js() {\n",
       "    \n",
       "    if (root.Bokeh !== undefined || force === true) {\n",
       "      \n",
       "    for (var i = 0; i < inline_js.length; i++) {\n",
       "      inline_js[i].call(root, root.Bokeh);\n",
       "    }\n",
       "    if (force === true) {\n",
       "        display_loaded();\n",
       "      }} else if (Date.now() < root._bokeh_timeout) {\n",
       "      setTimeout(run_inline_js, 100);\n",
       "    } else if (!root._bokeh_failed_load) {\n",
       "      console.log(\"Bokeh: BokehJS failed to load within specified timeout.\");\n",
       "      root._bokeh_failed_load = true;\n",
       "    } else if (force !== true) {\n",
       "      var cell = $(document.getElementById(\"1002\")).parents('.cell').data().cell;\n",
       "      cell.output_area.append_execute_result(NB_LOAD_WARNING)\n",
       "    }\n",
       "\n",
       "  }\n",
       "\n",
       "  if (root._bokeh_is_loading === 0) {\n",
       "    console.debug(\"Bokeh: BokehJS loaded, going straight to plotting\");\n",
       "    run_inline_js();\n",
       "  } else {\n",
       "    load_libs(css_urls, js_urls, function() {\n",
       "      console.debug(\"Bokeh: BokehJS plotting callback run at\", now());\n",
       "      run_inline_js();\n",
       "    });\n",
       "  }\n",
       "}(window));"
      ],
      "application/vnd.bokehjs_load.v0+json": "\n(function(root) {\n  function now() {\n    return new Date();\n  }\n\n  var force = true;\n\n  if (typeof root._bokeh_onload_callbacks === \"undefined\" || force === true) {\n    root._bokeh_onload_callbacks = [];\n    root._bokeh_is_loading = undefined;\n  }\n\n  \n\n  \n  if (typeof (root._bokeh_timeout) === \"undefined\" || force === true) {\n    root._bokeh_timeout = Date.now() + 5000;\n    root._bokeh_failed_load = false;\n  }\n\n  var NB_LOAD_WARNING = {'data': {'text/html':\n     \"<div style='background-color: #fdd'>\\n\"+\n     \"<p>\\n\"+\n     \"BokehJS does not appear to have successfully loaded. If loading BokehJS from CDN, this \\n\"+\n     \"may be due to a slow or bad network connection. Possible fixes:\\n\"+\n     \"</p>\\n\"+\n     \"<ul>\\n\"+\n     \"<li>re-rerun `output_notebook()` to attempt to load from CDN again, or</li>\\n\"+\n     \"<li>use INLINE resources instead, as so:</li>\\n\"+\n     \"</ul>\\n\"+\n     \"<code>\\n\"+\n     \"from bokeh.resources import INLINE\\n\"+\n     \"output_notebook(resources=INLINE)\\n\"+\n     \"</code>\\n\"+\n     \"</div>\"}};\n\n  function display_loaded() {\n    var el = document.getElementById(\"1002\");\n    if (el != null) {\n      el.textContent = \"BokehJS is loading...\";\n    }\n    if (root.Bokeh !== undefined) {\n      if (el != null) {\n        el.textContent = \"BokehJS \" + root.Bokeh.version + \" successfully loaded.\";\n      }\n    } else if (Date.now() < root._bokeh_timeout) {\n      setTimeout(display_loaded, 100)\n    }\n  }\n\n\n  function run_callbacks() {\n    try {\n      root._bokeh_onload_callbacks.forEach(function(callback) {\n        if (callback != null)\n          callback();\n      });\n    } finally {\n      delete root._bokeh_onload_callbacks\n    }\n    console.debug(\"Bokeh: all callbacks have finished\");\n  }\n\n  function load_libs(css_urls, js_urls, callback) {\n    if (css_urls == null) css_urls = [];\n    if (js_urls == null) js_urls = [];\n\n    root._bokeh_onload_callbacks.push(callback);\n    if (root._bokeh_is_loading > 0) {\n      console.debug(\"Bokeh: BokehJS is being loaded, scheduling callback at\", now());\n      return null;\n    }\n    if (js_urls == null || js_urls.length === 0) {\n      run_callbacks();\n      return null;\n    }\n    console.debug(\"Bokeh: BokehJS not loaded, scheduling load and callback at\", now());\n    root._bokeh_is_loading = css_urls.length + js_urls.length;\n\n    function on_load() {\n      root._bokeh_is_loading--;\n      if (root._bokeh_is_loading === 0) {\n        console.debug(\"Bokeh: all BokehJS libraries/stylesheets loaded\");\n        run_callbacks()\n      }\n    }\n\n    function on_error(url) {\n      console.error(\"failed to load \" + url);\n    }\n\n    for (let i = 0; i < css_urls.length; i++) {\n      const url = css_urls[i];\n      const element = document.createElement(\"link\");\n      element.onload = on_load;\n      element.onerror = on_error.bind(null, url);\n      element.rel = \"stylesheet\";\n      element.type = \"text/css\";\n      element.href = url;\n      console.debug(\"Bokeh: injecting link tag for BokehJS stylesheet: \", url);\n      document.body.appendChild(element);\n    }\n\n    const hashes = {\"https://cdn.bokeh.org/bokeh/release/bokeh-2.3.3.min.js\": \"dM3QQsP+wXdHg42wTqW85BjZQdLNNIXqlPw/BgKoExPmTG7ZLML4EGqLMfqHT6ON\", \"https://cdn.bokeh.org/bokeh/release/bokeh-tables-2.3.3.min.js\": \"8x57I4YuIfu8XyZfFo0XVr2WAT8EK4rh/uDe3wF7YuW2FNUSNEpJbsPaB1nJ2fz2\", \"https://cdn.bokeh.org/bokeh/release/bokeh-widgets-2.3.3.min.js\": \"3QTqdz9LyAm2i0sG5XTePsHec3UHWwVsrOL68SYRoAXsafvfAyqtQ+h440+qIBhS\"};\n\n    for (let i = 0; i < js_urls.length; i++) {\n      const url = js_urls[i];\n      const element = document.createElement('script');\n      element.onload = on_load;\n      element.onerror = on_error.bind(null, url);\n      element.async = false;\n      element.src = url;\n      if (url in hashes) {\n        element.crossOrigin = \"anonymous\";\n        element.integrity = \"sha384-\" + hashes[url];\n      }\n      console.debug(\"Bokeh: injecting script tag for BokehJS library: \", url);\n      document.head.appendChild(element);\n    }\n  };\n\n  function inject_raw_css(css) {\n    const element = document.createElement(\"style\");\n    element.appendChild(document.createTextNode(css));\n    document.body.appendChild(element);\n  }\n\n  \n  var js_urls = [\"https://cdn.bokeh.org/bokeh/release/bokeh-2.3.3.min.js\", \"https://cdn.bokeh.org/bokeh/release/bokeh-widgets-2.3.3.min.js\", \"https://cdn.bokeh.org/bokeh/release/bokeh-tables-2.3.3.min.js\", \"https://unpkg.com/@holoviz/panel@0.12.0/dist/panel.min.js\"];\n  var css_urls = [];\n  \n\n  var inline_js = [\n    function(Bokeh) {\n      Bokeh.set_log_level(\"info\");\n    },\n    function(Bokeh) {\n    \n    \n    }\n  ];\n\n  function run_inline_js() {\n    \n    if (root.Bokeh !== undefined || force === true) {\n      \n    for (var i = 0; i < inline_js.length; i++) {\n      inline_js[i].call(root, root.Bokeh);\n    }\n    if (force === true) {\n        display_loaded();\n      }} else if (Date.now() < root._bokeh_timeout) {\n      setTimeout(run_inline_js, 100);\n    } else if (!root._bokeh_failed_load) {\n      console.log(\"Bokeh: BokehJS failed to load within specified timeout.\");\n      root._bokeh_failed_load = true;\n    } else if (force !== true) {\n      var cell = $(document.getElementById(\"1002\")).parents('.cell').data().cell;\n      cell.output_area.append_execute_result(NB_LOAD_WARNING)\n    }\n\n  }\n\n  if (root._bokeh_is_loading === 0) {\n    console.debug(\"Bokeh: BokehJS loaded, going straight to plotting\");\n    run_inline_js();\n  } else {\n    load_libs(css_urls, js_urls, function() {\n      console.debug(\"Bokeh: BokehJS plotting callback run at\", now());\n      run_inline_js();\n    });\n  }\n}(window));"
     },
     "metadata": {},
     "output_type": "display_data"
    },
    {
     "data": {
      "text/html": [
       "\n",
       "\n",
       "\n",
       "\n",
       "\n",
       "\n",
       "  <div class=\"bk-root\" id=\"ca776105-4793-478e-b5f3-ee78ade5ea69\" data-root-id=\"1006\"></div>\n"
      ]
     },
     "metadata": {},
     "output_type": "display_data"
    },
    {
     "data": {
      "application/javascript": [
       "(function(root) {\n",
       "  function embed_document(root) {\n",
       "    \n",
       "  var docs_json = {\"86af1121-7185-4c9c-9c40-a8e1ed171eca\":{\"defs\":[{\"extends\":null,\"module\":null,\"name\":\"ReactiveHTML1\",\"overrides\":[],\"properties\":[]},{\"extends\":null,\"module\":null,\"name\":\"FlexBox1\",\"overrides\":[],\"properties\":[{\"default\":\"flex-start\",\"kind\":null,\"name\":\"align_content\"},{\"default\":\"flex-start\",\"kind\":null,\"name\":\"align_items\"},{\"default\":\"row\",\"kind\":null,\"name\":\"flex_direction\"},{\"default\":\"wrap\",\"kind\":null,\"name\":\"flex_wrap\"},{\"default\":\"flex-start\",\"kind\":null,\"name\":\"justify_content\"}]},{\"extends\":null,\"module\":null,\"name\":\"TemplateActions1\",\"overrides\":[],\"properties\":[{\"default\":0,\"kind\":null,\"name\":\"open_modal\"},{\"default\":0,\"kind\":null,\"name\":\"close_modal\"}]},{\"extends\":null,\"module\":null,\"name\":\"MaterialTemplateActions1\",\"overrides\":[],\"properties\":[{\"default\":0,\"kind\":null,\"name\":\"open_modal\"},{\"default\":0,\"kind\":null,\"name\":\"close_modal\"}]}],\"roots\":{\"references\":[{\"attributes\":{\"background_fill_color\":\"#3f3f3f\",\"below\":[{\"id\":\"1015\"}],\"border_fill_color\":\"#2f2f2f\",\"center\":[{\"id\":\"1018\"},{\"id\":\"1022\"}],\"height\":900,\"left\":[{\"id\":\"1019\"}],\"outline_line_alpha\":0.25,\"outline_line_color\":\"#E0E0E0\",\"renderers\":[{\"id\":\"1038\"},{\"id\":\"1042\"},{\"id\":\"1045\"}],\"title\":{\"id\":\"1050\"},\"toolbar\":{\"id\":\"1030\"},\"width\":900,\"x_range\":{\"id\":\"1007\"},\"x_scale\":{\"id\":\"1011\"},\"y_range\":{\"id\":\"1009\"},\"y_scale\":{\"id\":\"1013\"}},\"id\":\"1006\",\"subtype\":\"Figure\",\"type\":\"Plot\"},{\"attributes\":{\"axis_label_standoff\":10,\"axis_label_text_color\":\"#E0E0E0\",\"axis_label_text_font\":\"Helvetica\",\"axis_label_text_font_size\":\"1.25em\",\"axis_label_text_font_style\":\"normal\",\"axis_line_alpha\":0,\"axis_line_color\":\"#E0E0E0\",\"formatter\":{\"id\":\"1054\"},\"major_label_policy\":{\"id\":\"1056\"},\"major_label_text_color\":\"#E0E0E0\",\"major_label_text_font\":\"Helvetica\",\"major_label_text_font_size\":\"1.025em\",\"major_tick_line_alpha\":0,\"major_tick_line_color\":\"#E0E0E0\",\"minor_tick_line_alpha\":0,\"minor_tick_line_color\":\"#E0E0E0\",\"ticker\":{\"id\":\"1020\"},\"visible\":false},\"id\":\"1019\",\"type\":\"LinearAxis\"},{\"attributes\":{},\"id\":\"1009\",\"type\":\"DataRange1d\"},{\"attributes\":{},\"id\":\"1060\",\"type\":\"Selection\"},{\"attributes\":{},\"id\":\"1011\",\"type\":\"LinearScale\"},{\"attributes\":{},\"id\":\"1061\",\"type\":\"UnionRenderers\"},{\"attributes\":{},\"id\":\"1054\",\"type\":\"BasicTickFormatter\"},{\"attributes\":{\"data_source\":{\"id\":\"1040\"},\"glyph\":{\"id\":\"1041\"},\"hover_glyph\":null,\"muted_glyph\":null,\"view\":{\"id\":\"1043\"}},\"id\":\"1042\",\"type\":\"GlyphRenderer\"},{\"attributes\":{},\"id\":\"1016\",\"type\":\"BasicTicker\"},{\"attributes\":{\"axis\":{\"id\":\"1015\"},\"grid_line_alpha\":0.25,\"grid_line_color\":null,\"ticker\":null},\"id\":\"1018\",\"type\":\"Grid\"},{\"attributes\":{\"line_alpha\":{\"value\":0.6},\"line_color\":{\"value\":\"#ff3300\"},\"xs\":{\"field\":\"x\"},\"ys\":{\"field\":\"y\"}},\"id\":\"1041\",\"type\":\"MultiLine\"},{\"attributes\":{},\"id\":\"1056\",\"type\":\"AllLabels\"},{\"attributes\":{\"data\":{\"xs\":[{\"__ndarray__\":\"Ti6A3HbZdUDWS2lP6tV1QDQzZc2D03VACHBvkTXSdUDxjYPW8dF1QIoYndeq0nVAb5u3z1LUdUA/os7529Z1QJq43ZA42nVAG2rgz1redUBbQtLxNON1QP7MrjG56HVAoJVxytnudUDaJxb3iPV1QE8PmPK4/HVAmtfy91sEdkBXDCJCZAx2QCU5IQzEFHZAoenrkG0ddkBpqX0LUyZ2QA==\",\"dtype\":\"float64\",\"order\":\"little\",\"shape\":[20]},{\"__ndarray__\":\"AAAAAABQdEAuHB3lpkJ0QNEzkQxnO3RAEA/6M+w5dEAWdvUY4j10QAYxIXn0RnRABAgbEs9UdEA7w4ChHWd0QNAq8OSLfXRA6gYHmsWXdECtH2N+drV0QEI9ok9K1nRA0Cdiy+z5dEB8p0CvCSB1QGuE27hMSHVAyIbQpWFydUC0dr0z9J11QFocQCCwynVA3j/2KEH4dUBpqX0LUyZ2QA==\",\"dtype\":\"float64\",\"order\":\"little\",\"shape\":[20]},{\"__ndarray__\":\"aal9C1MmdkCgilGHGBJ2QLMJuDylAnZAT7Ei+cr3dUAgDAOKW/F1QM6kyrwo73VAAAbrXgTxdUBjutU9wPZ1QKRM/CYuAHZAbEfQ5x8NdkBfNcNNZx12QC6hRibWMHZAghXMPj5HdkADHcVkcWB2QFxCo2VBfHZAOBDYDoCadkBAEdUt/7p2QCHQC5CQ3XZAgdftAgYCd0AMsuxTMSh3QA==\",\"dtype\":\"float64\",\"order\":\"little\",\"shape\":[20]},{\"__ndarray__\":\"wBgdGYafdEB+kEyUH4B0QDjzYAYMaHRAafwmbAVXdECbZ2vCxUx0QEjw+gUHSXRA7VGiM4NLdEAPSC5I9FN0QC+Oa0AUYnRAyN8mGZ11dEBc+CzPSI50QG6TSl/Rq3RAfGxMxvDNdEAFP/8AYfR0QIrGLwzcHnVAi76q5BtNdUCI4jyH2n51QALusvDRs3VAdpzZHbzrdUBpqX0LUyZ2QA==\",\"dtype\":\"float64\",\"order\":\"little\",\"shape\":[20]},{\"__ndarray__\":\"AAAAAABQdEDEqfVnLHV0QMwc4esTmnRAopVkDnC+dEDTUCJS+uF0QOWKvDlsBHVAYYDVR38ldUDPbQ//7ER1QLyPDOJuYnVAryJvc759dUAwY9k1lZZ1QMqN7ausrHVABt9NWL6/dUBrk5y9g891QIXne16223VA3BeOvQ/kdUD4YHVdSeh1QGT/08Ac6HVAqS9MakPjdUBOLoDcdtl1QA==\",\"dtype\":\"float64\",\"order\":\"little\",\"shape\":[20]},{\"__ndarray__\":\"Ti6A3HbZdUBNz+XSIc51QNv+Fg1Yx3VARtOAk93EdUDUYpBudsZ1QMvDsqbmy3VAcgxVRPLUdUASU+RPXeF1QPOtzdHr8HVAXTN+0mEDdkCU+WJagxh2QOIW6XEUMHZAj6F9IdlJdkDhr41xlWV2QCBYhmoNg3ZAlbDUFAWidkCFz+V4QMJ2QDrLJp+D43ZA+rkEkJIFd0AMsuxTMSh3QA==\",\"dtype\":\"float64\",\"order\":\"little\",\"shape\":[20]},{\"__ndarray__\":\"wBgdGYafdEDqZS+MN9F0QONjizR4AHVAjkIC1A8tdUDPMWUsxlZ1QIdhhf9ifXVAlwE0D66gdUDjQUIdb8B1QFFSgett3HVAv2LCO3L0dUASo9bPQwh2QCxDj2mqF3ZA8nK9ym0idkBCYjK1VSh2QANBv+opKXZAFj81LbIkdkBejGU+thp2QL5YIeD9CnZAGNQ51FD1dUBOLoDcdtl1QA==\",\"dtype\":\"float64\",\"order\":\"little\",\"shape\":[20]},{\"__ndarray__\":\"AAAAAABQdEAqiR/98Xl0QHHR7+5Fp3RAOw4bAGnXdEDzdEtbyAl1QAA7KyvRPXVAxZVkmvBydUCtuqHTk6h1QCLfjAEo3nVAijjQThoTdkBK/BXm10Z2QM1fCPLNeHZAeZhRnWmodkC225sSGNV2QO1ekXxG/nZAhFfcBWIjd0Dj+ibZ10N3QHJ+GyEVX3dAmRdkCId0d0DA+6q5moN3QA==\",\"dtype\":\"float64\",\"order\":\"little\",\"shape\":[20]},{\"__ndarray__\":\"AAAAAABQdEDBSlte12l0QFntdxz1h3RAmzplxdapdEBYhTLk+c50QGIg7wPc9nRAhF6qr/ogdUCSknNy00x1QGIPWtfjeXVAvSdtaamndUB2LryzodV1QF52VkFKA3ZAR1JLnSAwdkD+FKpSolt2QFgRguxMhXZAI5ri9Z2sdkAwAtv5EtF2QFCceoMp8nZAVLvQHV8Pd0AMsuxTMSh3QA==\",\"dtype\":\"float64\",\"order\":\"little\",\"shape\":[20]},{\"__ndarray__\":\"AAAAAABQdEBwpO1pDWJ0QFlZTR/hcnRAZSvw4GyCdEA6J6dvopB0QIBZQ4xznXRA186V99GodEDqk29yr7J0QGK1ob39unRA4j/9ma7BdEAQQFPIs8Z0QJTCdAn/yXRAFNQyHoLLdEA2gV7HLst0QKDWyMX2yHRA/OBC2svEdEDsrJ3Fn750QBhHqkhktnRAKLw5JAusdEDAGB0Zhp90QA==\",\"dtype\":\"float64\",\"order\":\"little\",\"shape\":[20]},{\"__ndarray__\":\"wBgdGYafdEDoBpWC4sV0QHM0ImVZ7nRAh+cCi3YYdUBWZnW+xUN1QAP3t8nSb3VAvN8IdymcdUCnZqaQVch1QPXRzuDi83VAzmfAMV0edkBXbrlNUEd2QMEr+P5HbnZAMua6D9CSdkDW4z9KdLR2QNZqxXjA0nZAXcGJZUDtdkCVLcvafwN3QKr1x6IKFXdAw1++h2whd0AMsuxTMSh3QA==\",\"dtype\":\"float64\",\"order\":\"little\",\"shape\":[20]},{\"__ndarray__\":\"AAAAAABAckAg2ky4xEVyQEGQNTBiTnJAOp+rvJhZckDcg6CyKGdyQPq6BWfSdnJAZcHMLlaIckDyE+dedJtyQHUvRkztr3JAv5DbS4HFckCgtJiy8NtyQPAXb9X78nJAfzdQCWMKc0AgkC2j5iFzQKae+PdGOXNA5N+iXERQc0Cs0B0mn2ZzQNLtWqkXfHNAKLRLO26Qc0CCoOEwY6NzQA==\",\"dtype\":\"float64\",\"order\":\"little\",\"shape\":[20]},{\"__ndarray__\":\"AAAAAAAAM0CpH6t5rxA0QIC+l3eWbDVAycYsvS4MN0DGItEN8uc4QLe86yxa+DpA2n7j3eA1PUB1Ux/k/5g/QGYSg4EYDUFAjm7//vZYQkBRMzhMWKxDQNTV4Ep5A0VANsus3JZaRkCXiE/j7a1HQBmDfEC7+UhA3S/n1Ts6SkAABEOFrGtLQKh0QzBKikxA8vabuFGSTUAAAAAAAIBOQA==\",\"dtype\":\"float64\",\"order\":\"little\",\"shape\":[20]},{\"__ndarray__\":\"AAAAAAAAEEDz9uux2nQZQHdqD8rCDCJAZu3195PiJ0CqJFOHdCcuQFlYaA58YzJA8BiMLlnWNUBNpGl2G2I5QKnKVbiM/DxAHK5SY7tNQECTlNa5URpCQNkA4Uju3kNABVuc+XWWRUAwCzO1zTtHQHh5z2TayUhA9Q2c8YA7SkDAMMNEpotLQPRJb0cvtUxAq8HK4gCzTUAAAAAAAIBOQA==\",\"dtype\":\"float64\",\"order\":\"little\",\"shape\":[20]},{\"__ndarray__\":\"AAAAAAAAEECCrst2aAcSQC56OhbXaxRA0/oDGowiF0A6yN+9xyAaQC96hT3KWx1APlRW6mlkIEB1dYZfki4iQKbsLpz+BiRAtIUrvk7oJUCCDFjjIs0nQPtMkCkbsClAABOwrteLK0B5KpOQ+FotQEtfFe0dGC9Arj4J8fNeMEBIKLNGeyMxQGhSdgb11jFA/qJAP7F2MkAAAAAAAAAzQA==\",\"dtype\":\"float64\",\"order\":\"little\",\"shape\":[20]},{\"__ndarray__\":\"XMgnK1snfEAXHUldj0d8QKBZakRwZXxAeY54AeeAfEAuzGC13Jl8QD4jEIE6sHxAMKRzhenDfECJX3jj0tR8QNFlC7zf4nxAjccZMPntfEA/lZBgCPZ8QG7fXG72+nxAoLZreqz8fEBYK6qlE/t8QB9OBREV9nxAeC9q3ZntfEDn38Uri+F8QPVvBR3S0XxAI/AV0le+fED6cORrBad8QA==\",\"dtype\":\"float64\",\"order\":\"little\",\"shape\":[20]},{\"__ndarray__\":\"AAAAAADwfkANQJKqov1+QP4KodKfCn9ATdUznecWf0BqE1IvaiJ/QMk5A64XLX9A1rxOPuA2f0AGETwFtD9/QNKq0ieDR39AoP4Zyz1Of0DogBkU1FN/QCCm2Cc2WH9AtOJeK1Rbf0Aaq7NDHl1/QMJz3pWEXX9AHbHmRndcf0Ch19N75ll/QLxbrVnCVX9A5LF6BftPf0CITkOkgEh/QA==\",\"dtype\":\"float64\",\"order\":\"little\",\"shape\":[20]},{\"__ndarray__\":\"AAAAAADwfkDrwTszrfF+QLEaFtqt9X5AivevF9T7fkCvRSoP8gN/QEvypePZDX9AjupDuF0Zf0CuGyWwTyZ/QN5yau6BNH9AUd00lsZDf0A1SKXK71N/QL6g3K7PZH9AItT7ZTh2f0CPzyMT/Id/QDqAddnsmX9AVNMR3Nyrf0AOthk+nr1/QJ0VriIDz39AMt/vrN3ff0AAAAAAAPB/QA==\",\"dtype\":\"float64\",\"order\":\"little\",\"shape\":[20]},{\"__ndarray__\":\"iE5DpIBIf0Bm0Owsizx/QDpeuKuOM39Aw3C/Hm0tf0DLgBuECCp/QAsH5tlCKX9AQHw4Hv4qf0AsWSxPHC9/QJYW22p/NX9AOC1ebwk+f0DSFc9anEh/QCZJRysaVX9A9j/g3mRjf0D9crNzXnN/QABb2ufohH9AvnBuOeaXf0D1LIlmOKx/QGgIRG3BwX9A1nu4S2PYf0AAAAAAAPB/QA==\",\"dtype\":\"float64\",\"order\":\"little\",\"shape\":[20]},{\"__ndarray__\":\"ZmpfMlYifUAupBD6MVJ9QLKEnJwign1AqiXhicWxfUDDoLwxuOB9QKsPDQSYDn5AD4ywcAI7fkCdL4XnlGV+QAoUadjsjX5ABFM6s6ezfkAwBtfnYtZ+QEdHHea79X5A9S/rHVARf0Do2R7/vCh/QM5elvmfO39AWNgvfZZJf0A0YMn5PVJ/QBAQQd8zVX9AnQF1nRVSf0CITkOkgEh/QA==\",\"dtype\":\"float64\",\"order\":\"little\",\"shape\":[20]},{\"__ndarray__\":\"ZmpfMlYifUB7O3XtXTB9QHagHYrhQ31AwitQdmBcfUDYbwQgWnl9QCH/MfVNmn1ACWzQY7u+fUAESdfZIeZ9QIAoPsUAEH5A7Jz8k9c7fkC2OAq0JWl+QEyOXpNql35AITDxnyXGfkChsLlH1vR+QDyir/j7In9AYJfKIBZQf0B9IgIupHt/QALWTY4lpX9AXkSlrxnMf0AAAAAAAPB/QA==\",\"dtype\":\"float64\",\"order\":\"little\",\"shape\":[20]},{\"__ndarray__\":\"Tl9SNYoKfkAyJTfKQCh+QKya+kiXRn5AebwsBUZlfkBUh11SBYR+QPf3HISNon5AFwv77ZbAfkB0vYfj2d1+QMwLU7gO+n5A1PLsv+0Uf0BGb+VNLy5/QN59zLWLRX9AWBsyS7taf0BsRKZhdm1/QNj1uEx1fX9AUyz6X3CKf0CY5PnuH5R/QGMbSE08mn9Abc10zn2cf0By9w/GnJp/QA==\",\"dtype\":\"float64\",\"order\":\"little\",\"shape\":[20]},{\"__ndarray__\":\"Tl9SNYoKfkAkfYGxffN9QObDruZe331AiLTTHifOfUAA0Omjz799QDqX6r9RtH1AJovPvKarfUC4LJLkx6V9QOf8K4Guon1An3yW3FOifUDPLMtAsaR9QG6Ow/e/qX1AbSJ5S3mxfUC7aeWF1rt9QErlAfHQyH1ADxbI1mHYfUD3fDGBgup9QPeaNzos/31A/vDTS1gWfkAAAAAAADB+QA==\",\"dtype\":\"float64\",\"order\":\"little\",\"shape\":[20]},{\"__ndarray__\":\"AAAAAAAgfEAvf6sy+hp8QEbiWKFTG3xAjZGCarQgfEBN9aKsxCp8QMp1NIYsOXxARXuxFZRLfEAMbpR5o2F8QGK2V9ACe3xAjrx1OFqXfEDS6GjQUbZ8QHijq7aR13xAyFS4CcL6fEAFZQnoih99QHY8GXCURX1AYkNiwIZsfUAM4l73CZR9QL6AiTPGu31AvIdck2PjfUBOX1I1igp+QA==\",\"dtype\":\"float64\",\"order\":\"little\",\"shape\":[20]},{\"__ndarray__\":\"9GpNHiXKfUDHWnaUOq59QAS+5eALln1ARIxHeo2BfUASvUfXs3B9QAFIkm5zY31AlCTTtsBZfUBlSrYmkFN9QAKx5zTWUH1A908TWIdRfUDQHuUGmFV9QCIVCbj8XH1AeSor4qlnfUBkVvf7k3V9QHKQGXyvhn1AMtA92fCafUAyDRCKTLJ9QAI/PAW3zH1AMV1uwSTqfUBOX1I1igp+QA==\",\"dtype\":\"float64\",\"order\":\"little\",\"shape\":[20]},{\"__ndarray__\":\"AAAAAACgfUAK/DPIS8t9QHZLf7DT8n1AyPKqooQWfkB29n+ISzZ+QP9ax0sVUn5A1yRK1s5pfkB8WNERZX1+QGv6JejEjH5AIA8RQ9uXfkAMm1sMlZ5+QLGizi3foH5AjSozkaaefkAUN1Ig2Jd+QMLM9MRgjH5AFPDjaC18fkCDpej1Kmd+QIrxy1VGTX5ApthWcmwufkBOX1I1igp+QA==\",\"dtype\":\"float64\",\"order\":\"little\",\"shape\":[20]},{\"__ndarray__\":\"Tl9SNYoKfkADbSFcRC1+QMW4dNBeTn5AZzhbxrBtfkC44eNxEYt+QISqHQdYpn5AlogXulu/fkC9ceC+89V+QMpbh0n36X5AiDwbjj37fkDACavAnQl/QES5RRXvFH9A40D6vwgdf0Bmltf0wSF/QJ6v7OfxIn9AV4JIzW8gf0BeBPrYEhp/QIErED+yD39Aju2ZMyUBf0BSQKbqQu5+QA==\",\"dtype\":\"float64\",\"order\":\"little\",\"shape\":[20]},{\"__ndarray__\":\"Tl9SNYoKfkAEe0BVEkV+QL50KindfX5AhWyDuJO0fkBrgr4K3+h+QHHWTidoGn9AoYinFdhIf0AGuTvd13N/QK6HfoUQm39AnhTjFSu+f0Dgf9yV0Nx/QH7p3Qyq9n9AwjgtQbAFgED8m+J+Tg2AQHSuSEMEEoBALQAZEqYTgEAsIQ1vCBKAQHah3t3/DIBAEBFH4mAEgEAAAAAAAPB/QA==\",\"dtype\":\"float64\",\"order\":\"little\",\"shape\":[20]},{\"__ndarray__\":\"AAAAAAAwfkDktrjgDjR+QFTW3005O35AIdoLUT5FfkATPtPz3FF+QPJ9zD/UYH5AgxWOPuNxfkCUgK75yIR+QO06xHpEmX5AVsBlyxSvfkCWjCn1+MV+QHgbpgGw3X5Axuhx+vj1fkBGcCPpkg5/QMItUdc8J39ABJ2RzrU/f0DUOXvYvFd/QPx/pP4Qb39AQuujSnGFf0By9w/GnJp/QA==\",\"dtype\":\"float64\",\"order\":\"little\",\"shape\":[20]},{\"__ndarray__\":\"AAAAAAAgfEATRZDHsDh8QKQdAbVgV3xAue5cOnB7fEBUHa7JP6R8QHAO/9Qv0XxADidazqABfUAzzMkn8zR9QOBiWFOHan1AElAQw72hfUDK+Pvo9tl9QAjCJTeTEn5A0hCYH/NKfkAkSl0Ud4J+QP7Sf4d/uH5AZhAK62zsfkBWZwaxnx1/QNI8f0t4S39A3PV+LFd1f0By9w/GnJp/QA==\",\"dtype\":\"float64\",\"order\":\"little\",\"shape\":[20]},{\"__ndarray__\":\"AAAAAACgfUANJs+/asl9QIYnRyk0831AoQXBeQEdfkCXwZXud0Z+QJpcHsU8b35A3NezOvWWfkCVNK+MRr1+QP9zafjV4X5ATJc7u0gEf0Crn34SRCR/QFqOizttQX9AiGS7c2lbf0BwI2f43XF/QEDM5wZwhH9AM2CW3MSSf0B84Mu2gZx/QFJO4dJLoX9A5qovbsigf0By9w/GnJp/QA==\",\"dtype\":\"float64\",\"order\":\"little\",\"shape\":[20]},{\"__ndarray__\":\"AAAAAAAgfEAyjtfmoTR8QFBHIWcnTHxAlxRR6TFmfEA/39rVYoJ8QH6QMpVboHxAjBHMj72/fECeSxsuKuB8QPInlNhCAX1Avo+q96gifUAzbNLz/UN9QJKmfzXjZH1ADigmJfqEfUDf2Tkr5KN9QD2lLrBCwX1AYnN4HLfcfUCCLYvY4vV9QNi82kxnDH5AmQrb4eUffkAAAAAAADB+QA==\",\"dtype\":\"float64\",\"order\":\"little\",\"shape\":[20]},{\"__ndarray__\":\"AAAAAAAwfkDyNN06KjR+QDiwOfq7OX5AuOYqKJNAfkBLTcaujUh+QMxYIXiJUX5AFX5RbmRbfkACMmx7/GV+QHTphokvcX5ARBm3gtt8fkBKNhJR3oh+QGa1rd4VlX5AdQufFWChfkBQrfvfmq1+QNIP2SekuX5A2qdM11nFfkBC6mvYmdB+QOZLTBVC235AokEDeDDlfkBSQKbqQu5+QA==\",\"dtype\":\"float64\",\"order\":\"little\",\"shape\":[20]},{\"__ndarray__\":\"AAAAAAAwfkALwEK/Si5+QHxY5pIrMX5AbGhkOFI4fkD1jjZtbkN+QDBr1u4vUn5AMZy9ekZkfkAQwWXOYXl+QOh4SKcxkX5A0WLfwmWrfkDhHaTercd+QDJJELi55X5A2oOdDDkFf0D0bMWZ2yV/QJSjAR1RR39A1sbLU0lpf0DQdZ37c4t/QJpP8NGArX9ATPM9lB/Pf0AAAAAAAPB/QA==\",\"dtype\":\"float64\",\"order\":\"little\",\"shape\":[20]},{\"__ndarray__\":\"AAAAAAAgfECL28HZ2ht8QBmTSVHwG3xAeIpIm/sffEB3JXDstyd8QNzHcXngMnxActX+djBBfEAHssgZY1J8QGnBgJYzZnxAX2fYIV18fEC1B4HwmpR8QDgGLDeornxAtsaKKkDKfED2rE7/Hed8QMMcKer8BH1A7XnLH5gjfUA7KOfUqkJ9QHyLLT7wYX1AeQdQkCOBfUAAAAAAAKB9QA==\",\"dtype\":\"float64\",\"order\":\"little\",\"shape\":[20]},{\"__ndarray__\":\"AAAAAADgfEAmvepnw+98QFekF6sSAH1AcHT81sMQfUA/7A75rCF9QJXKxB6kMn1AQ86TVX9DfUAZtvGqFFR9QO5AVCw6ZH1AkC0x58VzfUDMOv7ojYJ9QHwnMT9okH1AbbI/9yqdfUBwmp8erKh9QFqexsLBsn1A+nwq8UG7fUAg9UC3AsJ9QKDFfyLaxn1AS61cQJ7JfUD0ak0eJcp9QA==\",\"dtype\":\"float64\",\"order\":\"little\",\"shape\":[20]},{\"__ndarray__\":\"AAAAAACgfUDs+U9U5qp9QC0raYAAtX1Aq6Bo90a+fUBdZ2ssssZ9QCSMjpI6zn1A7RvvnNjUfUCoI6q+hNp9QEKw3Go3331ApM6jFOnifUC0ixwvkuV9QGj0Yy0r531ApRWXgqznfUBc/NKhDud9QHO1NP5J5X1A2k3ZClfifUB80t06Lt59QEJQXwHI2H1AHNR60RzSfUD0ak0eJcp9QA==\",\"dtype\":\"float64\",\"order\":\"little\",\"shape\":[20]},{\"__ndarray__\":\"9GpNHiXKfUDWvz1JqNd9QBCg+fmI5n1AAvk725L2fUAKuL+XkQd+QIbKP9pQGX5AyB13TZwrfkA3nyCcPz5+QCw893AGUX5ABOK1drxjfkAYfhdYLXZ+QMb91r8kiH5Ab06vWG6ZfkBoXVvN1al+QBIYlsgmuX5AyGsa9SzHfkDnRaP9s9N+QMqT64yH3n5Az0KuTXPnfkBSQKbqQu5+QA==\",\"dtype\":\"float64\",\"order\":\"little\",\"shape\":[20]},{\"__ndarray__\":\"9GpNHiXKfUDwSqPNyNF9QFJIppL43X1Atnp161HufUC1+S9WcgJ+QOrc9FD3GX5A5TvjWX40fkBELhrvpFF+QJ/LuI4IcX5AkSvetkaSfkCvZanl/LR+QJKROZnI2H5A08atT0f9fkAMHSWHFiJ/QNSrvr3TRn9AxYqZcRxrf0B00dQgjo5/QH+Xj0nGsH9AevToaWLRf0AAAAAAAPB/QA==\",\"dtype\":\"float64\",\"order\":\"little\",\"shape\":[20]},{\"__ndarray__\":\"AAAAAACgfUBclMrp1559QDrHqHoYoX1A5JJy0IWmfUCl8f8I5K59QMHdKEL3uX1Ag1HFmYPHfUAyR60tTdd9QBe5uBsY6X1Ae6G/gaj8fUCi+pl9whF+QNi+Hy0qKH5AZegorqM/fkCQcY0e81d+QKBUJZzccH5A4IvIRCSKfkCWEU82jqN+QArgkI7evH5AhvFla9nVfkBSQKbqQu5+QA==\",\"dtype\":\"float64\",\"order\":\"little\",\"shape\":[20]},{\"__ndarray__\":\"AAAAAACgfUDo2aUDirJ9QIsIwvTTyH1Ab7CQxHPifUAe9k1k//59QBf+NcUMHn5A3uyE2DE/fkD45naPBGJ+QO0QSNsahn5AQI80rQqrfkBvhnj2adB+QAQbUKjO9X5AhXH3s84af0BzrqoKAD9/QFT2pZ34YX9Aq20lXk6Df0D8OGU9l6J/QM58oSxpv39Aol0WHVrZf0AAAAAAAPB/QA==\",\"dtype\":\"float64\",\"order\":\"little\",\"shape\":[20]},{\"__ndarray__\":\"UkCm6kLufkBsywtvY+h+QJboUoOy5X5ABcLf+gHmfkD9gRapI+l+QLZSW2Hp7n5Abl4S9yT3fkBez589qAF/QMXPZwhFDn9A4onOKs0cf0DoJzh4Ei1/QBzUCMTmPn9AuLik4RtSf0D3/2+kg2Z/QBTUzt/ve39ATl8lZzKSf0Dgy9cNHal/QAZESqeBwH9A/PHgBjLYf0AAAAAAAPB/QA==\",\"dtype\":\"float64\",\"order\":\"little\",\"shape\":[20]},{\"__ndarray__\":\"AAAAAADgfEAuyQd0JP98QNQNPrKEIn1AXKQ3RpRJfUA2Y4m7xnN9QMggyJ2PoH1Ad7OIeGLPfUCy8V/Xsv99QOWx4kX0MH5AesqlT5pifkDVET6AGJR+QGZeQGPixH5AlYZBhGv0fkDNYNZuJyJ/QHfDk66JTX9A/oQOzwV2f0DKe9tbD5t/QEh+j+AZvH9A4mK/6JjYf0AAAAAAAPB/QA==\",\"dtype\":\"float64\",\"order\":\"little\",\"shape\":[20]},{\"__ndarray__\":\"AAAAAAAAfkDX1uQ1Nx1+QDtRisVIOH5A9dZOniBRfkDRz5Cvqmd+QI+jrujSe35A8LkGOYWNfkDFevePrZx+QM5N39w3qX5A1JocDxCzfkCWyQ0WIrp+QOBBEeFZvn5AeGuFX6O/fkAkrsiA6r1+QKZxOTQbuX5Ayh02aSGxfkBQGh0P6aV+QAPPTBVel35ApqMja2yFfkAAAAAAAHB+QA==\",\"dtype\":\"float64\",\"order\":\"little\",\"shape\":[20]},{\"__ndarray__\":\"eF4cXehFfUC9eBxoikJ9QA4+Qxx5Qn1A8vs4En9FfUDv/6XiZkt9QIuXMib7U31ARRCHdQZffUCjt0tpU2x9QDPbKJqse31AcsjGoNyMfUDkzM0Vrp99QBA25pHrs31AflG4rV/JfUCwbOwB1d99QCjVKicW931Actgbtu0OfkAKxGdHJid+QH/ltnOKP35AToqx0+RXfkAAAAAAAHB+QA==\",\"dtype\":\"float64\",\"order\":\"little\",\"shape\":[20]},{\"__ndarray__\":\"AAAAAAAAHEBnBdZsw/UaQK6K0M2z9xpAXHAne830G0D8lhLNDNwdQIjv5A03TiBAkJTC33YSIkDYKj4IRDIkQKaic7McpSZAPOx+DX9iKUDc93tC6WEsQMy1hn7Zmi9AJovd9maCMUDQhBpeokszQAZACAveJDVA7LS0E9kJN0Cf2y2OUvY4QEOsgZAJ5jpA+x6+ML3UPEDoK/GELL4+QA==\",\"dtype\":\"float64\",\"order\":\"little\",\"shape\":[20]},{\"__ndarray__\":\"AAAAAABAWEA754ETL7JYQLFQNggaIVlA37XY4RSMWUBCkCSkc/JZQFdZ1VKKU1pAmIqm8ayuWkCFnVOELwNbQJoLmA5mUFtAVE4vlKSVW0At39QYP9JbQKU3RKCJBVxAONE4LtguXEBgJW7Gfk1cQJytn2zRYFxAauOIJCRoXEBDQOXxymJcQKc9cNgZUFxAElXl22QvXEAAAAAAAABcQA==\",\"dtype\":\"float64\",\"order\":\"little\",\"shape\":[20]},{\"__ndarray__\":\"POveigDvdkCRTGjutAB3QCVa3GaoEXdA6COYzMQhd0DNufj38zB3QMIrW8EfP3dAs4kcATJMd0CN45mPFFh3QElJMEWxYndA0Mo8+vFrd0AQeByHwHN3QPlgLMQGendAfJXJia5+d0CIJVGwoYF3QAshIBDKgndA9JeTgRGCd0AzmgjdYX93QLk33PqkendAcYBrs8Rzd0BOhBPfqmp3QA==\",\"dtype\":\"float64\",\"order\":\"little\",\"shape\":[20]},{\"__ndarray__\":\"AAAAAACQdkDwlp4Sd3p2QMoiTgt4aXZAigpcvdtcdkAjtRX8elR2QIqJyJouUHZAs+7BbM9PdkCTS09FNlN2QCAHvvc7WnZAUIhbV7lkdkAUNnU3h3J2QGR3WGt+g3ZANLNSxneXdkB6ULEbTK52QCq2wT7Ux3ZAOUvRAunjdkCadi07YwJ3QEifI7sbI3dAMSwBVutFd0BOhBPfqmp3QA==\",\"dtype\":\"float64\",\"order\":\"little\",\"shape\":[20]},{\"__ndarray__\":\"pF0b1FfJdUAnqhDcI7t1QGn2XlGcsnVAZVFecHavdUATymZ1Z7F1QGVv0JwkuHVAUFDzImPDdUDOeydE2NJ1QNUAxTw55nVAW+4jSTv9dUBUU5ylkxd2QLg+ho73NHZAfr85QBxVdkCa5A73tnd2QAS9Xe98nHZAsld+ZSPDdkCaw8iVX+t2QLMPlbzmFHdA8ko7Fm4/d0BOhBPfqmp3QA==\",\"dtype\":\"float64\",\"order\":\"little\",\"shape\":[20]},{\"__ndarray__\":\"d8PzTAJmcUB1reVf06FxQL+a44od5nFAK34My8wxckCTSn8dzYNyQMryWn8K23JAqWm+7XA2c0ADoshl7JRzQLaOmORo9XNAlCJNZ9JWdEB0UAXrFLh0QC4L4GwcGHVAmUX86dR1dUCK8nhfKtB1QNoEdcoIJnZAYG8PKFx2dkDwJGd1EMB2QGQYm68RAndAkDzK00s7d0BOhBPfqmp3QA==\",\"dtype\":\"float64\",\"order\":\"little\",\"shape\":[20]},{\"__ndarray__\":\"AAAAAAAAckDgArCqRRFyQAg8lrc7LnJApkxGuulVckDl1VNGV4dyQO14Uu+LwXJA6tbVSI8Dc0AEkXHmaExzQGpIuVsgm3NARp5APL3uc0C+M5sbR0Z0QP+pXI3FoHRANqIYJUD9dECJvWJ2vlp1QCadzhRIuHVANuLvk+QUdkDlLVqHm292QFwhoYJ0x3ZAxl1YGXcbd0BOhBPfqmp3QA==\",\"dtype\":\"float64\",\"order\":\"little\",\"shape\":[20]},{\"__ndarray__\":\"POveigDvdkDuYVRNtfV2QPzsRiyQ/XZAP0BLlG4Gd0CMD/bxLRB3QLAO3LGrGndAfvGRQMUld0DLa6wKWDF3QG0xwHxBPXdANfZhA19Jd0DwbSYLjlV3QHZMogCsYXdAnEVqUJZtd0AwDRNnKnl3QAhXMbFFhHdA9tZZm8WOd0DMQCGSh5h3QF5IHAJpoXdAfqHfV0epd0AAAAAAALB3QA==\",\"dtype\":\"float64\",\"order\":\"little\",\"shape\":[20]},{\"__ndarray__\":\"AAAAAACQdkASk/bmkIN2QDTWFidyeXZAbyBRu5JxdkDJyJWe4Wt2QEcm1ctNaHZA7Y//PcZmdkDAXAXwOWd2QMzj1tyXaXZAEXxk/85tdkCUfJ5SznN2QF48ddGEe3ZAdhLZduGEdkDdVbo90492QJxdCSFJnHZAuIC2GzKqdkA2FrIofbl2QB517EIZynZAc/RVZfXbdkA8696KAO92QA==\",\"dtype\":\"float64\",\"order\":\"little\",\"shape\":[20]},{\"__ndarray__\":\"pF0b1FfJdUBKpmiwPcR1QNSpJ22WwnVATGdTbi3EdUC43eYXzsh1QCEM3c1D0HVAi/Ew9FnadUD8jN3u2+Z1QIDd3SGV9XVAHOIs8VAGdkDVmcXA2hh2QLIDo/T9LHZAvx7A8IVCdkD96RcZPll2QHZkpdHxcHZAMo1jfmyJdkA2Y02DeaJ2QIrlXUTku3ZANBOQJXjVdkA8696KAO92QA==\",\"dtype\":\"float64\",\"order\":\"little\",\"shape\":[20]},{\"__ndarray__\":\"0NJq6byOdECtg3o5J550QF/pOC7TsXRAJHz2zlPJdEBEtAMjPOR0QP0JsTEfAnVAjPVOApAidUA17y2cIUV1QDtvngZnaXVA2+3wSPOOdUBY43VqWbV1QPDHfXIs3HVA6RNZaP8CdkB/P1hTZSl2QPXCyzrxTnZAjBYEJjZzdkCEslEcx5V2QB4PBSU3tnZAm6RuRxnUdkA8696KAO92QA==\",\"dtype\":\"float64\",\"order\":\"little\",\"shape\":[20]},{\"__ndarray__\":\"AAAAAADwdUDheh1vbvB1QIBCMjtR83VAIUIjtXr4dUAOZdUtvf91QI2WLfbqCHZA2sEQX9YTdkBD0mO5USB2QAqzC1YvLnZAd0/thUE9dkDJku2ZWk12QExo8eJMXnZAQLvdsepvdkDsdpdXBoJ2QJeGAyVylHZAhNUGawCndkD6ToZ6g7l2QDzeZqTNy3ZAkG6NObHddkA8696KAO92QA==\",\"dtype\":\"float64\",\"order\":\"little\",\"shape\":[20]},{\"__ndarray__\":\"AAAAAAAAckA1xTFifz1yQAr0dICOgHJAux0AFkvIckCG0wne0hNzQKWmyJNDYnNAUChz8rqyc0DG6T+1VgR0QEJ8ZZc0VnRA/3AaVHKndEA2WZWmLfd0QCbGDEqERHVACkm3+ZOOdUAZc8twetR1QJPVf2pVFXZAsgELokJQdkCwiKPSX4R2QMr7f7fKsHZAOuzWC6HUdkA8696KAO92QA==\",\"dtype\":\"float64\",\"order\":\"little\",\"shape\":[20]},{\"__ndarray__\":\"AAAAAACQdkCU8RaPSYp2QNeN+iQJiHZAo98vKQuJdkDV8TsDHI12QD/PoxoIlHZAvILs1puddkAkF5ufo6l2QFSXNNzrt3ZAIQ4+9EDIdkBihjxPb9p2QPAKtVRD7nZAqKYsbIkDd0BeZCj9DRp3QO5OLW+dMXdALXHAKQRKd0D21WaUDmN3QCGIpRaJfHdAhpIBGECWd0AAAAAAALB3QA==\",\"dtype\":\"float64\",\"order\":\"little\",\"shape\":[20]},{\"__ndarray__\":\"pF0b1FfJdUA5E3LJrNB1QKDTEEYk2XVA3EYCs5ridUDvFFF57Ox1QNrlBwL293VAnWExtpMDdkA6MNj+oQ92QLX5BkX9G3ZAC2bI8YEodkA/HSduDDV2QFTHLSN5QXZASgzneaRNdkAglF3ball2QNoGnLCoZHZAegytYjpvdkD/TJta/Hh2QGxwcQHLgXZAwB46wIKJdkAAAAAAAJB2QA==\",\"dtype\":\"float64\",\"order\":\"little\",\"shape\":[20]},{\"__ndarray__\":\"AAAAAAAAckDyaxGYziZyQD8ZSKzDVHJAHELq/A2JckDBID5K3MJyQGPviVRdAXNANegT3L9Dc0BwRSKhMolzQEpB+2Pk0HNA9hXl5AMadECp/SXkv2N0QJsyBCJHrXRAAO/FXsj1dEAPbbFacjx1QPzmDNZzgHVA/pYekfvAdUBKtyxMOP11QBWCfcdYNHZAlDFXw4tldkAAAAAAAJB2QA==\",\"dtype\":\"float64\",\"order\":\"little\",\"shape\":[20]},{\"__ndarray__\":\"pF0b1FfJdUBfrN/7lOl1QBdlBLwDC3ZArjoZ5UwtdkD/361HGVB2QN0HUrQRc3ZAJmWV+96VdkCxqgfuKbh2QF6LOFyb2XZABLq3Ftz5dkB56RTulBh3QJrM37JuNXdAQxaoNRJQd0BKef1GKGh3QIuob7dZfXdA4FaOV0+Pd0AjN+n3sZ13QC78D2kqqHdA2FiSe2Gud0AAAAAAALB3QA==\",\"dtype\":\"float64\",\"order\":\"little\",\"shape\":[20]},{\"__ndarray__\":\"0NJq6byOdEBqQYzHG5B0QDypwwhqlHRAgINmUG+bdEB1ScpB86R0QFN0RIC9sHRATX0qr5W+dECl3dFxQ850QJMOkGuO33RAT4m6Pz7ydEAQx6aRGgZ1QBVBqgTrGnVAl3AaPHcwdUDOzkzbhkZ1QPXUloXhXHVARPxN3k5zdUD3vceIlol1QEeTWSiAn3VAbfVYYNO0dUCkXRvUV8l1QA==\",\"dtype\":\"float64\",\"order\":\"little\",\"shape\":[20]},{\"__ndarray__\":\"pF0b1FfJdUDOukzKceJ1QNcgat8i+XVAiKOJJmQNdkCgVsGyLh92QOFNJ5d7LnZACZ3R5kM7dkDdV9a0gEV2QCOSSxQrTXZAmF9HGDxSdkD809/TrFR2QBUDK1p2VHZApAA/vpFRdkBq4DET+Et2QCm2GWyiQ3ZApJUM3Ik4dkCakiB2pyp2QNDAa030GXZABzQEdWkGdkAAAAAAAPB1QA==\",\"dtype\":\"float64\",\"order\":\"little\",\"shape\":[20]},{\"__ndarray__\":\"AAAAAAAAckAs7eL89iNyQFbu8zlyTXJAtJVuDsR7ckB8dY7RPq5yQN8fj9o05HJAECesgPgcc0BHHSEb3FdzQLmUKQEylHNAlx8BikzRc0AWUOMMfg50QGu4C+EYS3RAyuq1XW+GdEBoeR3a0790QHf2fa2Y9nRALvQSLxAqdUDABBi2jFl1QGK6yJlghHVAR6dgMd6pdUCkXRvUV8l1QA==\",\"dtype\":\"float64\",\"order\":\"little\",\"shape\":[20]},{\"__ndarray__\":\"0NJq6byOdEAv4prh36R0QP+gHCxqwHRAWDvVPMzgdEBP3amHdgV1QPSyf4DZLXVAXOg7m2VZdUCZqcNLi4d1QMQi/AW7t3VA7H/KPWXpdUAk7RNn+ht2QIKWvfXqTnZAG6isXaeBdkAATsYSoLN2QEa074hF5HZAAAcONAgTd0BDcgaIWD93QCIivvimaHdArkIa+mOOd0AAAAAAALB3QA==\",\"dtype\":\"float64\",\"order\":\"little\",\"shape\":[20]},{\"__ndarray__\":\"0NJq6byOdEABByno14x0QFzcwEegjnRA4t+dvtaTdECNnisDPJx0QFal1cuQp3RAPIEHz5W1dEA4vyzDC8Z0QEjssF6z2HRAaJX/V03tdECQR4RlmgN1QL+Pqj1bG3VA8PrdllA0dUAdFoonO051QENuGqbbaHVAX5D6yPKDdUBqCZZGQZ91QGBmWNWHunVAPzStK4fVdUAAAAAAAPB1QA==\",\"dtype\":\"float64\",\"order\":\"little\",\"shape\":[20]},{\"__ndarray__\":\"/XdO+ICPcEBbbhCE7bZwQFQHU04D5HBAW725BgsWcUDiCuhcTUxxQFRqgQAThnFAJlYpoaTCcUDCSIPuSgFyQKG8MphOQXJALyzbTfiBckDcESC/kMJyQBfopJtgAnNAUykNk7BAc0AAUPxUyXxzQIzWFZHztXNAajf99nfrc0AI7VU2nxx0QNlxw/6xSHRATEDp//hudEDQ0mrpvI50QA==\",\"dtype\":\"float64\",\"order\":\"little\",\"shape\":[20]},{\"__ndarray__\":\"/XdO+ICPcEC10kziCK1wQEnr/SX4y3BAD4vHPPnrcEBkew+gtgxxQJyFO8naLXFAEHOxMRBPcUAWDddSAXBxQAsdEqZYkHFAQmzIpMCvcUATxF/I481xQNjtPYps6nFA6bLIYwUFckCc3GXOWB1yQEs0e0MRM3JATINuPNlFckD4kqUyW1VyQKcshp9BYXJAsBl2/DZpckBsI9vC5WxyQA==\",\"dtype\":\"float64\",\"order\":\"little\",\"shape\":[20]},{\"__ndarray__\":\"ODl5wKuUUUC6TaH0uhhRQMwpMd64QVFAYxKv9d0EUkBwTKGzYldTQOIcjpB/LlVAp8j7BG1/V0CwlHCJYz9aQPLFcpabY11ArFBE0qZwYEDqNRwW2VZiQCw1BNMAX2RA6HA/RbqDZkCYCxGpob9oQLUnvDpTDWtAtueDNmtnbUARbqvYhchvQKDuuq6fFXFA3yuTABpFckAAAAAAAHBzQA==\",\"dtype\":\"float64\",\"order\":\"little\",\"shape\":[20]},{\"__ndarray__\":\"AAAAAAAQc0C0lNPeEwJzQDFt6V+d9nJAxdto2ovtckDEMnmlzuZyQHrEQRhV4nJAMOPpiQ7gckA84ZhR6t9yQOoQdsbX4XJAisSoP8blckBnTlgUpetyQNQArJtj83JAHS7LLPH8ckCSKN0ePQhzQIBCCck2FXNAOM52gs0jc0AGHk2i8DNzQDuEs3+PRXNAJFPRcZlYc0AQ3c3P/WxzQA==\",\"dtype\":\"float64\",\"order\":\"little\",\"shape\":[20]},{\"__ndarray__\":\"qOzvemajcEC5g1sRqblwQDNjM9Mf0nBAMuxHXnXscEDIf2lQVAhxQBB/aEdnJXFAGUsV4VhDcUD+REC702FxQNXNuXOCgHFAtEZSqA+fcUCvENr2Jb1xQN6MIf1v2nFAVxz5WJj2cUAwIDGoSRFyQID5mYguKnJAWwkEmPFAckDZsD90PVVyQBBRHbu8ZnJAFUttChp1ckAAAAAAAIByQA==\",\"dtype\":\"float64\",\"order\":\"little\",\"shape\":[20]},{\"__ndarray__\":\"AAAAAAAAcUBXvaZt8BNxQPe6rLKpJXFA4/gRzys1cUAcd9bCdkJxQKI1+o2KTXFAczR9MGdWcUCOc1+qDF1xQPjyoPt6YXFArLJBJLJjcUCrskEksmNxQPfyoPt6YXFAjnNfqgxdcUByNH0wZ1ZxQKE1+o2KTXFAHHfWwnZCcUDk+BHPKzVxQPe6rLKpJXFAVb2mbfATcUAAAAAAAABxQA==\",\"dtype\":\"float64\",\"order\":\"little\",\"shape\":[20]},{\"__ndarray__\":\"AAAAAAAQekBe6dey9Cl6QJjHpLCkSnpAogO5b2BxekBqBmdmeJ16QN04AQs9znpA4gPa0/4Ce0Bs0EM3Djt7QGoHkau7dXtAxxEUp1eye0BvWB+gMvB7QFBEBQ2dLnxAWz4YZOdsfEB6r6obYqp8QJsAD6pd5nxArJqXhSogfUCa5pYkGVd9QFRNX/15in1AxjdDhp25fUDeDpU11ON9QA==\",\"dtype\":\"float64\",\"order\":\"little\",\"shape\":[20]},{\"__ndarray__\":\"EDBhffwIekC0gzLyqB96QCnkh0cKNHpAh0noXRxGekDoq9oV21V6QF4D5k9CY3pA+keR7E1uekDVcWPM+XZ6QAh5489BfXpAplWY1yGBekC//wjElYJ6QHBvvHWZgXpAzZw5zSh+ekDofwerP3h6QNgQre/Zb3pAtEexe/NkekCRHJsviFd6QIOH8euTR3pAooA7kRI1ekAAAAAAACB6QA==\",\"dtype\":\"float64\",\"order\":\"little\",\"shape\":[20]},{\"__ndarray__\":\"AAAAAABgckBFPd+kQ21yQLxtwet1enJAKsj/KX2HckBXg/O0P5RyQAfW9eGjoHJA/fZfBpCsckADHYt36rdyQN1+0IqZwnJAUVOJlYPMckAg0Q7tjtVyQBUvuuah3XJA86Pk16LkckCBZucVeOpyQIKtG/YH73JAv6/azTjyckD6o33y8PNyQPzAXbkW9HJAhz3Ud5DyckBkUDqDRO9yQA==\",\"dtype\":\"float64\",\"order\":\"little\",\"shape\":[20]},{\"__ndarray__\":\"xnPAEi7OckBRe9j81uRyQO1Q0mmC/3JA2JekL7kdc0BQ80UkBD9zQI8GrR3sYnNA0nTQ8fmIc0BU4aZ2trBzQFjvJoKq2XNAFUJH6l4DdEDGfP6EXC10QK1CQygsV3RABDcMqlaAdEAG/U/gZKh0QPI3BaHfznRABIsiwk/zdEB2mZ4ZPhV1QIgGcH0zNHVAdnWNw7hPdUB8ie3BVmd1QA==\",\"dtype\":\"float64\",\"order\":\"little\",\"shape\":[20]},{\"__ndarray__\":\"LPYo8CIZeEAPcrL2IyF4QPDew9yPLHhAnA/dAhg7eEDd1n3JbUx4QHoHJpFCYHhAPHRVukd2eEDv74ulLo54QFxNSbOop3hATl8NRGfCeECI+Fe4G954QNvrqHB3+nhADQyAzSsXeUDnK10v6jN5QDYewPZjUHlAwLUohEpseUBPxRY4T4d5QK4fCnMjoXlApZeClXi5eUAAAAAAANB5QA==\",\"dtype\":\"float64\",\"order\":\"little\",\"shape\":[20]},{\"__ndarray__\":\"KxnjlsahdEAT0Y+LcJ90QNfAEhJTnnRAXmBdnVyedECOJ2Gge590QEyOD46eoXRAewxa2bOkdEADGjL1qah0QMwuiVRvrXRAusJQavKydECxTXqpIbl0QJVH94Trv3RAUii5bz7HdEDHZ7HcCM90QN590T4513RAeuIKCb7fdECCDU+uheh0QNx2j6F+8XRAa5a9VZf6dEAY5Mo9vgN1QA==\",\"dtype\":\"float64\",\"order\":\"little\",\"shape\":[20]},{\"__ndarray__\":\"PkoEUNa+dkBE+N3e2sd2QEFmLtOq0HZAdBibojfZdkAhk8nCcuF2QINaX6lN6XZA1PIBzLnwdkBZ4FagqPd2QEunA5wL/nZA7MutNNQDd0B30vrf8wh3QC4/kBNcDXdATJYTRf4Qd0ASXCrqyxN3QLwUeni2FXdAikSoZa8Wd0C5b1onqBZ3QIkaNjOSFXdANcng/l4Td0AAAAAAABB3QA==\",\"dtype\":\"float64\",\"order\":\"little\",\"shape\":[20]}],\"ys\":[{\"__ndarray__\":\"AAAAAABAckBtvPIKdzZyQNIHVsDyK3JAdiGfY5ggckCiSEM4jRRyQJu8t4H2B3JAp7xxg/n6cUAPiOaAu+1xQBtei71h4HFAEX7VfBHTcUA2JzoC8MVxQNSYLpEiuXFAMhIobc6scUCW0pvZGKFxQEcZ/xknlnFAjSXHcR6McUCuNmkkJINxQPKLWnVde3FAoWQQqO90cUAAAAAAAHBxQA==\",\"dtype\":\"float64\",\"order\":\"little\",\"shape\":[20]},{\"__ndarray__\":\"B3r8tQxRdUAhru0ybyB1QM9mDbd563RA4OBfKt6ydEAbWel0Tnd0QEoMrn58OXRAMzeyLxr6c0ClFvpv2blzQGrniSdseXNASuZlPoQ5c0ALUJKc0/pyQHthEyoMvnJAY1ftzt+DckCMbiRzAE1yQMDjvP4fGnJAyvO6WfDrcUBx2yJsI8NxQIHX+B1roHFAwyRBV3mEcUAAAAAAAHBxQA==\",\"dtype\":\"float64\",\"order\":\"little\",\"shape\":[20]},{\"__ndarray__\":\"AAAAAABwcUBAwEqJqplxQIHMDeBHyHFAE602Kin7cUBI6rKNnzFyQG0McDD8anJA05tbOJCmckDJIGPLrONyQKIjdA+jIXNAqyx8KsRfc0AxxGhCYZ1zQIpyJ33L2XNAA8ClAFQUdEDrNNHyS0x0QJJZl3kEgXRASrblus6xdEBh06nc+910QCc50QTdBHVA7G9JWcMldUAAAAAAAEB1QA==\",\"dtype\":\"float64\",\"order\":\"little\",\"shape\":[20]},{\"__ndarray__\":\"AAAAAABQd0CuZbFc/Q93QLyV0gJVyHZAoR4CZBR6dkDbjt7xSCZ2QN10Bh4AznVAIF8YWkdydUAd3LIXLBR1QE96dMi7tHRALsj73QNVdEAtVOfJEfZzQMis1f3ymHNAeGBl67Q+c0C1/TQEZehyQPYS47kQl3JAti4OfsVLckBq31TCkAdyQI6zVfh/y3FAmDmvkaCYcUAAAAAAAHBxQA==\",\"dtype\":\"float64\",\"order\":\"little\",\"shape\":[20]},{\"__ndarray__\":\"B3r8tQxRdUDmucsGg0F1QHcuXg3/K3VAQ9VCbg0RdUDKqwjOOvF0QI6vPtETzXRAEd5zHCWldEDVNDdU+3l0QGCxFx0jTHRANFGkGykcdEDPEWz0mepzQLjw/UsCuHNAcOvoxu6Ec0B7/7sJ7FFzQFoqBrmGH3NAkGlWeUvuckCeujvvxr5yQAobRb+FkXJAVIgBjhRnckAAAAAAAEByQA==\",\"dtype\":\"float64\",\"order\":\"little\",\"shape\":[20]},{\"__ndarray__\":\"AAAAAABAckCfWzrhumRyQI5As2rqjHJAZXbNBQW4ckC7xOsbgeVyQCjzcBbVFHNAPcm/XndFc0CYDjte3nZzQM2KRX6AqHNAdQVCKNTZc0AiRpPFTwp0QG4UnL9pOXRA8ze/f5hmdEBDeF9vUpF0QPic3/cNuXRAqG2igkHddEDqsQp5Y/10QFQxe0TqGHVAf7NWTkwvdUAAAAAAAEB1QA==\",\"dtype\":\"float64\",\"order\":\"little\",\"shape\":[20]},{\"__ndarray__\":\"AAAAAABQd0AKK2EWTyx3QGXYBH3d/3ZAQlcUYpPLdkDW9rjzWJB2QFEGHGAWT3ZA4NRm1bMIdkC6scKBGb51QA3sWJMvcHVAC9NSON4fdUDjtdmeDc50QMrjFvWle3RA8aszaY8pdECHXVkpsthzQL5HsWP2iXNAyLlkRkQ+c0DUAp3/g/ZyQBhyg72ds3JAwFZBrnl2ckAAAAAAAEByQA==\",\"dtype\":\"float64\",\"order\":\"little\",\"shape\":[20]},{\"__ndarray__\":\"B3r8tQxRdUCDt5jn8ll1QJqxNtVzXXVAI52A8d9bdUD1riCvh1V1QOMbwYC7SnVAuxgM2cs7dUBb2qsqCSl1QJWVSujDEnVAPH+ShEz5dEAjzC1y89x0QCOxxiMJvnRAD2MHDN6cdEC5Fpqdwnl0QPgAKUsHVXRAolZeh/wudECITOTE8gd0QIIXZXY64HNAY+yKDiS4c0AAAAAAAJBzQA==\",\"dtype\":\"float64\",\"order\":\"little\",\"shape\":[20]},{\"__ndarray__\":\"B3r8tQxRdUCFFQboPWZ1QAZvEXjpeHVAqEsQdBKJdUCFcPTpu5Z1QLSir+fooXVATacze5yqdUBsQ3Ky2bB1QC48XZujtHVAplbmQ/21dUDwV/+56bR1QCYFmgtssXVAYiOoRoerdUC9dxt5PqN1QFHH5bCUmHVANtf4+4yLdUCIbEZoKnx1QF5MwANwanVA0ztY3GBWdUAAAAAAAEB1QA==\",\"dtype\":\"float64\",\"order\":\"little\",\"shape\":[20]},{\"__ndarray__\":\"B3r8tQxRdUB0SDzWcWB1QBTROrQkc3VAPsJdxsmIdUBAygqDBaF1QG2Xp2B8u3VAE9iZ1dLXdUCIOkdYrfV1QBptFV+wFHZAHh5qYIA0dkDe+6rSwVR2QLO0PSwZdXZA6/aH4yqVdkDYcO9um7R2QMrQ2UQP03ZAFMWs2yrwdkAG/M2pkgt3QPQjoyXrJHdAK+uRxdg7d0AAAAAAAFB3QA==\",\"dtype\":\"float64\",\"order\":\"little\",\"shape\":[20]},{\"__ndarray__\":\"AAAAAABQd0Cphpv3CVF3QPQYuOfHTHdAqM3hZ5hDd0CRu6QP2jV3QHj5jHbrI3dAH54mNCsOd0BQwP3f9/R2QNl2nhGw2HZAgNiUYLK5dkAG/GxkXZh2QDr4srQPdXZA5OPy6CdQdkDL1biYBCp2QLbkkFsEA3ZAcCcHyYXbdUC+tKd457N1QGyj/gGIjHVAPwqY/MVldUAAAAAAAEB1QA==\",\"dtype\":\"float64\",\"order\":\"little\",\"shape\":[20]},{\"__ndarray__\":\"r2Q4CZWTdkCy3CW+4aV2QBwJ1qxPuHZAZ4tPWLfKdkANBZlD8dx2QIcXufHV7nZAR2S25T0Ad0DLjJeiARF3QI0yY6v5IHdABPcfg/4vd0Cne9Ss6D13QO5hh6uQSndAVUs/As9Vd0BS2QI0fF93QF+t2MNwZ3dA9GjHNIVtd0CIrdUJknF3QJccCsZvc3dAlldr7PZyd0AAAAAAAHB3QA==\",\"dtype\":\"float64\",\"order\":\"little\",\"shape\":[20]},{\"__ndarray__\":\"ACJQKHabTEDtyNtEtr9LQLNzEBzC60pA39jXGckgSkALrxuq+l9JQMKsxTiGqkhAjYi/MZsBSEAF+fIAaWZHQL20SRIf2kZAQXKt0exdRkAd6AerAfNFQOjMQgqNmkVAMtdHW75VRUCIvQAKxSVFQHs2V4LQC0VAnvg0MBAJRUB+uoN/sx5FQLAyLdzpTUVAvxcbsuKXRUBAIDdtzf1FQA==\",\"dtype\":\"float64\",\"order\":\"little\",\"shape\":[20]},{\"__ndarray__\":\"aDoiqyhdTEC31XT6rv5MQNZWvWdAfk1AnpGFNQHdTUDtWVemFRxOQJWDvPyhPE5AauI+e8o/TkBISmhksyZOQAuPwvqA8k1Ah4TXgFekTUCP/jA5Wz1NQADRWGawvkxAsc/YSnspTEB6zjop4H5LQDChCEQDwEpArhvM3QjuSUDKEQ85FQpJQFxXW5hMFUhAO8A6PtMQR0BAIDdtzf1FQA==\",\"dtype\":\"float64\",\"order\":\"little\",\"shape\":[20]},{\"__ndarray__\":\"aDoiqyhdTEA2zVg/xJhMQEZps9ZczkxA3SvSR+f9TEBKMlVpWCdNQM+Z3BGlSk1AsH8IGMJnTUA5AXlSpH5NQLQ7zpdAj01AZUyovouZTUCNUKedep1NQH1lawsCm01AeqiU3haSTUDGNsPtrYJNQLAtlw+8bE1AeqqwGjZQTUBryq/lEC1NQM6qNEdBA01A6GjfFbzSTEAAIlAodptMQA==\",\"dtype\":\"float64\",\"order\":\"little\",\"shape\":[20]},{\"__ndarray__\":\"AAAAAAAAcEAsDQBjdhxwQD9/M4/ePnBAEbLxQ5JmcEB5AZJA65JwQE3Ja0RDw3BAYmXWDvT2cECOMSlfVy1xQKyJu/TGZXFAj8nkjpyfcUALTfzsMdpxQPpvWc7gFHJAMo5T8gJPckCIA0IY8odyQNUrfP8Hv3JA7GJZZ57zckCmBDEPDyVzQNhsWrazUnNAWfcsHOZ7c0AAAAAAAKBzQA==\",\"dtype\":\"float64\",\"order\":\"little\",\"shape\":[20]},{\"__ndarray__\":\"PHqaqYY8WUBTBLwGCWNZQN8/UgQek1lAbMg+xMjLWUCHOWNoDAxaQLYuoRLsUlpAfkPa5GqfWkBvE/AAjPBaQBI6xIhSRVtA8FI4nsGcW0CM+S1j3PVbQHfJhvmlT1xAOl4kgyGpXEBaU+ghUgFdQGJEtPc6V11A4MxpJt+pXUBWiOrPQfhdQFISGBZmQV5AXQbUGk+EXkAAAAAAAMBeQA==\",\"dtype\":\"float64\",\"order\":\"little\",\"shape\":[20]},{\"__ndarray__\":\"PHqaqYY8WUCfInsHRfxYQBH3IP+quVhAx3Z2t2V1WED4IGZXIjBYQNJ02gWO6ldAh/G96VWlV0BOFvspJ2FXQFtifO2uHldA4FQsW5reVkAMbfWZlqFWQBYqwtBQaFZAMQt9JnYzVkCRjxDCswNWQGg2Z8q22VVA6H5rZiy2VUBG6Ae9wZlVQLXxJvUjhVVAZxqzNQB5VUCQ4ZalA3ZVQA==\",\"dtype\":\"float64\",\"order\":\"little\",\"shape\":[20]},{\"__ndarray__\":\"AAAAAADAXkBNHr8APFleQDS3zvqM5l1AWq4385xpXUBx5wLvFeRcQCBGOfOhV1xACK7jBOvFW0DfAgspmzBbQEkouGRcmVpA8wH0vNgBWkCAc8c2umtZQJ5gO9eq2FhA+KxYo1RKWEA4PCigYcJXQATystJ7QldACbIBQE3MVkDvXx3tf2FWQGLfDt+9A1ZAChTfGrG0VUCQ4ZalA3ZVQA==\",\"dtype\":\"float64\",\"order\":\"little\",\"shape\":[20]},{\"__ndarray__\":\"AAAAAACAT0AbTJQovgNQQKuNxoSkZVBAoqqEIwPjUED4iLwTKnlRQJ0OXGRpJVJAgyFRJBHlUkCcp4licbVTQN2G8y3ak1RAOaV8lZt9VUCg6BKoBXBWQAg3pHRoaFdAYnYeChRkWECgjG93WGBZQLdfhcuFWlpAmNVNFexPW0A21LZj2z1cQIZBrsWjIV1AdwMiSpX4XUAAAAAAAMBeQA==\",\"dtype\":\"float64\",\"order\":\"little\",\"shape\":[20]},{\"__ndarray__\":\"AAAAAACAT0APypVAvUhQQKnA2QCi0FBAaK3CVKhWUUDvWUdQytlRQNePXgcCWVJAuRj/jUnTUkA1vh/4mkdTQOpJt1nwtFNAcoW8xkMaVEBmOiZTj3ZUQGoy6xLNyFRAFTcCGvcPVUAEEmJ8B0tVQNeMAU74eFVAJnHXosOYVUCRiNqOY6lVQLScASbSqVVAKndDfAmZVUCQ4ZalA3ZVQA==\",\"dtype\":\"float64\",\"order\":\"little\",\"shape\":[20]},{\"__ndarray__\":\"AAAAAADAVUBCKNkkaKZVQMALx1zuelVAoAX6BQ0/VUAEcaJ+PvRUQAup8CT9m1RA0wgVV8M3VECA6z9zC8lTQDSsoddPUVNAD6Zq4grSUkAtNMvxtkxSQLax82POwlFAyHkUl8s1UUCC513pKKdQQAhWALlgGFBA8kBYyNoVT0DsQyOSkgBOQEFrwovd80xAMW2WcbDyS0AAAAAAAABLQA==\",\"dtype\":\"float64\",\"order\":\"little\",\"shape\":[20]},{\"__ndarray__\":\"AAAAAADAVUAsqdkeQUpVQOKX76CjwVRARSs61W4oVEB1wrEK6oBTQI+8TpBczVJArngJtQ0QUkDzVdrHREtRQICzuRdJgVBA4uA/58NoT0DD1wpVrc1NQOgJxRbdNUxAizVfyuGlSkDqGMoNSiJJQEBy9n6kr0dAzv/Uu39SRkDOf1Ziag9FQH2waxDz6kNAGlAFZKjpQkDgHBT7GBBCQA==\",\"dtype\":\"float64\",\"order\":\"little\",\"shape\":[20]},{\"__ndarray__\":\"sPLMZNRtREA64LoFsLBFQO+klwSiCUdAqvkASIh0SEBFl5S2QO1JQJs28Dapb0tAgJCxr5/3TEDYXXYHAoFOQLwrbhLXA1BAH5tA98DDUEB/WYGlLX5RQEpDfxAMMVJA8DSJK0vaUkDbCu7p2XdTQHqh/D6nB1RAOtUDHqKHVECGglJ6ufVUQM2FN0fcT1VAfLsBePmTVUAAAAAAAMBVQA==\",\"dtype\":\"float64\",\"order\":\"little\",\"shape\":[20]},{\"__ndarray__\":\"AAAAAAAAOECJ89zy2086QLw6Z6U6/DxA+TS5vNL5P0DUoPZurZ5BQBTgDtfEXUNA6ocy6Yo0RUALyO73Wh1HQCrQ0FWQEklA889lVYYOS0AZ9zpJmAtNQFB13YMhBE9AIj3tqz55UEDUmt+Lg2hRQJhrDAsNTVJARUe60ggkU0C0xS+MpOpTQLx+s+ANnlRAOAqMeXI7VUAAAAAAAMBVQA==\",\"dtype\":\"float64\",\"order\":\"little\",\"shape\":[20]},{\"__ndarray__\":\"AEJAmPkqEUD7T/LJJuEbQNdZvOzjUiRA7+is8sueK0DWAweDVNsxQDh0EVtsPjZAyl4XSdzpOkDEXLoU084/QKsDzsI/b0JA2fuuMQgFRUCD49A6WqFHQESHBELNPEpAtLMaq/jPTEBqNeTZc1NPQIHsGBnr31BAiTXqi9sGUkAaXE731hpTQIHGLQ0pGFRACdtwfx37VEAAAAAAAMBVQA==\",\"dtype\":\"float64\",\"order\":\"little\",\"shape\":[20]},{\"__ndarray__\":\"AAAAAADAVUDOnO6Nk15VQDy6R03O5FRAjV8+UjJVVEAElAWxQbJTQN1e0H1+/lJAVsfRzGo8UkCx1DyyiG5RQC+OREJal1BAGPY3IsNyT0ARRexlQa5NQMoXDHgz5ktAwnz9gJ0fSkB3giapg19IQGY37RjqqkZAEqq3+NQGRUD46OtwSHhDQJkC8KlIBEJAcAUqzNmvQEAAAAAAAAA/QA==\",\"dtype\":\"float64\",\"order\":\"little\",\"shape\":[20]},{\"__ndarray__\":\"AAAAAADAVUAXWKAxZzhVQJlcMw87iVRAhOasHGG2U0DSzgDevsNSQH3uItc5tVFAeB4HjLeOUECHb0IBO6hOQLEmynGiEkxAWxSNcXBkSUB66nIIcKVGQAFbYz5s3UNA5xdGGzAUQUA6pgVODaM8QCR9AtN1OjdAeRhS1S/+MUBGuIfJovspQAhYTiLhkSBAAGBbUht5D0AAAAAAAAAAAA==\",\"dtype\":\"float64\",\"order\":\"little\",\"shape\":[20]},{\"__ndarray__\":\"4BwU+xgQQkCZoLeteLZCQP3H+cnPYENADotKboQNREDV4Rm5/LpEQFTE18ieZ0VAjyr0u9ARRkCJDN+w+LdGQE9iCMZ8WEdA3iPgGcPxR0A8SdbKMYJIQG3KWvcuCElAeJ/dvSCCSUBgwM48be5JQCslnpJ6S0pA3MW73a6XSkB4mpc8cNFKQASboc0k90pAhb9JrzIHS0AAAAAAAABLQA==\",\"dtype\":\"float64\",\"order\":\"little\",\"shape\":[20]},{\"__ndarray__\":\"sPLMZNRtREC7MG1PgH1FQHC8Jb5+f0ZA6wT1U6JyR0BMedmzvVVIQKyI0YCjJ0lAJqLbXSbnSUDYNPbtGJNKQOGvH9RNKktAWIJWs5erS0BXG5kuyRVMQAHq5ei0Z0xAcF07hS2gTEC75JemBb5MQAPv+e8PwExAZOtfBB+lTED3SMiGBWxMQNp2MRqWE0xAKeSZYaOaS0AAAAAAAABLQA==\",\"dtype\":\"float64\",\"order\":\"little\",\"shape\":[20]},{\"__ndarray__\":\"AEJAmPkqEUBx5j49o0sUQKpZZXvbBhlAgLI/VAM5H0DmA63kPV8jQC44IO7SuSdAg4E/R3GaLECndWi4pPcwQH9AzfVF0zNA/CYxnDTXNkDSLvfriPo5QLpdgiVbND1AstyaxOE9QEDEI7or7eNBQO+GUOjbh0NADImPGjolRUDzrKjik7dGQIJ1zWB1OkhAk2UvtWqpSUAAAAAAAABLQA==\",\"dtype\":\"float64\",\"order\":\"little\",\"shape\":[20]},{\"__ndarray__\":\"sPLMZNRtREACrcmcINdEQFIRQO/HLkVAvJa+4DZ1RUBXtNP12apFQDjhDbMd0EVAeJT7nG7lRUAtRSs4OetFQHBqKwnq4UVAWnuKlO3JRUD87tZesKNFQHQ8n+yeb0VA1tpxwiUuRUA7Qd1ksd9EQLnmb1iuhERAaEK4IYkdREBfy0RFrqpDQLb4o0eKLENAhEFkrYmjQkDgHBT7GBBCQA==\",\"dtype\":\"float64\",\"order\":\"little\",\"shape\":[20]},{\"__ndarray__\":\"4BwU+xgQQkAdxTbxvMtBQITqRA+JiEFAW92z3/JGQUDj7fjsbwdBQF5sicF1ykBADqna53mQQEA09GHq8VlAQBSelFNTJ0BA3e3PWyfyP0AJnqIHUZ8/QDTti78OVz9A4Xt2mEsaP0CS6kyn8uk+QMzZ+QDvxj5AFOpnuiuyPkDqu4Hok6w+QNjvMaAStz5AXSZj9pLSPkAAAAAAAAA/QA==\",\"dtype\":\"float64\",\"order\":\"little\",\"shape\":[20]},{\"__ndarray__\":\"4BwU+xgQQkCMFDsIBQRBQDiuQuGy0D9AhbB7PKWAPUBwFw/2WR47QGjK6uFJsDhA0bD80+08NkAdsjKgvsozQLi1eho1YDFAGkaFLZQHLkAKw/DR7HcpQB2xE8plHiVAL9/JvfAHIUAoON6p/oIaQEJtvm4GsBNAyvbXM7hhC0CEAD32xT4BQBlmNoj5VfI/8E0O5xnR2j8AAAAAAAAAAA==\",\"dtype\":\"float64\",\"order\":\"little\",\"shape\":[20]},{\"__ndarray__\":\"sPLMZNRtRED6OZPOG29DQODYNg7CXkJAqLuEpg1AQUCSzkkaRRZAQMH7pdhdyT1ApmvaPiNdO0BYxcpsZ+44QFvhEGi3gzZANZhGNqAjNEBgwgXdrtQxQMpw0MPgOi9AjqUPleMIK0AQ1Pw4gCAnQFSty7rQjiNAY+KvJe9gIECGSLoJ60cbQPVHDsf7yRZAGCXDmURiE0AAQkCY+SoRQA==\",\"dtype\":\"float64\",\"order\":\"little\",\"shape\":[20]},{\"__ndarray__\":\"oMD7+E0rIEDDQsemnGYgQD+fGBJM6yBAtP4eYaizIUC+iQm6/bkiQPxoB0OY+CNAC8VHIsRpJUCFxvl9zQcnQA2WTHwAzShAQVxvQ6mzKkC4QZH5E7YsQBRv4cSMzi5AeobH5a97MED5oeSZbJUxQFee35GisTJA4w/Q4HfNM0Dqis2ZEuY0QL6j78+Y+DVAqu5NljACN0AAAAAAAAA4QA==\",\"dtype\":\"float64\",\"order\":\"little\",\"shape\":[20]},{\"__ndarray__\":\"AEJAmPkqEUCG87JiTpgTQHefsOSlhhZAGC1WqODnGUClg8A3360dQC1Fhg5B5SBAO5Qr8dQXI0CZot6Im2clQOvjrRqFzSdAzMun64FCKkDbzdpAgr8sQLddVV92PS9AgPcSRqfaMECqei2G/Q8yQCpygRI2OzNAzheWDclYNEBmpfKZLmU1QMFUHtreXDZAr1+g8FE8N0AAAAAAAAA4QA==\",\"dtype\":\"float64\",\"order\":\"little\",\"shape\":[20]},{\"__ndarray__\":\"AAAAAAAAOEA+zHuBgrI3QN3/USk3fzdAQBdp7dxkN0DHjqfDMmI3QNTi86H3dTdAw480fuqeN0D0EVBOyts3QM3lLAhWKzhAq4exoUyMOEDrc8QQbf04QPImTEt2fTlAHx0vRycLOkDQ0lP6PqU6QGjEoFp8SjtARm78XZ75O0DKTE36Y7E8QFXceSWMcD1AR5lo1dU1PkAAAAAAAAA/QA==\",\"dtype\":\"float64\",\"order\":\"little\",\"shape\":[20]},{\"__ndarray__\":\"AAAAAAAAOEAga4SvEiM2QAzZCuzXPjRADw19apxXMkBzysTfrHEwQP6olwGsIi1A8dz3BMl1KUBUt30zSuUlQLy+/PbIeSJAavOQcr13HkCc3WjISWgYQDRJKMNp1hJArobsbKCmC0BEsvPrX+ACQNNeaFXv+PY/m2HwQTV15j8beJhJaFTGP5aQVhpxk8C/YO8pr1y8yL8AAAAAAAAAAA==\",\"dtype\":\"float64\",\"order\":\"little\",\"shape\":[20]},{\"__ndarray__\":\"AEJAmPkqEUAmXhyAWmIXQKV935lN9R1Anzygo1doIkDYFPv0rfAlQNyz2/EXiilACoYdywMrLUDg+83Y72QwQLI6GeuMLjJAqDXeNJDtM0DwoorOMJ01QLw4jNClODdAPa1QUya7OECgtkVv6R86QBYL2TwmYjtAzmB41BN9PED4bZFO6Ws9QMTokcPdKT5AYofnSyiyPkAAAAAAAAA/QA==\",\"dtype\":\"float64\",\"order\":\"little\",\"shape\":[20]},{\"__ndarray__\":\"AEJAmPkqEUAAQIlBMkkIQKMOcFMWCP4/ywpTkpIy6j+lUYolqW3Bv3MdIf4uge+/pnbkThCT+78+mI4OacwCwGR1VbnH4gbABOo+bH0GCsBeDcNrYzEMwLf2WfxSXQ3AUL17YiWEDcBqeKDis58MwEY/QMHXqQrAJinTQmqcB8BPTdGrRHEDwAWGZYGARPy/7IW+F9mk7r8AAAAAAAAAAA==\",\"dtype\":\"float64\",\"order\":\"little\",\"shape\":[20]},{\"__ndarray__\":\"AAAAAAAAP0DjnggukHA9QC/ZuMKgvztAzfUTfb/yOUCsOx0ceg84QKzx115eGzZAtl5HBPobNEC0yW7L2hYyQJF5UXOOETBAYWrldUUjLED5hqvCSjkoQLbW+0pIcCRAbufcjFnTIEDjjaoMNNsaQBUG12pKlBRAN6aYYFrQDUAxIS+yJtoDQKFoF4XP5PY/TFsiJy4W4z8AAAAAAAAAAA==\",\"dtype\":\"float64\",\"order\":\"little\",\"shape\":[20]},{\"__ndarray__\":\"oMD7+E0rIEAJixw/3okiQGbThR1qfCRA6Ug6JNcFJkDAmjzjCiknQBh4j+rq6CdAHJA1ylxIKEAAkjESRkooQPEshlKM8SdAHBA2GxVBJ0Ct6kP8xTsmQNZrsoWE5CRAxEKERzY+I0CnHrzRwEshQFJduWgTIB5A9kPR/uwbGUCYT8WF2ZATQCm9NTtICQtABD1dmV/0+z8AAAAAAAAAAA==\",\"dtype\":\"float64\",\"order\":\"little\",\"shape\":[20]},{\"__ndarray__\":\"NhWDNSyzcEBjkb0jFZlwQG010vqVeXBA+ZDUWUZVcECxM9jfvSxwQD2t8CuUAHBAgxpjusGib0DQxlwldz9vQLJ+9dZ32G5Ad2FUDfNubkBqjqAGGARuQN8kAQEWmW1AJUSdOhwvbUCJC5zxWcdsQFyaJGT+YmxA7Q9e0DgDbECLi290OKlrQIUsgI4sVmtAKhK3XEQLa0DKWzsdr8lqQA==\",\"dtype\":\"float64\",\"order\":\"little\",\"shape\":[20]},{\"__ndarray__\":\"AAAAAABgbkAhZxsWOC5uQEuJiBv1+G1A3/nMlNvAbUA2TG4GkIZtQKsT8vS2Sm1AlOPd5PQNbUBRT7da7tBsQD/qA9tHlGxAtkdJ6qVYbEAN+wwNrR5sQKaX1McB52tA17Aln0iya0D92YUXJoFrQHCmerU+VGtAkKmJ/TYsa0Cydjh0swlrQDahDJ5Y7WpAdryL/8rXakDKWzsdr8lqQA==\",\"dtype\":\"float64\",\"order\":\"little\",\"shape\":[20]},{\"__ndarray__\":\"nBM7sROTXECVSsEtzhRcQNFYmjLEjVtA0JqJ7pX/WkAMbVKQ42taQAAsuEZN1FlAITR+QHM6WUDw4Wes9Z9YQOWROLl0BlhAfKCzlZBvV0Asapxw6dxWQHFLtngfUFZAx6DE3NLKVUCmxorLo05VQIoZzHMy3VRA7fVLBB94VEBKuM2rCSFUQBq9FJmS2VNA2GDk+lmjU0AAAAAAAIBTQA==\",\"dtype\":\"float64\",\"order\":\"little\",\"shape\":[20]},{\"__ndarray__\":\"4MzLh3mOUkCllZKTQU1SQEs21XzI+FFA6O98DfKSUUCUA3MPoh1RQGCyoEy8mlBAXT3vjiQMUEBKy49AfedOQJnYJ5Xcpk1AySR5ry5aTEACMlYjOwVLQHKCkYTJq0lAQZj9ZqFRSECW9WxeivpGQJkcsv5LqkVAdY+f261kREBQ0AeJdy1DQFZhvZpwCEJArsSSpGD5QECAfFo6DwRAQA==\",\"dtype\":\"float64\",\"order\":\"little\",\"shape\":[20]},{\"__ndarray__\":\"AAAAAADAWkBEPjPcie9aQJQsV39hK1tAUEdS30VyW0DdCgvy9cJbQJfzZ60wHFxA3n1PB7V8XEARJqj1QeNcQJZoWG6WTl1Ay8FGZ3G9XUAKrlnWkS5eQLqpd7G2oF5APTGH7p4SX0DqwG6DCYNfQCvVFGa18F9ALvUvxjAtYEBtPht2Zl9gQIaEvz1bjmBApwUQmG65YEAAAAAAAOBgQA==\",\"dtype\":\"float64\",\"order\":\"little\",\"shape\":[20]},{\"__ndarray__\":\"4HARcKuHUkBG51ReYClTQObZ5ENa31NARiA4GN+mVEDukcXSNH1VQGQGBGuhX1ZAK1Vq2GpLV0DLVW8S1z1YQMvfiRAsNFlAssowyq8rWkAA7to2qCFbQEAh/01bE1xA+DsUBw/+XECsFZFZCd9dQOSF7DyQs15AJ2SdqOl4X0D7Qw3KLRZgQG5kbfuVZWBAL38qZFCpYEAAAAAAAOBgQA==\",\"dtype\":\"float64\",\"order\":\"little\",\"shape\":[20]},{\"__ndarray__\":\"AAAAAADAUkDTJWcghXdTQF1FcTxVQFRAjkQMY8AXVUBgCSajFvtVQMF5rAuo51ZApHuNq8TaV0D59LaRvNFYQLrLFs3fyVlA1eWabH7AWkA8KTF/6LJbQOR7xxNunlxAwMNLOV+AXUDA5qv+C1ZeQNrK1XLEHF9AAVa3pNjRX0ASN59RTDlgQJx8rD4qfmBAmG76IC62YEAAAAAAAOBgQA==\",\"dtype\":\"float64\",\"order\":\"little\",\"shape\":[20]},{\"__ndarray__\":\"AAAAAACAXkDqhedNk+RdQFJtFciVYl1AHbm0YHL5XEAzbPAJlKhcQHOJ87Vlb1xAvhPpVlJNXED6DfzexEFcQA97V0AoTFxA210mbedrXEBBuZNXbaBcQCiQyvEk6VxAc+X1LXlFXUAEvED+1LRdQMAW1lSjNl5AivjgI0/KXkBEZIxdQ29fQGquAXp1EmBAjnK4bFh1YEAAAAAAAOBgQA==\",\"dtype\":\"float64\",\"order\":\"little\",\"shape\":[20]},{\"__ndarray__\":\"sIC4rduTUUD7nnll0clSQAvkrp/3BVRA3P7upWhFVUBtntDBPoVWQLlx6jyUwldAvCfTYIP6WEBvbyF3JipaQNj3a8mXTltA7m9JofFkXECqhlBITmpdQA7rFwjIW15AF0w2Knk2X0C+WEL4e/dfQABg6V31TWBAbhg/32+QYEAnre2kusFgQKh1wNNi4GBAcsmCkPXqYEAAAAAAAOBgQA==\",\"dtype\":\"float64\",\"order\":\"little\",\"shape\":[20]},{\"__ndarray__\":\"AAAAAADAWkAJczd33qhaQOfSqVJMlFpAJ8wDwUmCWkBQC/Lw1nJaQOs8IRH0ZVpAeg0+UKFbWkCKKfXc3lNaQKA98+WsTlpASPbkmQtMWkD//3Yn+0taQFcHVr17TlpA1Lguio1TWkD8wK28MFtaQFrMf4NlZVpAc4dRDSxyWkDOns+IhIFaQPW+piRvk1pAbZSDD+ynWkDAyxJ4+75aQA==\",\"dtype\":\"float64\",\"order\":\"little\",\"shape\":[20]},{\"__ndarray__\":\"4HARcKuHUkCV8nSOPdxSQPPiY78QPFNAIZ1uBKylU0BKfCVflhdUQI/bGNFWkFRAFhbZW3QOVUAHh/YAdpBVQIaJAcLiFFZAu3iKoEGaVkDJryGeGR9XQNeJV7zxoVdACmK8/FAhWECKk+BgvptYQHt5VOrAD1lABG+omt97WUBIz2xzod5ZQHD1MXaNNlpAoTyIpCqCWkAAAAAAAMBaQA==\",\"dtype\":\"float64\",\"order\":\"little\",\"shape\":[20]},{\"__ndarray__\":\"AAAAAADAUkAhMYdQYipTQGhO8LcLnVNAa8FCT40WVEC884UveJVUQO1OwXFdGFVAjjz8Ls6dVUA0Jj6AWyRWQHZ1jn6WqlZA4JP0QhAvV0AF63fmWbBXQHzkH4IELVhA0unzLqGjWECeZPsFwRJZQHC+PSD1eFlA3mDCls7UWUB1tZCC3iRaQMwlsPy1Z1pAdBsoHuabWkAAAAAAAMBaQA==\",\"dtype\":\"float64\",\"order\":\"little\",\"shape\":[20]},{\"__ndarray__\":\"AAAAAADAV0DCgLFmgSNYQM9NlNh9g1hAwC4Lv2vfWEAt63iDwTZZQKtKQI/1iFlA0BTES37VWUA1EWci0htaQHIHjHxnW1pAHb+Vw7STWkDM/+ZgMMRaQBWR4r1Q7FpAkTrrQ4wLW0DWw2NcWSFbQHz0rnAuLVtAGZQv6oEuW0BEakgyyiRbQJQ+XLJ9D1tAoNjN0xLuWkAAAAAAAMBaQA==\",\"dtype\":\"float64\",\"order\":\"little\",\"shape\":[20]},{\"__ndarray__\":\"qIEZElsoX0AR7B+8luJeQDeoJyaAmV5AXWK4deFNXkDLxlnQhABeQLeBk1s0sl1AYT/tPLpjXUAHrO6Z4BVdQPJzH5hxyVxAW0MHXTd/XEB+xi0O/DdcQJ+pGtGJ9FtA/phVy6q1W0DYQGYiKXxbQGxN1PvOSFtA/WonfWYcW0DIRefLufdaQAyKmw2T21pACuTLZ7zIWkAAAAAAAMBaQA==\",\"dtype\":\"float64\",\"order\":\"little\",\"shape\":[20]},{\"__ndarray__\":\"sIC4rduTUUCLr3+wZk5RQMto4Ia0J1FAEN+KhCAeUUD2RC/9BTBRQBrNfUTAW1FAFaomrqqfUUCFDtqNIPpRQAotSDd9aVJAPDgh/hvsUkC4YhU2WIBTQBzf1DKNJFRAA+APSBbXVEAJmHbJTpZVQMs5uQqSYFZA6PeHXzs0V0D3BJMbpg9YQJiTipIt8VhAZ9YeGC3XWUAAAAAAAMBaQA==\",\"dtype\":\"float64\",\"order\":\"little\",\"shape\":[20]},{\"__ndarray__\":\"4HARcKuHUkDmKQT3TPNSQL3vzxKdZ1NAFMqx8yLjU0CXwObJZWRUQPbaq8Xs6VRA2iA+Fz9yVUDymdru4/tVQO9NvnxihVZAfEQm8UENV0BEhU98CZJXQPUXd05AElhAPwTal22MWEDQUbWIGP9YQFAIRlHIaFlAci/JIQTIWUDgznsqUxtaQErumps8YVpAWpVjpUeYWkDAyxJ4+75aQA==\",\"dtype\":\"float64\",\"order\":\"little\",\"shape\":[20]},{\"__ndarray__\":\"AAAAAADAUkBuryMy0NVSQFfcnWim6FJAKZXluoz4UkBS6HFAjQVTQD3kuRCyD1NAWJc0QwUXU0AOEFnvkBtTQM9cnixfHVNABYx7EnocU0AcrGe46xhTQITL2TW+ElNAqfhIovsJU0D0QSwVrv5SQNa1+qXf8FJAumIrbJrgUkANVzV/6M1SQDyhj/bTuFJAtE+x6WahUkDgcBFwq4dSQA==\",\"dtype\":\"float64\",\"order\":\"little\",\"shape\":[20]},{\"__ndarray__\":\"sIC4rduTUUCVKDZ3HChSQAd728tIrlJAdE/I/TQmU0BffRxftY9TQDXc90Ge6lNAb0N6+MM2VECEisPU+nNUQO2I8ygXolRAHRYqR+3AVECMCYeBUdBUQK46KioY0FRA/4AzkxXAVEDxs8IOHqBUQPyq9+4FcFRAlj3yhaEvVEA3Q9Ilxd5TQFWTtyBFfVNAZgXCyPUKU0DgcBFwq4dSQA==\",\"dtype\":\"float64\",\"order\":\"little\",\"shape\":[20]},{\"__ndarray__\":\"AAAAAADAUkCTVw9Z+MxSQBut+VWW7FJAsRZzPmsdU0B0qi9aCF5TQHp+4/D+rFNA3qhCSuAIVEC4PwGuPXBUQCVZ02Oo4VRAQAtts7FbVUAgbILk6txVQOGRxz7lY1ZAnpLwCTLvVkBuhLGNYn1XQG59vhEIDVhAuJPL3bOcWEBi3Yw59ypZQIxwtmxjtllATWP8vok9WkDAyxJ4+75aQA==\",\"dtype\":\"float64\",\"order\":\"little\",\"shape\":[20]},{\"__ndarray__\":\"AAAAAADAV0DUQlpK021XQDjnU0o4GFdAMUtIUBTAVkDFzJKsTGZWQPXJjq/GC1ZAx6CXqWexVUBArwjrFFhVQGdTPcSzAFVAO+uQhSmsVEDC1F5/W1tUQANuAgIvD1RAABXXXYnIU0C+JzjjT4hTQEEEgeJnT1NAjwgNrLYeU0CqkjeQIfdSQJkAXN+N2VJAX7DV6eDGUkAAAAAAAMBSQA==\",\"dtype\":\"float64\",\"order\":\"little\",\"shape\":[20]},{\"__ndarray__\":\"AAAAAADAUkAmetE33ilTQKWzQe8kp1NA0GnQGZs1VEAAWv2qB9NUQINBSJYxfVVAqd0wz98xVkDK6zZJ2e5WQDop2vfksVdASVOazsl4WEBKJ/fATkFZQJJicMI6CVpAdMKFxlTOWkBCBLfAY45bQE/lg6QuR1xA8CJsZXz2XEB1eu/2E5pdQDSpjUy8L15AfmzGWTy1XkCogRkSWyhfQA==\",\"dtype\":\"float64\",\"order\":\"little\",\"shape\":[20]},{\"__ndarray__\":\"sIC4rduTUUD+yqfOTCpRQJiOkINqz1BAhJQbB/+CUEDTpfGT1ERQQIuLu2S1FFBAZR1EaNfkT0Cv8Jt5g7tPQAkj0HIDrU9AhEYyyeu4T0Av7RPy0N5PQJFUY7EjD1BAOQZOyHE7UECY1HL4HHRQQLiIenzvuFBAo+sNj7MJUUBixtVqM2ZRQADieko5zlFAhwemaI9BUkAAAAAAAMBSQA==\",\"dtype\":\"float64\",\"order\":\"little\",\"shape\":[20]},{\"__ndarray__\":\"AAAAAADAV0AUuEDPkDpYQJtaACwKr1hAsltOruIcWUB7LzrukINZQBFK04OL4llAlB8pB0k5WkAiJEsQQIdaQNzLSDfny1pA34oxFLUGW0BG1RQ/IDdbQDUfAlCfXFtAyNwI36h2W0AcgjiEs4RbQFKDoNc1hltAiFRQcaZ6W0DcaVfpe2FbQG43xdcsOltAWjGp1C8EW0DAyxJ4+75aQA==\",\"dtype\":\"float64\",\"order\":\"little\",\"shape\":[20]},{\"__ndarray__\":\"AAAAAADAV0DLZH3OPSxYQNrXL+YQn1hAh3TyiiUXWUAqVqAAKJNZQBiYFIvEEVpAqVUqbqeRWkAzqrztfBFbQBKxpk3xj1tAm4XD0bALXEAkQ+69Z4NcQAgFAlbC9VxAmubZ3WxhXUA2A1GZE8VdQDJ2QsxiH15A5FqJugZvXkCkzACoq7JeQMrmg9j96F5ArsTtj6kQX0CogRkSWyhfQA==\",\"dtype\":\"float64\",\"order\":\"little\",\"shape\":[20]},{\"__ndarray__\":\"AAAAAADAVUC8q37YXFdVQMmAq1Jg/1RAjVnItK63VEBwEBdF7H9UQNF/2Um9V1RAFoJRCcY+VECm8cDJqjRUQOaoadEPOVRAOYKNZplLVEACWG7P62tUQKgETlKrmVRAjmJuNXzUVEAbTBG/AhxVQLKbeDXjb1VAuCvm3sHPVUCR1psBQztWQKJ22+MKslZAUObmy70zV0AAAAAAAMBXQA==\",\"dtype\":\"float64\",\"order\":\"little\",\"shape\":[20]},{\"__ndarray__\":\"AAAAAADAVUDcmj18+8JVQAcbbFaX1lVAmcGp+535VUCpzxTZ2SpWQEaGy1sVaVZAgSbs8BqzVkB08ZQFtQdXQDEo5AauZVdAyQv4YdDLV0BQ3e6D5jhYQNzd5tm6q1hAgE7+0BcjWUBQcFPWx51ZQFyEBFeVGlpAvssvwEqYWkCEh/N+shVbQMP4bQCXkVtAkGC9scIKXEAAAAAAAIBcQA==\",\"dtype\":\"float64\",\"order\":\"little\",\"shape\":[20]},{\"__ndarray__\":\"AAAAAAAARkBhBvyz85dPQNTESHnu51RAzRj1+m5EWkAA0xd8DNJfQKfj4gyswGJAy+SJeHGhZUDeVosPn4NoQNOjcWB9X2tAmjXH+VQtbkAPOws1t3JwQK3n9B8JwHFAnNXlhMT6ckDWOSOrDR90QFRJ8tkIKXVADTmYWNoUdkD6PVpupt52QBONfWKRgndAUltHfL/8d0Cv3fwCVUl4QA==\",\"dtype\":\"float64\",\"order\":\"little\",\"shape\":[20]},{\"__ndarray__\":\"GfQcCIHSeECScslkPOl4QCNLc+8RA3lAIhL86ZofeUDpW0WWcD55QM28MDYsX3lAIcmfC2eBeUA7FXRYuqR5QHY1j16/yHlAJb7SXw/teUCdQyCeQxF6QDdaWVv1NHpAR5Zf2b1XekAmjBRaNnl6QCbQWR/4mHpAoPYQa5y2ekDpkxt/vNF6QFg8W53x6XpAQ4SxB9X+ekAAAAAAABB7QA==\",\"dtype\":\"float64\",\"order\":\"little\",\"shape\":[20]},{\"__ndarray__\":\"AAAAAADAe0ARSsUdp8d7QDR/t3+XzHtABrq2KvPOe0AaFaMj3M57QBOrXG90zHtAgJbDEt7He0D+8bcSO8F7QCjYGXStuHtAl2PJO1eue0DerqZuWqJ7QJ7UkRHZlHtAbe9qKfWFe0DkGRK70HV7QJpuZ8uNZHtALghLX05Se0AzAZ17ND97QEZ0PSViK3tA/nsMYfkWe0D1MuozHAJ7QA==\",\"dtype\":\"float64\",\"order\":\"little\",\"shape\":[20]},{\"__ndarray__\":\"AAAAAAAA+P8AAAAAAAD4/wAAAAAAAPj/AAAAAAAA+P8AAAAAAAD4/wAAAAAAAPj/AAAAAAAA+P8AAAAAAAD4/wAAAAAAAPj/AAAAAAAA+P8AAAAAAAD4/wAAAAAAAPj/AAAAAAAA+P8AAAAAAAD4/wAAAAAAAPj/AAAAAAAA+P8AAAAAAAD4/wAAAAAAAPj/AAAAAAAA+P8AAAAAAAD4/w==\",\"dtype\":\"float64\",\"order\":\"little\",\"shape\":[20]},{\"__ndarray__\":\"CFtdPm5fZkB7sDRW5hFmQAKbdIKmx2VAlVdaHhCBZUApIyOFhD5lQK46DBJlAGVAF9tSIBPHZEBcQTQL8JJkQHKq7S1dZGRASFO847s7ZEDUeN2HbRlkQAlYjnXT/WNA3y0MCE/pY0BFN5SaQdxjQDGxY4gM12NAmNi3LBHaY0Br6s3isOVjQKAj4wVN+mNALME08UYYZEAAAAAAAEBkQA==\",\"dtype\":\"float64\",\"order\":\"little\",\"shape\":[20]},{\"__ndarray__\":\"AAAAAADAZUBMoQ6lgo5lQCtWRWorVGVAONfMRgASZUAW3c0xB8lkQF0gcSJGemRAq1nfD8MmZECeQUHxg89jQNaQv72OdWNA7f+CbOkZY0CAR7T0mb1iQC4gfE2mYWJAlEIDbhQHYkBPZ3JN6q5hQPtG8uItWmFAOJqrJeUJYUChGccMFr9gQNZ9bY/GemBAcH/HpPw9YEAQ1/1DvglgQA==\",\"dtype\":\"float64\",\"order\":\"little\",\"shape\":[20]},{\"__ndarray__\":\"2F7+RMjkfkBrsnyucN9+QHW+VrL5135AwO2N5pTOfkAVqyPhc8N+QEBhGTjItn5ABHtwgcOofkAwYypTl5l+QJWESEN1iX5A8EnM5454fkAQHrfWFWd+QMFrCqY7VX5Ayp3H6zFDfkD2HvA9KjF+QBBahTJWH35A3rmIX+cNfkAtqftaD/19QMiS37r/7H1AdOE1FerdfUAAAAAAANB9QA==\",\"dtype\":\"float64\",\"order\":\"little\",\"shape\":[20]},{\"__ndarray__\":\"AAAAAABAfUC7nELBdFR9QM1CL9jLZn1AEgH4ZgJ3fUBd5s6PFYV9QH0B5nQCkX1ARGFvOMaafUCHFJ38XaJ9QCAqoePGp31A2bCtD/6qfUCFt/SiAKx9QPxMqL/Lqn1AEYD6h1ynfUCUXx0esKF9QFv6QqTDmX1AN1+dPJSPfUD8nF4JH4N9QH7CuCxhdH1Ajd7dyFdjfUAAAAAAAFB9QA==\",\"dtype\":\"float64\",\"order\":\"little\",\"shape\":[20]},{\"__ndarray__\":\"AAAAAADAZUB/CY4a2pRlQCNIHsy7aWVAUQaLD/w+ZUBzjq7f8RRlQOwqYzf062RAHyaDEVrEZEBzyuhoep5kQFBibjisemRAGzjuekZZZEA2lkIroDpkQArHRUQQH2RA/RTSwO0GZEBzysGbj/JjQNIx789M4mNAgJU0WHzWY0DiP2wvdc9jQF57cFCOzWNAWZIbth7RY0A6z0dbfdpjQA==\",\"dtype\":\"float64\",\"order\":\"little\",\"shape\":[20]},{\"__ndarray__\":\"AAAAAADQfUBur4kgnNl9QDlwHEMJ5H1ATfQQAiXvfUCS7b/3zPp9QOsNgr7eBn5ANgew8DcTfkBii6Ioth9+QFZMsgA3LH5A8vs3E5g4fkAcTIz6tkR+QL7uB1FxUH5Au5UDsaRbfkD48te0LmZ+QF243fbsb35AzZdtEb14fkAwQ+CefIB+QGxsjjkJh35AZMXQe0CMfkAAAAAAAJB+QA==\",\"dtype\":\"float64\",\"order\":\"little\",\"shape\":[20]},{\"__ndarray__\":\"AAAAAACAfkCG6p62OXt+QB5yGA/zdH5Am7eJIVFtfkDc2w8GeWR+QK7/x9SPWn5A5kPPpbpPfkBayUKRHkR+QOawP6/gN35AWBvjFyYrfkCEKUrjEx5+QET8kSnPEH5AbrTXAn0DfkDUcjiHQvZ9QExY0c5E6X1ArIW/8ajcfUDJGyAIlNB9QHg7ECorxX1AjwWtb5O6fUDimhPx8bB9QA==\",\"dtype\":\"float64\",\"order\":\"little\",\"shape\":[20]}]},\"selected\":{\"id\":\"1058\"},\"selection_policy\":{\"id\":\"1059\"}},\"id\":\"1003\",\"type\":\"ColumnDataSource\"},{\"attributes\":{\"axis\":{\"id\":\"1019\"},\"dimension\":1,\"grid_line_alpha\":0.25,\"grid_line_color\":null,\"ticker\":null},\"id\":\"1022\",\"type\":\"Grid\"},{\"attributes\":{\"source\":{\"id\":\"1040\"}},\"id\":\"1043\",\"type\":\"CDSView\"},{\"attributes\":{},\"id\":\"1053\",\"type\":\"AllLabels\"},{\"attributes\":{},\"id\":\"1020\",\"type\":\"BasicTicker\"},{\"attributes\":{\"overlay\":{\"id\":\"1029\"}},\"id\":\"1025\",\"type\":\"BoxZoomTool\"},{\"attributes\":{},\"id\":\"1028\",\"type\":\"HelpTool\"},{\"attributes\":{\"fill_color\":{\"field\":\"y\",\"transform\":{\"id\":\"1005\"}},\"line_color\":{\"value\":\"#996515\"},\"size\":{\"field\":\"size\"},\"x\":{\"field\":\"x\"},\"y\":{\"field\":\"y\"}},\"id\":\"1044\",\"type\":\"Scatter\"},{\"attributes\":{},\"id\":\"1051\",\"type\":\"BasicTickFormatter\"},{\"attributes\":{},\"id\":\"1062\",\"type\":\"Selection\"},{\"attributes\":{},\"id\":\"1023\",\"type\":\"PanTool\"},{\"attributes\":{},\"id\":\"1024\",\"type\":\"WheelZoomTool\"},{\"attributes\":{},\"id\":\"1063\",\"type\":\"UnionRenderers\"},{\"attributes\":{\"active_multi\":null,\"tools\":[{\"id\":\"1023\"},{\"id\":\"1024\"},{\"id\":\"1025\"},{\"id\":\"1026\"},{\"id\":\"1027\"},{\"id\":\"1028\"},{\"id\":\"1047\"}]},\"id\":\"1030\",\"type\":\"Toolbar\"},{\"attributes\":{},\"id\":\"1026\",\"type\":\"SaveTool\"},{\"attributes\":{},\"id\":\"1027\",\"type\":\"ResetTool\"},{\"attributes\":{\"line_alpha\":{\"value\":0.1},\"line_color\":{\"value\":\"#D4AF37\"},\"line_width\":{\"value\":1.5},\"xs\":{\"field\":\"xs\"},\"ys\":{\"field\":\"ys\"}},\"id\":\"1037\",\"type\":\"MultiLine\"},{\"attributes\":{\"source\":{\"id\":\"1004\"}},\"id\":\"1046\",\"type\":\"CDSView\"},{\"attributes\":{\"source\":{\"id\":\"1003\"}},\"id\":\"1039\",\"type\":\"CDSView\"},{\"attributes\":{\"data\":{\"topic\":[0,1,2,3,4,5],\"x\":[{\"__ndarray__\":\"LPYo8CIZeEAAAAAAAPB/QAAAAAAA8H9ALPYo8CIZeEAs9ijwIhl4QA==\",\"dtype\":\"float64\",\"order\":\"little\",\"shape\":[5]},{\"__ndarray__\":\"AAAAAAAAcEAAAAAAANB3QAAAAAAA0HdAAAAAAAAAcEAAAAAAAABwQA==\",\"dtype\":\"float64\",\"order\":\"little\",\"shape\":[5]},{\"__ndarray__\":\"8LWpG5grcEAAAAAAALB3QAAAAAAAsHdA8LWpG5grcEDwtakbmCtwQA==\",\"dtype\":\"float64\",\"order\":\"little\",\"shape\":[5]},{\"__ndarray__\":\"QEUMeBE6MUAAAAAAAMBfQAAAAAAAwF9AQEUMeBE6MUBARQx4EToxQA==\",\"dtype\":\"float64\",\"order\":\"little\",\"shape\":[5]},{\"__ndarray__\":\"AAAAAAAgfEAAAAAAAPB/QAAAAAAA8H9AAAAAAAAgfEAAAAAAACB8QA==\",\"dtype\":\"float64\",\"order\":\"little\",\"shape\":[5]},{\"__ndarray__\":\"AAAAAAAAAAAAAAAAAIBOQAAAAAAAgE5AAAAAAAAAAAAAAAAAAAAAAA==\",\"dtype\":\"float64\",\"order\":\"little\",\"shape\":[5]}],\"y\":[{\"__ndarray__\":\"AAAAAAAAYEAAAAAAAABgQJO+fRbR7XdAk759FtHtd0AAAAAAAABgQA==\",\"dtype\":\"float64\",\"order\":\"little\",\"shape\":[5]},{\"__ndarray__\":\"AAAAAAAgcEAAAAAAACBwQAAAAAAAcH9AAAAAAABwf0AAAAAAACBwQA==\",\"dtype\":\"float64\",\"order\":\"little\",\"shape\":[5]},{\"__ndarray__\":\"sIC4rduTUUCwgLit25NRQJoLO58a62dAmgs7nxrrZ0CwgLit25NRQA==\",\"dtype\":\"float64\",\"order\":\"little\",\"shape\":[5]},{\"__ndarray__\":\"gHxaOg8EQECAfFo6DwRAQFQ1D6fZg19AVDUPp9mDX0CAfFo6DwRAQA==\",\"dtype\":\"float64\",\"order\":\"little\",\"shape\":[5]},{\"__ndarray__\":\"AAAAAAAAAAAAAAAAAAAAAAAAAAAAgF9AAAAAAACAX0AAAAAAAAAAAA==\",\"dtype\":\"float64\",\"order\":\"little\",\"shape\":[5]},{\"__ndarray__\":\"AAAAAAAAAAAAAAAAAAAAAJwTO7ETk1xAnBM7sROTXEAAAAAAAAAAAA==\",\"dtype\":\"float64\",\"order\":\"little\",\"shape\":[5]}]},\"selected\":{\"id\":\"1060\"},\"selection_policy\":{\"id\":\"1061\"}},\"id\":\"1040\",\"type\":\"ColumnDataSource\"},{\"attributes\":{},\"id\":\"1007\",\"type\":\"DataRange1d\"},{\"attributes\":{\"callback\":null,\"renderers\":[{\"id\":\"1045\"}],\"tooltips\":[[\"topic\",\"@topic\"],[\"title\",\"@title\"]]},\"id\":\"1047\",\"type\":\"HoverTool\"},{\"attributes\":{\"text_color\":\"#E0E0E0\",\"text_font\":\"Helvetica\",\"text_font_size\":\"1.15em\"},\"id\":\"1050\",\"type\":\"Title\"},{\"attributes\":{\"data_source\":{\"id\":\"1004\"},\"glyph\":{\"id\":\"1044\"},\"hover_glyph\":null,\"muted_glyph\":null,\"view\":{\"id\":\"1046\"}},\"id\":\"1045\",\"type\":\"GlyphRenderer\"},{\"attributes\":{},\"id\":\"1058\",\"type\":\"Selection\"},{\"attributes\":{\"data\":{\"sentiment\":[\"grey\",\"gold\",\"grey\",\"grey\",\"grey\",\"red\",\"grey\",\"grey\",\"red\",\"red\",\"grey\",\"grey\",\"grey\",\"red\",\"grey\",\"grey\",\"grey\",\"grey\",\"grey\",\"grey\",\"gold\",\"grey\",\"grey\",\"grey\",\"grey\",\"grey\",\"grey\",\"grey\",\"grey\",\"grey\",\"grey\",\"grey\",\"red\",\"grey\",\"grey\",\"grey\",\"grey\",\"grey\",\"grey\",\"red\",\"grey\",\"grey\",\"grey\",\"grey\",\"grey\",\"red\",\"red\",\"grey\",\"grey\",\"red\",\"grey\",\"red\",\"grey\",\"red\",\"grey\",\"grey\",\"grey\",\"grey\",\"grey\",\"grey\",\"grey\",\"red\",\"red\",\"grey\",\"grey\",\"grey\",\"grey\",\"red\",\"gold\",\"grey\",\"grey\",\"grey\",\"grey\",\"grey\",\"red\",\"red\",\"grey\",\"grey\",\"red\",\"grey\",\"grey\",\"grey\",\"grey\",\"grey\",\"gold\",\"grey\",\"grey\",\"grey\",\"grey\",\"grey\",\"grey\",\"grey\",\"grey\",\"grey\",\"grey\",\"grey\",\"grey\",\"grey\",\"grey\",\"grey\",\"grey\",\"gold\",\"grey\",\"grey\",\"grey\",\"grey\",\"grey\",\"grey\",\"grey\",\"grey\",\"red\",\"grey\",\"grey\",\"grey\",\"grey\",\"grey\",\"red\",\"gold\",\"grey\",\"red\",\"grey\",\"grey\",\"gold\",\"grey\",\"red\",\"grey\",\"grey\",\"grey\",\"red\",\"grey\",\"grey\",\"grey\",\"grey\",\"grey\",\"grey\",\"grey\",\"grey\",\"grey\",\"red\",\"grey\",\"grey\",\"grey\",\"grey\",\"grey\",\"grey\",\"grey\",\"grey\",\"grey\",\"red\",\"grey\",\"grey\",\"grey\",\"grey\",\"grey\",\"grey\",\"grey\",\"gold\",\"grey\",\"grey\",\"grey\",\"grey\",\"grey\",\"red\",\"grey\",\"grey\",\"grey\",\"grey\",\"grey\",\"grey\",\"grey\",\"grey\",\"grey\",\"grey\",\"gold\",\"red\",\"grey\",\"grey\",\"red\",\"grey\",\"red\",\"red\",\"grey\",\"grey\",\"grey\",\"red\",\"red\",\"grey\",\"grey\",\"red\",\"red\",\"red\",\"red\",\"grey\",\"red\",\"red\",\"red\",\"red\",\"red\",\"grey\",\"grey\",\"red\",\"red\",\"red\",\"red\",\"grey\",\"grey\",\"red\",\"red\",\"red\",\"grey\",\"grey\",\"red\",\"grey\",\"red\",\"grey\",\"grey\",\"grey\",\"grey\",\"grey\",\"grey\",\"grey\",\"grey\",\"grey\",\"grey\",\"red\",\"grey\",\"grey\",\"grey\"],\"size\":{\"__ndarray__\":\"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\",\"dtype\":\"float64\",\"order\":\"little\",\"shape\":[228]},\"title\":[\"one year brazil bolsonaro \\u2018 expected\",\"south american balloon youth camp brazil world\",\"brazil plan allow mining amazonian indigenous reserve\",\"brazilian tribe forest tapper unite bolsonaro\",\"brazil tribe stride digital age defend culture forest\",\"brazil indigenous community resist bolsonaro\",\"brazil answer greta thunberg want help protecting amazon rainforest tribe\",\"brazilian tribe back manifesto save amazon habitat bolsonaro\",\"genocide ethnocide ecocide brazilian tribe call protection amazon bolsonaro\",\"brazil environmental policy equate genocide indigenous amazon leader say\",\"brazilian tribe back manifesto save amazon habitat bolsonaro\",\"new specie titi monkey discovered brazil biology\",\"brazil indigenous sue bolsonaro saying evolving\",\"jair bolsonaro racist comment spark outrage indigenous group\",\"brazil travel michelle jana chan\",\"brazil indigenous sue bolsonaro saying evolving\",\"real madrid reinier brazil future number\",\"real madrid nears signing flamengo teen star reinier\",\"chelsea make brazil striker gabriel barbosa number one transfer target report\",\"malky mackay insists brazil face issue developing young player scotland\",\"allan rodrigues completes permanent exit liverpool midfielder return brazil\",\"veteran setter bruno ready lead brazil chase\",\"barcelona want finalize complicated deal brazilian midfielder\",\"everton soares everton interested brazil gremio winger\",\"intense pursuit brazil star million winger grab everton transfer rumour rated\",\"nghipandulwa brazil nbc\",\"real madrid add brazilian teen phenom reinier jesus\",\"brazil v argentina football rival clash politics\",\"mikel arteta admission gabriel martinelli eligibility play brazil italy\",\"real madrid sign teenager reinier jesus ongoing hunt brazil next superstar\",\"reinier jesus real madrid latest brazilian starlet\",\"report arsenal chasing brazil based spanish centre half\",\"brazil tennis player joao souza handed life ban involvement match fixing corruption\",\"pablo mari inside scoop spain brazil\",\"man city unknown history maker brazil pablo mari made arsenal\",\"real madrid reinier could see pre olympic start brazil\",\"seattle sounder acquire brazilian midfielder joao paulo\",\"fernando alonso reveals truth behind brazil f gp \\u2018 shock photo\",\"brazilian guitarist beloved musician around world\",\"unqualified dangerous oddball official running bolsonaro brazil\",\"bolsonaro want brazil tourism eden stop insulting everyone\",\"buying selling real estate brazil updated\",\"brazil raise national minimum wage\",\"top brazilian prospect watch\",\"celebrity like gisele bundchen martin scorsese donate fraction wealth charity\",\"brazil vulnerable cyber attack\",\"brazil judge order netflix remove film gay jesus\",\"brazil supreme court overturn censorship netflix show\",\"brazilian supreme court rule netflix allowed show gay jesus film\",\"brazilian amazon flame australia\",\"brazil issue new rule lower age gender reassignment surgery\",\"brazil court revers ban show depicting jesus gay\",\"gay jesus netflix parody spark censorship battle brazil\",\"brazil top court reject attempt remove lgbt movie\",\"area amazon affected wildfire predicted grow\",\"inflation brazil hit pct highest since\",\"brazilian star jolie olimpica handily win la cienegas\",\"juh\\u00e1sz gyula l\\u00e1bnyom\\u00e1ban \\u2013 interj\\u00fa th\\u00e9kes istv\\u00e1nnal\",\"brazil eliminated daylight saving time light people happy\",\"brazil emerging world class ai innovation hub\",\"brazil g auction delay dent country tech ambition\",\"brazil evangelical gang waging war afro brazilian\",\"brazil supreme court stand netflix gay jesus\",\"brazil amazon deforestation jumped v government data\",\"u back brazil oecd membership ahead argentina\",\"deforestation brazil amazon percent\",\"brazil sits leftist latin american nation body anti democracy fear\",\"brazil culture secretary fired \\u2018 coincidentally quoting goebbels\",\"galaxy fold arrives brazil even higher price\",\"least flee paraguay prison\",\"brazil begin defence men olympic football title victory\",\"violent brazilian gang escape paraguay jail\",\"got paid amazon burn\",\"police brazil paraguay recapture prisoner escaped\",\"glenn greenwald brazil charge\",\"rio violence police killing reach record high\",\"argentine airline flybondi say could fly domestic brazil\",\"player battle brazil centre forward tim vickery\",\"brazil find fewer worker slave like job despite complaint\",\"virus brazilian flood batter iron ore price outlook\",\"brazilian sent mexico u say understand\",\"jair bolsonaro appoints soap star brazil culture secretary\",\"brazil antitrust regulator open probe meatpackers jbs brf\",\"bryant death prompt brazilian football campaign gay prejudice\",\"mexico aim boost business brazil closed economy\",\"brazil seek mercosur uk trade deal similar agreement eu\",\"u travel brazil jump visa waiver\",\"brazilian guitarist beloved musician around world\",\"dave nielson choose free market socialism\",\"dave nielson choose free market socialism\",\"mamelodi sundown need january transfer window\",\"mamelodi sundown need january transfer window\",\"mamelodi sundown progress joy banter envy\",\"mamelodi sundown progress joy banter envy\",\"orlando pirate player mamelodi sundown know\",\"orlando pirate player mamelodi sundown know\",\"united state plan accelerate deportation brazilian\",\"united state plan accelerate deportation brazilian\",\"real estate mortgage understand work\",\"real estate mortgage understand work\",\"u weighs sending brazilian migrant mexico amid spike arrest\",\"iowa college helping international student say treated unfairly\",\"laffor hand mamelodi sundown injury boost ahead petro de luanda clash\",\"brazil india sign multiple memorandum understanding bolsonaro visit\",\"brazilian sent mexico u say understand\",\"mkhuma mamelodi sundown promote year old youngster\",\"brazilian bolsonaro first year disagree\",\"royalist pine day empire bolsonaro brazil\",\"opinion bolsonaro deserve nickname \\u2018 trump tropic even\",\"one year bolsonaro presidency\",\"brazil president jair bolsonaro say hernia resulting knife attack\",\"guitarist guinga combine music america\",\"return green shirt\",\"witcher beginner guide essential tip map witcher gear ign\",\"human ken doll roddy alves come transgender woman\",\"royalist pine day empire bolsonaro brazil\",\"low cost prosthesis give brazil cancer survivor new face\",\"sf brazil roberto causo \\u2013 locus online\",\"overwatch release detail seemingly leaked playstation brazil\",\"brazilian judge order netflix remove gay jesus comedy\",\"brazil cancel davos trip president bolsonaro citing security\",\"brazil bolsonaro education minister ridiculed series spelling howler\",\"brazil beauty company natura want give avon makeover\",\"brazil empty gesture woman\",\"brazil education minister mocked twitter spelling error\",\"beloved movie roger ebert hated\",\"brazil lula bolsonaro\",\"brazil documentary get oscar nomination expose division\",\"one year ruinous anti right policy brazil\",\"story behind spirit brazil\",\"brazil fire top culture official nazi linked comment\",\"far right bolsonaro fire latest round brazil culture war\",\"brazil step celac failure protect\",\"fuga de c\\u00e9rebros o doutores que preferiram deixar brasil para continuar pesquisas em outro pa\\u00eds\",\"toffoli equipara teto salarial de universidades federal e estadual\",\"novo partido n\\u00e3o usar\\u00e1 fundo eleitoral sancionado diz bolsonaro\",\"prazo para eleitor regularizar t\\u00edtulo termina em maio\",\"por que ma\\u00e7\\u00e3 vermelha corre risco de desaparecer\",\"brazil \\u2018 nazi scandal week matter\",\"brazilian president republic day chief guest arrive india friday\",\"bolsonaro popularity jump brazil economy improves crime drop\",\"india brazil tale mature democracy vibrant medium vociferous civil society\",\"brazil president jair bolsonaro india visit food energy space cooperation area focus\",\"brazilian piano legend play thanks \\u2018 magic glove\",\"part two bjarke ingels defends meeting brazil\",\"dynamic democracy india solve internal matter caa kashmir brazil\",\"glenn greenwald \\u2018 law brazil even matter anymore\",\"\\u2018 magic glove let acclaimed brazilian pianist play\",\"new film argues brazil teeter brink authoritarianism true\",\"sugarcane farmer flag brazil case india wto\",\"contemporary brazil captured two novel journalist collection\",\"india brazil ink pact sign action plan deepen strategic partnership\",\"india brazil sign pact agree joint action plan\",\"new chapter begin india brazil tie \\u2013 say pm modi talk president brazil jair bolsonaro\",\"india brazil decide deepen anti terror cooperation\",\"opinion time brazil india gave trade tie turboboost\",\"india brazil agree boost tie biofuel mining\",\"thatcher reagan week latest skirmish bolsonaro culture war\",\"jair bolsonaro third brazilian president attend republic day parade\",\"india brazil activate bilateral business leader forum goyal\",\"remain mexico expansion u require brazilian asylum seeker wait spanish speaking mexico u hearing\",\"bolsonaro curating brazil culture\",\"far right bolsonaro movement want u dead give\",\"tove lo head brazil passionate \\u2018 u gon na tell video\",\"brazil appoints ex soap opera star culture secretary\",\"brazil eletronuclear sign letter intent westinghouse\",\"michigan prisoner missing released ohio\",\"brazil bolsonaro eliminated daylight saving time everyone happy\",\"brazil bolsonaro eliminated daylight saving time everyone happy\",\"rio party launching countdown carnival end disorder\",\"rio party launching countdown carnival end disorder\",\"brazil documentary get oscar nomination expose division\",\"brazil documentary get oscar nomination expose division\",\"brazilian find soul mate latin internet dating site\",\"brazil bahia state report percent dengue increase\",\"cape cod group building community center area\",\"tourist warning vicious piranha attack swimmer brazil multiplying huge rate\",\"brazil ever guarantee safety ride sharing driver\",\"fire amazon forest rose\",\"one dead intoxication incident brazil bound vessel\",\"ten action brazilian scientist engage environmental\",\"sleepless penniless hopeless brazilian street\",\"brazil distributes million dos pentavalent vaccine\",\"tribute flow brazilian parent killed wa car crash\",\"brazil police investigate craft brewer two poison death\",\"brazil report third death suspected poison craft beer\",\"brazil continues mine export asbestos despite ban\",\"yellow fever alert issued southern southeastern brazil\",\"flooding landslide kill six brazil\",\"one year vale dam break pain run deep brazil mine disaster town\",\"heavy rain cause flooding landslide brazil killed\",\"deadly flooding landslide strike brazil\",\"brazil vale raise emergency watch level gongo soco mine dam heavy rain\",\"nearly dead thousand displaced storm lash southeast brazil\",\"mudslide flood kill brazil worst rain century \\u2013 exactly year died\",\"brazil dozen killed heavy rain cause flood landslide\",\"score dead heavy rain bring landslide evacuation brazil\",\"powerful storm kill brazil\",\"heavy rain flood leave dozen dead southeastern brazil\",\"least dead heavy rain flooding brazil\",\"u back program settle venezuelan migrant brazil\",\"death toll flooding brazil mining state rise\",\"exploding canal collapsing mall watch brazil deadly flood\",\"effect corrective information disease epidemic\",\"brazil flood landslide update defesa civil mina\",\"heavy rain flooding forecasted asuncion paraguay\",\"death toll rise brazil face record rainfall\",\"flooding aftermath brazil belo horizonte\",\"local news brazil man charged child molesting\",\"iran summons brazil charge affaire tehran soleimani comment\",\"brazil man arrested wire theft local news tribstar com\",\"inversion human right brazil\",\"brazil prosecutor charge ex vale ceo fabio schvartsman homicide dam collapse\",\"brazil vale german auditor charged dam disaster\",\"brazil charge ex vale ceo homicide dam disaster\",\"brazilian prosecutor charge u journalist glenn greenwald\",\"brazilian prosecutor charge journalist glenn greenwald cybercrime\",\"glenn greenwald brazil accuses journalist cyber crime\",\"greenwald charge \\u2018 existential threat journalism brazil say edward snowden\",\"charge glenn greenwald reveal rot brazil democracy\",\"brazil prosecutor charge vale individual dam disaster\",\"brazil journalist face baseless charge\",\"brazil tech innovation roundup vc investment reach new high\",\"glenn greenwald bolsonaro brazil \\u2018 trigger lot primal rage\",\"journalist glenn greenwald cybercrime accusation\",\"murder charge vale dam collapse case complicate brazilian probe\",\"brazilian prosecutor accuse glenn greenwald hacking case\",\"brazil prosecutor charge intercept greenwald hacking technology news firstpost\"],\"topic\":[\"5_indigenous tribe_brazil indigenous_rainforest indigenous_brazil reuters\",\"5_indigenous tribe_brazil indigenous_rainforest indigenous_brazil reuters\",\"5_indigenous tribe_brazil indigenous_rainforest indigenous_brazil reuters\",\"5_indigenous tribe_brazil indigenous_rainforest indigenous_brazil reuters\",\"5_indigenous tribe_brazil indigenous_rainforest indigenous_brazil reuters\",\"5_indigenous tribe_brazil indigenous_rainforest indigenous_brazil reuters\",\"5_indigenous tribe_brazil indigenous_rainforest indigenous_brazil reuters\",\"5_indigenous tribe_brazil indigenous_rainforest indigenous_brazil reuters\",\"5_indigenous tribe_brazil indigenous_rainforest indigenous_brazil reuters\",\"5_indigenous tribe_brazil indigenous_rainforest indigenous_brazil reuters\",\"5_indigenous tribe_brazil indigenous_rainforest indigenous_brazil reuters\",\"5_indigenous tribe_brazil indigenous_rainforest indigenous_brazil reuters\",\"5_indigenous tribe_brazil indigenous_rainforest indigenous_brazil reuters\",\"5_indigenous tribe_brazil indigenous_rainforest indigenous_brazil reuters\",\"5_indigenous tribe_brazil indigenous_rainforest indigenous_brazil reuters\",\"5_indigenous tribe_brazil indigenous_rainforest indigenous_brazil reuters\",\"3_pablo mari_guinga say_sergio mendes_rumour rated\",\"3_pablo mari_guinga say_sergio mendes_rumour rated\",\"3_pablo mari_guinga say_sergio mendes_rumour rated\",\"3_pablo mari_guinga say_sergio mendes_rumour rated\",\"3_pablo mari_guinga say_sergio mendes_rumour rated\",\"3_pablo mari_guinga say_sergio mendes_rumour rated\",\"3_pablo mari_guinga say_sergio mendes_rumour rated\",\"3_pablo mari_guinga say_sergio mendes_rumour rated\",\"3_pablo mari_guinga say_sergio mendes_rumour rated\",\"3_pablo mari_guinga say_sergio mendes_rumour rated\",\"3_pablo mari_guinga say_sergio mendes_rumour rated\",\"3_pablo mari_guinga say_sergio mendes_rumour rated\",\"3_pablo mari_guinga say_sergio mendes_rumour rated\",\"3_pablo mari_guinga say_sergio mendes_rumour rated\",\"3_pablo mari_guinga say_sergio mendes_rumour rated\",\"3_pablo mari_guinga say_sergio mendes_rumour rated\",\"3_pablo mari_guinga say_sergio mendes_rumour rated\",\"3_pablo mari_guinga say_sergio mendes_rumour rated\",\"3_pablo mari_guinga say_sergio mendes_rumour rated\",\"3_pablo mari_guinga say_sergio mendes_rumour rated\",\"3_pablo mari_guinga say_sergio mendes_rumour rated\",\"3_pablo mari_guinga say_sergio mendes_rumour rated\",\"3_pablo mari_guinga say_sergio mendes_rumour rated\",\"1_real estate_estate mortgage_orlando pirate_mortgage work\",\"1_real estate_estate mortgage_orlando pirate_mortgage work\",\"1_real estate_estate mortgage_orlando pirate_mortgage work\",\"1_real estate_estate mortgage_orlando pirate_mortgage work\",\"1_real estate_estate mortgage_orlando pirate_mortgage work\",\"1_real estate_estate mortgage_orlando pirate_mortgage work\",\"1_real estate_estate mortgage_orlando pirate_mortgage work\",\"1_real estate_estate mortgage_orlando pirate_mortgage work\",\"1_real estate_estate mortgage_orlando pirate_mortgage work\",\"1_real estate_estate mortgage_orlando pirate_mortgage work\",\"1_real estate_estate mortgage_orlando pirate_mortgage work\",\"1_real estate_estate mortgage_orlando pirate_mortgage work\",\"1_real estate_estate mortgage_orlando pirate_mortgage work\",\"1_real estate_estate mortgage_orlando pirate_mortgage work\",\"1_real estate_estate mortgage_orlando pirate_mortgage work\",\"1_real estate_estate mortgage_orlando pirate_mortgage work\",\"1_real estate_estate mortgage_orlando pirate_mortgage work\",\"1_real estate_estate mortgage_orlando pirate_mortgage work\",\"1_real estate_estate mortgage_orlando pirate_mortgage work\",\"1_real estate_estate mortgage_orlando pirate_mortgage work\",\"1_real estate_estate mortgage_orlando pirate_mortgage work\",\"1_real estate_estate mortgage_orlando pirate_mortgage work\",\"1_real estate_estate mortgage_orlando pirate_mortgage work\",\"1_real estate_estate mortgage_orlando pirate_mortgage work\",\"1_real estate_estate mortgage_orlando pirate_mortgage work\",\"1_real estate_estate mortgage_orlando pirate_mortgage work\",\"1_real estate_estate mortgage_orlando pirate_mortgage work\",\"1_real estate_estate mortgage_orlando pirate_mortgage work\",\"1_real estate_estate mortgage_orlando pirate_mortgage work\",\"1_real estate_estate mortgage_orlando pirate_mortgage work\",\"1_real estate_estate mortgage_orlando pirate_mortgage work\",\"1_real estate_estate mortgage_orlando pirate_mortgage work\",\"1_real estate_estate mortgage_orlando pirate_mortgage work\",\"1_real estate_estate mortgage_orlando pirate_mortgage work\",\"1_real estate_estate mortgage_orlando pirate_mortgage work\",\"1_real estate_estate mortgage_orlando pirate_mortgage work\",\"1_real estate_estate mortgage_orlando pirate_mortgage work\",\"1_real estate_estate mortgage_orlando pirate_mortgage work\",\"1_real estate_estate mortgage_orlando pirate_mortgage work\",\"1_real estate_estate mortgage_orlando pirate_mortgage work\",\"1_real estate_estate mortgage_orlando pirate_mortgage work\",\"1_real estate_estate mortgage_orlando pirate_mortgage work\",\"1_real estate_estate mortgage_orlando pirate_mortgage work\",\"1_real estate_estate mortgage_orlando pirate_mortgage work\",\"1_real estate_estate mortgage_orlando pirate_mortgage work\",\"1_real estate_estate mortgage_orlando pirate_mortgage work\",\"1_real estate_estate mortgage_orlando pirate_mortgage work\",\"1_real estate_estate mortgage_orlando pirate_mortgage work\",\"1_real estate_estate mortgage_orlando pirate_mortgage work\",\"1_real estate_estate mortgage_orlando pirate_mortgage work\",\"1_real estate_estate mortgage_orlando pirate_mortgage work\",\"1_real estate_estate mortgage_orlando pirate_mortgage work\",\"1_real estate_estate mortgage_orlando pirate_mortgage work\",\"1_real estate_estate mortgage_orlando pirate_mortgage work\",\"1_real estate_estate mortgage_orlando pirate_mortgage work\",\"1_real estate_estate mortgage_orlando pirate_mortgage work\",\"1_real estate_estate mortgage_orlando pirate_mortgage work\",\"1_real estate_estate mortgage_orlando pirate_mortgage work\",\"1_real estate_estate mortgage_orlando pirate_mortgage work\",\"1_real estate_estate mortgage_orlando pirate_mortgage work\",\"1_real estate_estate mortgage_orlando pirate_mortgage work\",\"1_real estate_estate mortgage_orlando pirate_mortgage work\",\"1_real estate_estate mortgage_orlando pirate_mortgage work\",\"1_real estate_estate mortgage_orlando pirate_mortgage work\",\"1_real estate_estate mortgage_orlando pirate_mortgage work\",\"1_real estate_estate mortgage_orlando pirate_mortgage work\",\"1_real estate_estate mortgage_orlando pirate_mortgage work\",\"0_jair bolsonaro_president jair_brazilian president_brazil president\",\"0_jair bolsonaro_president jair_brazilian president_brazil president\",\"0_jair bolsonaro_president jair_brazilian president_brazil president\",\"0_jair bolsonaro_president jair_brazilian president_brazil president\",\"0_jair bolsonaro_president jair_brazilian president_brazil president\",\"0_jair bolsonaro_president jair_brazilian president_brazil president\",\"0_jair bolsonaro_president jair_brazilian president_brazil president\",\"0_jair bolsonaro_president jair_brazilian president_brazil president\",\"0_jair bolsonaro_president jair_brazilian president_brazil president\",\"0_jair bolsonaro_president jair_brazilian president_brazil president\",\"0_jair bolsonaro_president jair_brazilian president_brazil president\",\"0_jair bolsonaro_president jair_brazilian president_brazil president\",\"0_jair bolsonaro_president jair_brazilian president_brazil president\",\"0_jair bolsonaro_president jair_brazilian president_brazil president\",\"0_jair bolsonaro_president jair_brazilian president_brazil president\",\"0_jair bolsonaro_president jair_brazilian president_brazil president\",\"0_jair bolsonaro_president jair_brazilian president_brazil president\",\"0_jair bolsonaro_president jair_brazilian president_brazil president\",\"0_jair bolsonaro_president jair_brazilian president_brazil president\",\"0_jair bolsonaro_president jair_brazilian president_brazil president\",\"0_jair bolsonaro_president jair_brazilian president_brazil president\",\"0_jair bolsonaro_president jair_brazilian president_brazil president\",\"0_jair bolsonaro_president jair_brazilian president_brazil president\",\"0_jair bolsonaro_president jair_brazilian president_brazil president\",\"0_jair bolsonaro_president jair_brazilian president_brazil president\",\"0_jair bolsonaro_president jair_brazilian president_brazil president\",\"0_jair bolsonaro_president jair_brazilian president_brazil president\",\"0_jair bolsonaro_president jair_brazilian president_brazil president\",\"0_jair bolsonaro_president jair_brazilian president_brazil president\",\"0_jair bolsonaro_president jair_brazilian president_brazil president\",\"0_jair bolsonaro_president jair_brazilian president_brazil president\",\"0_jair bolsonaro_president jair_brazilian president_brazil president\",\"0_jair bolsonaro_president jair_brazilian president_brazil president\",\"0_jair bolsonaro_president jair_brazilian president_brazil president\",\"0_jair bolsonaro_president jair_brazilian president_brazil president\",\"0_jair bolsonaro_president jair_brazilian president_brazil president\",\"0_jair bolsonaro_president jair_brazilian president_brazil president\",\"0_jair bolsonaro_president jair_brazilian president_brazil president\",\"0_jair bolsonaro_president jair_brazilian president_brazil president\",\"0_jair bolsonaro_president jair_brazilian president_brazil president\",\"0_jair bolsonaro_president jair_brazilian president_brazil president\",\"0_jair bolsonaro_president jair_brazilian president_brazil president\",\"0_jair bolsonaro_president jair_brazilian president_brazil president\",\"0_jair bolsonaro_president jair_brazilian president_brazil president\",\"0_jair bolsonaro_president jair_brazilian president_brazil president\",\"0_jair bolsonaro_president jair_brazilian president_brazil president\",\"0_jair bolsonaro_president jair_brazilian president_brazil president\",\"0_jair bolsonaro_president jair_brazilian president_brazil president\",\"0_jair bolsonaro_president jair_brazilian president_brazil president\",\"0_jair bolsonaro_president jair_brazilian president_brazil president\",\"0_jair bolsonaro_president jair_brazilian president_brazil president\",\"0_jair bolsonaro_president jair_brazilian president_brazil president\",\"0_jair bolsonaro_president jair_brazilian president_brazil president\",\"0_jair bolsonaro_president jair_brazilian president_brazil president\",\"0_jair bolsonaro_president jair_brazilian president_brazil president\",\"0_jair bolsonaro_president jair_brazilian president_brazil president\",\"0_jair bolsonaro_president jair_brazilian president_brazil president\",\"0_jair bolsonaro_president jair_brazilian president_brazil president\",\"0_jair bolsonaro_president jair_brazilian president_brazil president\",\"0_jair bolsonaro_president jair_brazilian president_brazil president\",\"0_jair bolsonaro_president jair_brazilian president_brazil president\",\"0_jair bolsonaro_president jair_brazilian president_brazil president\",\"0_jair bolsonaro_president jair_brazilian president_brazil president\",\"0_jair bolsonaro_president jair_brazilian president_brazil president\",\"0_jair bolsonaro_president jair_brazilian president_brazil president\",\"0_jair bolsonaro_president jair_brazilian president_brazil president\",\"0_jair bolsonaro_president jair_brazilian president_brazil president\",\"0_jair bolsonaro_president jair_brazilian president_brazil president\",\"2_least people_heavy rain_mina gerais_flooding landslide\",\"2_least people_heavy rain_mina gerais_flooding landslide\",\"2_least people_heavy rain_mina gerais_flooding landslide\",\"2_least people_heavy rain_mina gerais_flooding landslide\",\"2_least people_heavy rain_mina gerais_flooding landslide\",\"2_least people_heavy rain_mina gerais_flooding landslide\",\"2_least people_heavy rain_mina gerais_flooding landslide\",\"2_least people_heavy rain_mina gerais_flooding landslide\",\"2_least people_heavy rain_mina gerais_flooding landslide\",\"2_least people_heavy rain_mina gerais_flooding landslide\",\"2_least people_heavy rain_mina gerais_flooding landslide\",\"2_least people_heavy rain_mina gerais_flooding landslide\",\"2_least people_heavy rain_mina gerais_flooding landslide\",\"2_least people_heavy rain_mina gerais_flooding landslide\",\"2_least people_heavy rain_mina gerais_flooding landslide\",\"2_least people_heavy rain_mina gerais_flooding landslide\",\"2_least people_heavy rain_mina gerais_flooding landslide\",\"2_least people_heavy rain_mina gerais_flooding landslide\",\"2_least people_heavy rain_mina gerais_flooding landslide\",\"2_least people_heavy rain_mina gerais_flooding landslide\",\"2_least people_heavy rain_mina gerais_flooding landslide\",\"2_least people_heavy rain_mina gerais_flooding landslide\",\"2_least people_heavy rain_mina gerais_flooding landslide\",\"2_least people_heavy rain_mina gerais_flooding landslide\",\"2_least people_heavy rain_mina gerais_flooding landslide\",\"2_least people_heavy rain_mina gerais_flooding landslide\",\"2_least people_heavy rain_mina gerais_flooding landslide\",\"2_least people_heavy rain_mina gerais_flooding landslide\",\"2_least people_heavy rain_mina gerais_flooding landslide\",\"2_least people_heavy rain_mina gerais_flooding landslide\",\"2_least people_heavy rain_mina gerais_flooding landslide\",\"2_least people_heavy rain_mina gerais_flooding landslide\",\"2_least people_heavy rain_mina gerais_flooding landslide\",\"2_least people_heavy rain_mina gerais_flooding landslide\",\"4_glenn greenwald_journalist glenn_brazilian prosecutor_federal prosecutor\",\"4_glenn greenwald_journalist glenn_brazilian prosecutor_federal prosecutor\",\"4_glenn greenwald_journalist glenn_brazilian prosecutor_federal prosecutor\",\"4_glenn greenwald_journalist glenn_brazilian prosecutor_federal prosecutor\",\"4_glenn greenwald_journalist glenn_brazilian prosecutor_federal prosecutor\",\"4_glenn greenwald_journalist glenn_brazilian prosecutor_federal prosecutor\",\"4_glenn greenwald_journalist glenn_brazilian prosecutor_federal prosecutor\",\"4_glenn greenwald_journalist glenn_brazilian prosecutor_federal prosecutor\",\"4_glenn greenwald_journalist glenn_brazilian prosecutor_federal prosecutor\",\"4_glenn greenwald_journalist glenn_brazilian prosecutor_federal prosecutor\",\"4_glenn greenwald_journalist glenn_brazilian prosecutor_federal prosecutor\",\"4_glenn greenwald_journalist glenn_brazilian prosecutor_federal prosecutor\",\"4_glenn greenwald_journalist glenn_brazilian prosecutor_federal prosecutor\",\"4_glenn greenwald_journalist glenn_brazilian prosecutor_federal prosecutor\",\"4_glenn greenwald_journalist glenn_brazilian prosecutor_federal prosecutor\",\"4_glenn greenwald_journalist glenn_brazilian prosecutor_federal prosecutor\",\"4_glenn greenwald_journalist glenn_brazilian prosecutor_federal prosecutor\",\"4_glenn greenwald_journalist glenn_brazilian prosecutor_federal prosecutor\",\"4_glenn greenwald_journalist glenn_brazilian prosecutor_federal prosecutor\",\"4_glenn greenwald_journalist glenn_brazilian prosecutor_federal prosecutor\"],\"x\":{\"__ndarray__\":\"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\",\"dtype\":\"float64\",\"order\":\"little\",\"shape\":[228]},\"y\":{\"__ndarray__\":\"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\",\"dtype\":\"float64\",\"order\":\"little\",\"shape\":[228]}},\"selected\":{\"id\":\"1062\"},\"selection_policy\":{\"id\":\"1063\"}},\"id\":\"1004\",\"type\":\"ColumnDataSource\"},{\"attributes\":{},\"id\":\"1059\",\"type\":\"UnionRenderers\"},{\"attributes\":{\"data_source\":{\"id\":\"1003\"},\"glyph\":{\"id\":\"1037\"},\"hover_glyph\":null,\"muted_glyph\":null,\"view\":{\"id\":\"1039\"}},\"id\":\"1038\",\"type\":\"GlyphRenderer\"},{\"attributes\":{\"high\":1.0,\"low\":0.0025928370867735,\"palette\":[\"#000000\",\"#060000\",\"#0d0000\",\"#120000\",\"#160000\",\"#190000\",\"#1c0000\",\"#1f0000\",\"#220000\",\"#240000\",\"#260000\",\"#280000\",\"#2b0000\",\"#2d0000\",\"#2e0000\",\"#300000\",\"#320000\",\"#340000\",\"#350000\",\"#370000\",\"#380000\",\"#3a0000\",\"#3b0000\",\"#3d0000\",\"#3e0000\",\"#400000\",\"#410000\",\"#430000\",\"#440000\",\"#460000\",\"#470000\",\"#490000\",\"#4a0000\",\"#4c0000\",\"#4d0000\",\"#4f0000\",\"#500000\",\"#520000\",\"#530000\",\"#550000\",\"#560000\",\"#580000\",\"#590100\",\"#5b0100\",\"#5d0100\",\"#5e0100\",\"#600100\",\"#610100\",\"#630100\",\"#650100\",\"#660100\",\"#680100\",\"#690100\",\"#6b0100\",\"#6d0100\",\"#6e0100\",\"#700100\",\"#710100\",\"#730100\",\"#750100\",\"#760100\",\"#780200\",\"#7a0200\",\"#7b0200\",\"#7d0200\",\"#7f0200\",\"#800200\",\"#820200\",\"#840200\",\"#850200\",\"#870200\",\"#890200\",\"#8a0200\",\"#8c0300\",\"#8e0300\",\"#900300\",\"#910300\",\"#930300\",\"#950300\",\"#960300\",\"#980300\",\"#9a0300\",\"#9c0300\",\"#9d0400\",\"#9f0400\",\"#a10400\",\"#a20400\",\"#a40400\",\"#a60400\",\"#a80400\",\"#a90400\",\"#ab0500\",\"#ad0500\",\"#af0500\",\"#b00500\",\"#b20500\",\"#b40500\",\"#b60600\",\"#b80600\",\"#b90600\",\"#bb0600\",\"#bd0600\",\"#bf0700\",\"#c00700\",\"#c20700\",\"#c40700\",\"#c60800\",\"#c80800\",\"#c90800\",\"#cb0800\",\"#cd0900\",\"#cf0900\",\"#d10900\",\"#d20a00\",\"#d40a00\",\"#d60a00\",\"#d80b00\",\"#da0b00\",\"#db0c00\",\"#dd0c00\",\"#df0d00\",\"#e10d00\",\"#e30e00\",\"#e40f00\",\"#e60f00\",\"#e81000\",\"#ea1100\",\"#eb1300\",\"#ed1400\",\"#ee1600\",\"#f01800\",\"#f11b00\",\"#f21d00\",\"#f32000\",\"#f52300\",\"#f62600\",\"#f62900\",\"#f72c00\",\"#f82f00\",\"#f93200\",\"#f93500\",\"#fa3800\",\"#fa3b00\",\"#fb3d00\",\"#fb4000\",\"#fb4300\",\"#fc4600\",\"#fc4900\",\"#fc4b00\",\"#fd4e00\",\"#fd5100\",\"#fd5300\",\"#fd5600\",\"#fd5800\",\"#fe5b00\",\"#fe5d00\",\"#fe5f00\",\"#fe6200\",\"#fe6400\",\"#fe6600\",\"#fe6800\",\"#fe6b00\",\"#fe6d00\",\"#fe6f00\",\"#fe7100\",\"#fe7300\",\"#fe7500\",\"#fe7700\",\"#fe7900\",\"#fe7c00\",\"#ff7e00\",\"#ff8000\",\"#ff8200\",\"#ff8300\",\"#ff8500\",\"#ff8700\",\"#ff8900\",\"#ff8b00\",\"#ff8d00\",\"#ff8f00\",\"#ff9100\",\"#ff9300\",\"#ff9400\",\"#ff9600\",\"#ff9800\",\"#ff9a00\",\"#ff9c00\",\"#ff9d00\",\"#ff9f00\",\"#ffa100\",\"#ffa300\",\"#ffa401\",\"#ffa601\",\"#ffa801\",\"#ffaa01\",\"#ffab01\",\"#ffad01\",\"#ffaf01\",\"#ffb001\",\"#ffb202\",\"#ffb402\",\"#ffb502\",\"#ffb702\",\"#ffb902\",\"#ffba02\",\"#ffbc03\",\"#ffbd03\",\"#ffbf03\",\"#ffc103\",\"#ffc204\",\"#ffc404\",\"#ffc604\",\"#ffc704\",\"#ffc905\",\"#ffca05\",\"#ffcc05\",\"#ffce06\",\"#ffcf06\",\"#ffd106\",\"#ffd207\",\"#ffd407\",\"#ffd508\",\"#ffd708\",\"#ffd909\",\"#ffda09\",\"#ffdc0a\",\"#ffdd0a\",\"#ffdf0b\",\"#ffe00b\",\"#ffe20c\",\"#ffe30d\",\"#ffe50e\",\"#ffe60f\",\"#ffe810\",\"#ffea11\",\"#ffeb12\",\"#ffed14\",\"#ffee17\",\"#fff01a\",\"#fff11e\",\"#fff324\",\"#fff42a\",\"#fff532\",\"#fff73b\",\"#fff847\",\"#fff953\",\"#fffb62\",\"#fffb72\",\"#fffc83\",\"#fffd95\",\"#fffea8\",\"#fffeba\",\"#fffecc\",\"#fffede\",\"#fffeee\",\"#ffffff\"]},\"id\":\"1005\",\"type\":\"LinearColorMapper\"},{\"attributes\":{\"bottom_units\":\"screen\",\"fill_alpha\":0.5,\"fill_color\":\"lightgrey\",\"left_units\":\"screen\",\"level\":\"overlay\",\"line_alpha\":1.0,\"line_color\":\"black\",\"line_dash\":[4,4],\"line_width\":2,\"right_units\":\"screen\",\"syncable\":false,\"top_units\":\"screen\"},\"id\":\"1029\",\"type\":\"BoxAnnotation\"},{\"attributes\":{\"axis_label_standoff\":10,\"axis_label_text_color\":\"#E0E0E0\",\"axis_label_text_font\":\"Helvetica\",\"axis_label_text_font_size\":\"1.25em\",\"axis_label_text_font_style\":\"normal\",\"axis_line_alpha\":0,\"axis_line_color\":\"#E0E0E0\",\"formatter\":{\"id\":\"1051\"},\"major_label_policy\":{\"id\":\"1053\"},\"major_label_text_color\":\"#E0E0E0\",\"major_label_text_font\":\"Helvetica\",\"major_label_text_font_size\":\"1.025em\",\"major_tick_line_alpha\":0,\"major_tick_line_color\":\"#E0E0E0\",\"minor_tick_line_alpha\":0,\"minor_tick_line_color\":\"#E0E0E0\",\"ticker\":{\"id\":\"1016\"},\"visible\":false},\"id\":\"1015\",\"type\":\"LinearAxis\"},{\"attributes\":{},\"id\":\"1013\",\"type\":\"LinearScale\"}],\"root_ids\":[\"1006\"]},\"title\":\"Bokeh Application\",\"version\":\"2.3.3\"}};\n",
       "  var render_items = [{\"docid\":\"86af1121-7185-4c9c-9c40-a8e1ed171eca\",\"notebook_comms_target\":\"1200\",\"root_ids\":[\"1006\"],\"roots\":{\"1006\":\"ca776105-4793-478e-b5f3-ee78ade5ea69\"}}];\n",
       "  root.Bokeh.embed.embed_items_notebook(docs_json, render_items);\n",
       "\n",
       "  }\n",
       "  if (root.Bokeh !== undefined) {\n",
       "    embed_document(root);\n",
       "  } else {\n",
       "    var attempts = 0;\n",
       "    var timer = setInterval(function(root) {\n",
       "      if (root.Bokeh !== undefined) {\n",
       "        clearInterval(timer);\n",
       "        embed_document(root);\n",
       "      } else {\n",
       "        attempts++;\n",
       "        if (attempts > 100) {\n",
       "          clearInterval(timer);\n",
       "          console.log(\"Bokeh: ERROR: Unable to run BokehJS code because BokehJS library is missing\");\n",
       "        }\n",
       "      }\n",
       "    }, 10, root)\n",
       "  }\n",
       "})(window);"
      ],
      "application/vnd.bokehjs_exec.v0+json": ""
     },
     "metadata": {
      "application/vnd.bokehjs_exec.v0+json": {
       "id": "1006"
      }
     },
     "output_type": "display_data"
    },
    {
     "name": "stderr",
     "output_type": "stream",
     "text": [
      "Start : This command cannot be run due to the error: The system cannot find the file specified.\r\n",
      "At line:1 char:1\r\n",
      "+ Start \"file:///home/marcio/code/engmarci/LeWagon_FinalProject/noteboo ...\r\n",
      "+ ~~~~~~~~~~~~~~~~~~~~~~~~~~~~~~~~~~~~~~~~~~~~~~~~~~~~~~~~~~~~~~~~~~~~~\r\n",
      "    + CategoryInfo          : InvalidOperation: (:) [Start-Process], InvalidOperationException\r\n",
      "    + FullyQualifiedErrorId : InvalidOperationException,Microsoft.PowerShell.Commands.StartProcessCommand\r\n",
      " \r\n"
     ]
    }
   ],
   "source": [
    "grapho.plot_bokeh(limits=True, save_file=False, output_note=True, sentiment=True, title=True)"
   ]
  },
  {
   "cell_type": "code",
   "execution_count": 18,
   "id": "840f9e4f",
   "metadata": {},
   "outputs": [
    {
     "data": {
      "text/plain": [
       "0      grey\n",
       "1      gold\n",
       "2      grey\n",
       "3      grey\n",
       "4      grey\n",
       "       ... \n",
       "223    grey\n",
       "224     red\n",
       "225    grey\n",
       "226    grey\n",
       "227    grey\n",
       "Name: sentimet_classification, Length: 228, dtype: object"
      ]
     },
     "execution_count": 18,
     "metadata": {},
     "output_type": "execute_result"
    }
   ],
   "source": [
    "grapho.topics.sentimet_classification"
   ]
  },
  {
   "cell_type": "code",
   "execution_count": 19,
   "id": "331b09dc",
   "metadata": {},
   "outputs": [],
   "source": [
    "#grapho.define_hb()"
   ]
  },
  {
   "cell_type": "code",
   "execution_count": 20,
   "id": "12c25d56",
   "metadata": {},
   "outputs": [],
   "source": [
    "#grapho.plot_hb()"
   ]
  },
  {
   "cell_type": "code",
   "execution_count": 21,
   "id": "b6b4171e",
   "metadata": {},
   "outputs": [
    {
     "name": "stdout",
     "output_type": "stream",
     "text": [
      "dataset de 1/2016 com 3132 notícias e o 1º tópico de número 0 com 293 representando 9.36% do dataset\n",
      "dataset de 2/2016 com 2808 notícias e o 1º tópico de número 0 com 344 representando 12.25% do dataset\n",
      "dataset de 3/2016 com 3066 notícias e o 1º tópico de número 0 com 302 representando 9.85% do dataset\n",
      "dataset de 4/2016 com 2953 notícias e o 1º tópico de número 0 com 321 representando 10.87% do dataset\n",
      "dataset de 5/2016 com 2683 notícias e o 1º tópico de número 0 com 279 representando 10.4% do dataset\n",
      "dataset de 6/2016 com 3558 notícias e o 1º tópico de número 0 com 562 representando 15.8% do dataset\n",
      "dataset de 7/2016 com 3920 notícias e o 1º tópico de número 0 com 430 representando 10.97% do dataset\n",
      "dataset de 8/2016 com 3506 notícias e o 1º tópico de número 0 com 450 representando 12.84% do dataset\n",
      "dataset de 9/2016 com 3626 notícias e o 1º tópico de número 0 com 322 representando 8.88% do dataset\n",
      "dataset de 10/2016 com 3775 notícias e o 1º tópico de número 0 com 340 representando 9.01% do dataset\n",
      "dataset de 11/2016 com 4132 notícias e o 1º tópico de número 0 com 401 representando 9.7% do dataset\n",
      "dataset de 12/2016 com 4220 notícias e o 1º tópico de número 0 com 454 representando 10.76% do dataset\n",
      "dataset de 1/2017 com 5395 notícias e o 1º tópico de número 0 com 603 representando 11.18% do dataset\n",
      "dataset de 2/2017 com 4157 notícias e o 1º tópico de número 0 com 366 representando 8.8% do dataset\n",
      "dataset de 3/2017 com 5008 notícias e o 1º tópico de número 0 com 682 representando 13.62% do dataset\n",
      "dataset de 4/2017 com 4560 notícias e o 1º tópico de número 0 com 509 representando 11.16% do dataset\n",
      "dataset de 5/2017 com 3520 notícias e o 1º tópico de número 0 com 265 representando 7.53% do dataset\n",
      "dataset de 6/2017 com 2641 notícias e o 1º tópico de número 0 com 237 representando 8.97% do dataset\n"
     ]
    }
   ],
   "source": [
    "ano =2016\n",
    "#mes = 3\n",
    "for mes in range(1,13):\n",
    "    dp = DataProcessor(csv_path='../raw_data/proj_final/10_docs_per_topic/', csv_name=f'{ano}_{mes}_graph_data')\n",
    "    df = dp.load_dataset()\n",
    "    topic = str(int(df.groupby('topic').count().sort_values(by='document1',ascending = False).head(1).reset_index()['topic'][0]))\n",
    "    topic_maior =  df.groupby('topic').count().sort_values(by='document1',ascending = False).head(1)['document1'].values[0]\n",
    "    pct = round(topic_maior/len(df)*100,2)\n",
    "    \n",
    "    print('dataset de '+ str(mes)+'/'+str(ano) + ' com ' + str(len(df)) + ' notícias e o 1º tópico de número ' + \n",
    "          topic + ' com ' + str(topic_maior) + ' representando ' + str(pct) +'% do dataset')\n",
    "    #print(df.groupby('topic').count().sort_values(by='document1',ascending = False).head(1)['document1'].values[0])\n",
    "    \n",
    "ano =2017\n",
    "#mes = 3\n",
    "for mes in range(1,7):\n",
    "    dp = DataProcessor(csv_path='../raw_data/proj_final/10_docs_per_topic/', csv_name=f'{ano}_{mes}_graph_data')\n",
    "    df = dp.load_dataset()\n",
    "    topic = str(int(df.groupby('topic').count().sort_values(by='document1',ascending = False).head(1).reset_index()['topic'][0]))\n",
    "    topic_maior =  df.groupby('topic').count().sort_values(by='document1',ascending = False).head(1)['document1'].values[0]\n",
    "    pct = round(topic_maior/len(df)*100,2)\n",
    "    \n",
    "    print('dataset de '+ str(mes)+'/'+str(ano) + ' com ' + str(len(df)) + ' notícias e o 1º tópico de número ' + \n",
    "          topic + ' com ' + str(topic_maior) + ' representando ' + str(pct) +'% do dataset')\n"
   ]
  }
 ],
 "metadata": {
  "kernelspec": {
   "display_name": "Python 3 (ipykernel)",
   "language": "python",
   "name": "python3"
  },
  "language_info": {
   "codemirror_mode": {
    "name": "ipython",
    "version": 3
   },
   "file_extension": ".py",
   "mimetype": "text/x-python",
   "name": "python",
   "nbconvert_exporter": "python",
   "pygments_lexer": "ipython3",
   "version": "3.8.6"
  },
  "toc": {
   "base_numbering": 1,
   "nav_menu": {},
   "number_sections": true,
   "sideBar": true,
   "skip_h1_title": false,
   "title_cell": "Table of Contents",
   "title_sidebar": "Contents",
   "toc_cell": false,
   "toc_position": {
    "height": "calc(100% - 180px)",
    "left": "10px",
    "top": "150px",
    "width": "314.396px"
   },
   "toc_section_display": true,
   "toc_window_display": false
  }
 },
 "nbformat": 4,
 "nbformat_minor": 5
}
