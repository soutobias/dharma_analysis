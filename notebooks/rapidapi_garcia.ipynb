{
 "cells": [
  {
   "cell_type": "markdown",
   "id": "2da4668e",
   "metadata": {},
   "source": [
    "## Imports"
   ]
  },
  {
   "cell_type": "code",
   "execution_count": null,
   "id": "14357f5d",
   "metadata": {},
   "outputs": [],
   "source": [
    "from LeWagon_FinalProject.data import *\n",
    "from LeWagon_FinalProject.rapidapi import *\n",
    "%load_ext autoreload\n",
    "%autoreload 2\n",
    "import warnings\n",
    "warnings.filterwarnings('ignore')\n",
    "#%matplotlib inline'\n",
    "import pandas as pd"
   ]
  },
  {
   "cell_type": "markdown",
   "id": "f200d5c6",
   "metadata": {
    "heading_collapsed": true
   },
   "source": [
    "## Load data class"
   ]
  },
  {
   "cell_type": "code",
   "execution_count": null,
   "id": "9846b328",
   "metadata": {
    "hidden": true
   },
   "outputs": [],
   "source": [
    "rapid = Rapidapi(word_search='Bolsonaro', from_published_date='2019-01-01', to_published_date='2021-07-30')"
   ]
  },
  {
   "cell_type": "code",
   "execution_count": null,
   "id": "ea5abea7",
   "metadata": {
    "hidden": true
   },
   "outputs": [],
   "source": [
    "rapid.request_api()"
   ]
  },
  {
   "cell_type": "code",
   "execution_count": null,
   "id": "b5dc8f8d",
   "metadata": {
    "hidden": true
   },
   "outputs": [],
   "source": [
    "rapid.create_dataset()\n",
    "rapid.df.head()"
   ]
  },
  {
   "cell_type": "markdown",
   "id": "c0ffbed1",
   "metadata": {},
   "source": [
    "## Load data"
   ]
  },
  {
   "cell_type": "code",
   "execution_count": null,
   "id": "caa52fb2",
   "metadata": {},
   "outputs": [],
   "source": [
    "import requests\n",
    "import pandas as pd\n",
    "import os\n",
    "import datetime\n",
    "import time"
   ]
  },
  {
   "cell_type": "code",
   "execution_count": null,
   "id": "3a3c7703",
   "metadata": {},
   "outputs": [],
   "source": [
    "def date_validation(day, month, year):\n",
    "    isValidDate = True\n",
    "    try :\n",
    "        datetime.datetime(int(year), int(month), int(day))   \n",
    "    except ValueError :\n",
    "        isValidDate = False\n",
    "    return isValidDate"
   ]
  },
  {
   "cell_type": "code",
   "execution_count": null,
   "id": "6723020a",
   "metadata": {},
   "outputs": [],
   "source": [
    "search_dates = []\n",
    "years = ['2018', '2019']\n",
    "for year in years:\n",
    "    for month in range(1,13):\n",
    "        if month > 9:\n",
    "            smonth = str(month)    \n",
    "        else:\n",
    "            smonth = '0'+str(month)\n",
    "        for day in range(1,32):\n",
    "            if day > 9:\n",
    "                sday = str(day)    \n",
    "            else:\n",
    "                sday = '0'+str(day)\n",
    "            if date_validation(day, month, year):\n",
    "                search_dates.append(f'{year}-{smonth}-{sday}')\n",
    "search_dates"
   ]
  },
  {
   "cell_type": "code",
   "execution_count": null,
   "id": "d7744864",
   "metadata": {},
   "outputs": [],
   "source": [
    "url = os.getenv('RAPIDAPI_URL')\n",
    "print(url)\n",
    "print(os.getenv('X_RAPIDAPI_KEY'))\n",
    "print(os.getenv('X_RAPIDAPI_HOST'))\n",
    "\n",
    "#querystring = {\"q\":\"COVID\",\"lang\":\"en\",\"page\":\"1\",\"page_size\":\"50\",\"from\":\"2021-06-10\",\"to\":\"2021-06-10\"}\n",
    "querystring = {\"q\":\"COVID\",\"lang\":\"en\"}\n",
    "\n",
    "headers = {\n",
    "    'x-rapidapi-key': os.getenv('X_RAPIDAPI_KEY'),\n",
    "    'x-rapidapi-host': os.getenv('X_RAPIDAPI_HOST')\n",
    "    }\n",
    "\n",
    "response = requests.request(\"GET\", url, headers=headers, params=querystring)\n",
    "\n",
    "#print(response.text)"
   ]
  },
  {
   "cell_type": "code",
   "execution_count": null,
   "id": "0c8df883",
   "metadata": {},
   "outputs": [],
   "source": [
    "response_json = response.json()\n",
    "#print(len(response_json['value']))\n",
    "response_json"
   ]
  },
  {
   "cell_type": "code",
   "execution_count": null,
   "id": "aae77158",
   "metadata": {},
   "outputs": [],
   "source": [
    "ind_start = 0\n",
    "ind_end = ind_start + 5\n",
    "bstop = False\n",
    "for i in range(0, len(search_dates)):\n",
    "    print(search_dates[ind_start] + ' - ' + search_dates[ind_end])\n",
    "    \n",
    "    ind_start = ind_end + 1\n",
    "    ind_end = ind_start + 5    \n",
    "    if bstop:\n",
    "        break\n",
    "    if ind_start > (len(search_dates)-1):\n",
    "        ind_start = (len(search_dates)-1)\n",
    "    if ind_end > (len(search_dates)-1):\n",
    "        ind_end = (len(search_dates)-1)\n",
    "        bstop = True\n",
    "    "
   ]
  },
  {
   "cell_type": "code",
   "execution_count": null,
   "id": "971cf2ce",
   "metadata": {},
   "outputs": [],
   "source": [
    "#news_columns = ['id', 'title', 'year', 'month', 'content']\n",
    "news_columns = ['id', 'title', 'datepublished', 'content']\n",
    "df_news = pd.DataFrame(columns=news_columns)\n",
    "\n",
    "for search_date in search_dates:\n",
    "    getNews = True\n",
    "    pageNumber = 0\n",
    "    numberNews = 0\n",
    "    while getNews:\n",
    "        pageNumber += 1\n",
    "        url = \"https://contextualwebsearch-websearch-v1.p.rapidapi.com/api/search/NewsSearchAPI\"\n",
    "        querystring = {\"q\":\"COVID\",\n",
    "                       \"pageNumber\":str(pageNumber),\n",
    "                       \"pageSize\":\"50\",\n",
    "                       \"autoCorrect\":\"true\",\n",
    "                       \"fromPublishedDate\": str(search_date),\n",
    "                       \"toPublishedDate\": str(search_date)}\n",
    "        headers = {\n",
    "            'x-rapidapi-key': os.getenv('X_RAPIDAPI_KEY'),\n",
    "            'x-rapidapi-host': os.getenv('X_RAPIDAPI_HOST')\n",
    "            }\n",
    "        response = requests.request(\"GET\", url, headers=headers, params=querystring)\n",
    "        response_json = response.json()\n",
    "        #response_json.get('value', 0)\n",
    "        if len(response_json['value']) > 0:\n",
    "            for i in range(0, len(response_json['value'])):\n",
    "                #datePublished = response_json['value'][i]['datePublished']\n",
    "                new_news = {}\n",
    "                new_news['id'] = response_json['value'][i]['id']\n",
    "                new_news['title'] = response_json['value'][i]['title']\n",
    "                #new_news['year'] = int(datePublished[0:4])\n",
    "                #new_news['month'] = int(datePublished[5:7])\n",
    "                new_news['datepublished'] = response_json['value'][i]['datePublished']\n",
    "                new_news['content'] = response_json['value'][i]['body']\n",
    "                df_news = df_news.append(new_news, ignore_index=True)\n",
    "                numberNews += 1\n",
    "                time.sleep(1)\n",
    "        else:\n",
    "            getNews = False        \n",
    "    print(f'{search_date} : number news {numberNews}')"
   ]
  },
  {
   "cell_type": "code",
   "execution_count": null,
   "id": "1a93a026",
   "metadata": {},
   "outputs": [],
   "source": [
    "news_columns = ['id', 'title', 'datepublished', 'content']\n",
    "df_news = pd.DataFrame(columns=news_columns)\n",
    "\n",
    "ind_start = 0\n",
    "ind_end = ind_start + 5\n",
    "bstop = False\n",
    "for k in range(0, len(search_dates)):\n",
    "    print(search_dates[ind_start] + ' - ' + search_dates[ind_end])\n",
    "    \n",
    "    getNews = True\n",
    "    pageNumber = 0\n",
    "    numberNews = 0\n",
    "    while getNews:\n",
    "        pageNumber += 1\n",
    "        url = \"https://free-news.p.rapidapi.com/v1/search\"\n",
    "        querystring = {\"q\":\"COVID\",\n",
    "                       \"pageNumber\":str(pageNumber),\n",
    "                       \"pageSize\":\"50\",\n",
    "                       \"autoCorrect\":\"true\",\n",
    "                       \"fromPublishedDate\": str(search_dates[ind_start]),\n",
    "                       \"toPublishedDate\": str(search_dates[ind_end])}\n",
    "        headers = {\n",
    "            'x-rapidapi-key': os.getenv('X_RAPIDAPI_KEY'),\n",
    "            'x-rapidapi-host': os.getenv('X_RAPIDAPI_HOST')\n",
    "            }\n",
    "        response = requests.request(\"GET\", url, headers=headers, params=querystring)\n",
    "        response_json = response.json()\n",
    "        #response_json.get('value', 0)\n",
    "        if len(response_json['value']) > 0:\n",
    "            for i in range(0, len(response_json['value'])):\n",
    "                #datePublished = response_json['value'][i]['datePublished']\n",
    "                new_news = {}\n",
    "                new_news['id'] = response_json['value'][i]['id']\n",
    "                new_news['title'] = response_json['value'][i]['title']\n",
    "                #new_news['year'] = int(datePublished[0:4])\n",
    "                #new_news['month'] = int(datePublished[5:7])\n",
    "                new_news['datepublished'] = response_json['value'][i]['datePublished']\n",
    "                new_news['content'] = response_json['value'][i]['body']\n",
    "                df_news = df_news.append(new_news, ignore_index=True)\n",
    "                numberNews += 1\n",
    "                time.sleep(1)\n",
    "        else:\n",
    "            getNews = False       \n",
    "    print(f'{search_date} : number news {numberNews}')\n",
    "    \n",
    "    ind_start = ind_end + 1\n",
    "    ind_end = ind_start + 5    \n",
    "    if bstop:\n",
    "        break\n",
    "    if ind_start > (len(search_dates)-1):\n",
    "        ind_start = (len(search_dates)-1)\n",
    "    if ind_end > (len(search_dates)-1):\n",
    "        ind_end = (len(search_dates)-1)\n",
    "        bstop = True"
   ]
  },
  {
   "cell_type": "code",
   "execution_count": null,
   "id": "be7d25bd",
   "metadata": {},
   "outputs": [],
   "source": [
    "def remove_punctuation(text):\n",
    "    text = text.replace('\\r\\n', ' ')\n",
    "    text = text.replace('\\r', ' ')\n",
    "    text = text.replace('\\n', ' ')\n",
    "    return text"
   ]
  },
  {
   "cell_type": "code",
   "execution_count": null,
   "id": "9b2314ca",
   "metadata": {},
   "outputs": [],
   "source": [
    "df_news['title'] = df_news['title'].apply(remove_punctuation)\n",
    "df_news['content'] = df_news['content'].apply(remove_punctuation)\n",
    "#df_news.to_csv('../raw_data/proj_final/brazil_elections.csv', header=True, index=True, encoding='utf-8')"
   ]
  },
  {
   "cell_type": "code",
   "execution_count": null,
   "id": "1abd85a4",
   "metadata": {},
   "outputs": [],
   "source": [
    "print(df_news.shape)\n",
    "df_news.to_csv('../raw_data/proj_final/COVID.csv', header=True, index=True, encoding='utf-8')\n",
    "#df_news['year'].min()\n",
    "#df_news[['year', 'month', 'title']].groupby(by=['year', 'month']).count()\n",
    "df_news"
   ]
  },
  {
   "cell_type": "markdown",
   "id": "44345084",
   "metadata": {},
   "source": [
    "## Generate Data"
   ]
  },
  {
   "cell_type": "code",
   "execution_count": null,
   "id": "85af1dae",
   "metadata": {},
   "outputs": [],
   "source": [
    "from LeWagon_FinalProject.topic_generate_graph import GenerateGraphData\n",
    "gen = GenerateGraphData(file_path = '../raw_data/proj_final/Bolsonaro/')\n",
    "gen.create_year_month_datasets(base_dataset_path = '../raw_data/proj_final/Bolsonaro_news.csv', min_topic_size=10)"
   ]
  },
  {
   "cell_type": "markdown",
   "id": "6e4799d1",
   "metadata": {
    "heading_collapsed": true
   },
   "source": [
    "## Prepare Data"
   ]
  },
  {
   "cell_type": "code",
   "execution_count": null,
   "id": "4ddcd5fc",
   "metadata": {
    "hidden": true
   },
   "outputs": [],
   "source": [
    "from LeWagon_FinalProject.topic_prepare_graph import PrepareGraphDataset\n",
    "\n",
    "prep = PrepareGraphDataset(file_path = '../raw_data/proj_final/Bolsonaro/')\n",
    "prep.generate_graph_dataset(keep_documents_no_topic=False, similarity_threshold=0.6)\n",
    "prep.generate_graph_dataset(keep_documents_no_topic=True, similarity_threshold=0.6)"
   ]
  },
  {
   "cell_type": "markdown",
   "id": "a9f7b892",
   "metadata": {},
   "source": [
    "## News API Key"
   ]
  },
  {
   "cell_type": "code",
   "execution_count": null,
   "id": "1147b957",
   "metadata": {},
   "outputs": [],
   "source": [
    "# https://newsapi.org/docs/client-libraries/python\n",
    "# https://free-docs.newscatcherapi.com/#introduction\n",
    "# https://free-docs.newscatcherapi.com/#a-list-of-great-projects-built-with-free-news-api"
   ]
  },
  {
   "cell_type": "code",
   "execution_count": null,
   "id": "abf2fa60",
   "metadata": {},
   "outputs": [],
   "source": [
    "from newsapi import NewsApiClient\n",
    "from dotenv import load_dotenv\n",
    "import os"
   ]
  },
  {
   "cell_type": "code",
   "execution_count": null,
   "id": "08204b23",
   "metadata": {},
   "outputs": [],
   "source": [
    "load_dotenv()\n",
    "#print(os.getenv('NEWS_API_KEY'))"
   ]
  },
  {
   "cell_type": "code",
   "execution_count": null,
   "id": "63d81bb8",
   "metadata": {},
   "outputs": [],
   "source": [
    "# Init\n",
    "newsapi = NewsApiClient(api_key=os.getenv('NEWS_API_KEY'))\n",
    "\n",
    "# /v2/top-headlines\n",
    "'''\n",
    "top_headlines = newsapi.get_top_headlines(q='bitcoin',\n",
    "                                          sources='bbc-news,the-verge',\n",
    "                                          category='business',\n",
    "                                          language='en',\n",
    "                                          country='us')\n",
    "'''\n",
    "\n",
    "# /v2/everything\n",
    "# health\n",
    "# vaccines\n",
    "all_articles = newsapi.get_everything(q='vaccines',\n",
    "                                      from_param='2021-07-02',\n",
    "                                      to='2021-07-31',\n",
    "                                      language='en',\n",
    "                                      sort_by='relevancy',\n",
    "                                      page=1)\n",
    "\n",
    "# /v2/top-headlines/sources\n",
    "#sources = newsapi.get_sources()"
   ]
  },
  {
   "cell_type": "code",
   "execution_count": null,
   "id": "4758aebd",
   "metadata": {},
   "outputs": [],
   "source": [
    "all_articles"
   ]
  },
  {
   "cell_type": "code",
   "execution_count": null,
   "id": "e6ef7283",
   "metadata": {},
   "outputs": [],
   "source": [
    "getNews = True\n",
    "pageNumber = 1\n",
    "all_articles_list = []\n",
    "while getNews:\n",
    "    print(pageNumber)\n",
    "    all_articles = newsapi.get_everything(q='health',\n",
    "                                      from_param='2021-07-02',\n",
    "                                      to='2021-07-31',\n",
    "                                      language='en',\n",
    "                                      sort_by='relevancy',\n",
    "                                      page=pageNumber)\n",
    "    pageNumber += 1\n",
    "    all_articles_list += all_articles['articles']\n",
    "    if len(all_articles['articles']) <= 0:\n",
    "        getNews = False"
   ]
  },
  {
   "cell_type": "code",
   "execution_count": null,
   "id": "cf897729",
   "metadata": {},
   "outputs": [],
   "source": [
    "len(all_articles_list)"
   ]
  },
  {
   "cell_type": "code",
   "execution_count": null,
   "id": "c6d4606c",
   "metadata": {},
   "outputs": [],
   "source": [
    "len(all_articles['articles'])"
   ]
  },
  {
   "cell_type": "code",
   "execution_count": null,
   "id": "b2731f11",
   "metadata": {},
   "outputs": [],
   "source": [
    "len(all_articles['articles'][1]['content'])"
   ]
  },
  {
   "cell_type": "markdown",
   "id": "22a8e96a",
   "metadata": {},
   "source": [
    "## Free News api"
   ]
  },
  {
   "cell_type": "code",
   "execution_count": null,
   "id": "9d8df151",
   "metadata": {},
   "outputs": [],
   "source": [
    "# https://rapidapi.com/newscatcher-api-newscatcher-api-default/api/free-news?utm_source=accept-invitation&utm_medium=email&utm_campaign=Free%20News"
   ]
  },
  {
   "cell_type": "code",
   "execution_count": 13,
   "id": "1881167f",
   "metadata": {},
   "outputs": [
    {
     "name": "stdout",
     "output_type": "stream",
     "text": [
      "https://free-news.p.rapidapi.com/v1/search\n",
      "{\"status\":\"ok\",\"total_hits\":10000,\"page\":10,\"total_pages\":400,\"page_size\":25,\"articles\":[{\"title\":\"Teenagers in UK to receive COVID vaccine\",\"author\":\"news.com.au \\u2014 australia\\u2019s leading news site\",\"published_date\":\"2021-08-05 08:04:43\",\"published_date_precision\":\"timezone unknown\",\"link\":\"https://www.news.com.au/world/teenagers-in-uk-to-receive-covid-vaccine/video/e85ae30fc883ea061705e49d0e0424ee\",\"clean_url\":\"news.com.au\",\"summary\":\"The United Kingdom will begin offering a first dose of the COVID-19 vaccine to 16 and 17 year olds, with the rollout expected to begin this month ahead of students' return to school. A second jab will be provided once more data has been collected. The UK's medicines authority has suggested children as young as 12 could eventually be offered the vaccine but will not be advised as of yet.\",\"rights\":\"news.com.au\",\"rank\":570,\"topic\":\"news\",\"country\":\"AU\",\"language\":\"en\",\"authors\":[\"news.com.au \\u2014 australia\\u2019s leading news site\"],\"media\":\"https://www.news.com.au/wp-content/themes/newscorpau-nca/assets/dist/img/common/favicon/apple-touch-icon-180x180.png\",\"is_opinion\":false,\"twitter_account\":\"@newscomauHQ\",\"_score\":4.7108154,\"_id\":\"3c14ba5e46f25205bea1e8830177809f\"},{\"title\":\"Discussing All Things COVID-19\",\"author\":null,\"published_date\":\"2021-08-04 00:00:00\",\"published_date_precision\":\"date\",\"link\":\"https://www.youtube.com/watch?v=0qT-kYKpN0I\",\"clean_url\":\"youtube.com\",\"summary\":\"\",\"rights\":\"youtube.com\",\"rank\":3,\"topic\":\"science\",\"country\":\"US\",\"language\":\"en\",\"authors\":[],\"media\":\"https://i.ytimg.com/vi/0qT-kYKpN0I/maxresdefault.jpg\",\"is_opinion\":false,\"twitter_account\":\"@youtube\",\"_score\":4.7104263,\"_id\":\"ca81f035e97e51fb14c9801ecf752115\"},{\"title\":\"Couple forced to defend Covid honeymoon\",\"author\":null,\"published_date\":\"2021-08-09 05:33:00\",\"published_date_precision\":\"full\",\"link\":\"https://www.news.com.au/travel/travel-updates/travel-stories/couple-gets-covid-at-wedding-shares-covid-experience-on-honeymoon/news-story/a6892925188d18998064f3c98d6c956f\",\"clean_url\":\"news.com.au\",\"summary\":\"A newlywed couple struck down with Covid-19 on their honeymoon has been forced to defend themselves after they were accused of holding a 'super spreader' wedding and travelling despite being sick.The American couple, who have been documenting their Covid experience on their TikTok account, said they tested positive to the virus days after their July 24 wedding when they were already on their honeymoon in Mexico.In a series of videos, the newlyweds shared their reaction to returning positive resu\",\"rights\":\"news.com.au\",\"rank\":570,\"topic\":\"news\",\"country\":\"AU\",\"language\":\"en\",\"authors\":[],\"media\":\"https://cdn.newsapi.com.au/image/v1/70fc041210892e80b21f5f5cab9d56a4?width=1280\",\"is_opinion\":false,\"twitter_account\":\"@newscomauHQ\",\"_score\":4.7103624,\"_id\":\"14528529b372b9178f664a0728d4cab2\"},{\"title\":\"Montgomery tests positive for COVID-19\",\"author\":\"Bill Ladson\",\"published_date\":\"2021-08-03 21:36:50\",\"published_date_precision\":\"full\",\"link\":\"https://www.mlb.com/news/jordan-montgomery-tests-positive-for-coronavirus\",\"clean_url\":\"mlb.com\",\"summary\":\"The Yankees rotation has taken another hit. One day after announcing that right-hander Gerrit Cole tested positive for COVID-19, manager Aaron Boone said that left-hander Jordan Montgomery had also tested positive.\\nAs of now, no one else on the Yankees has tested positive for COVID-19, and the Yanks are confident that the cases are contained to only Cole and Montgomery.\\nMontgomery was scheduled to pitch on Friday against the Mariners. Boone is not sure who will pitch that day instead, indicating\",\"rights\":\"mlb.com\",\"rank\":796,\"topic\":\"news\",\"country\":\"unknown\",\"language\":\"en\",\"authors\":[\"Bill Ladson\"],\"media\":\"https://img.mlbstatic.com/mlb-images/image/private/t_2x1/t_w1536/mlb/hkwgv7iagkin0kxxot0p.jpg\",\"is_opinion\":false,\"twitter_account\":\"@mlb\",\"_score\":4.7101603,\"_id\":\"271f399de235617fffd0a96353e759d5\"},{\"title\":\"Covid-19 returns to China's Wuhan\",\"author\":\"Caroline Kwok\",\"published_date\":\"2021-08-04 09:22:45\",\"published_date_precision\":\"full\",\"link\":\"https://www.scmp.com/video/coronavirus/3143773/covid-19-returns-chinas-wuhan-delta-variant-spreads-10-provinces\",\"clean_url\":\"scmp.com\",\"summary\":\"\",\"rights\":\"scmp.com\",\"rank\":577,\"topic\":\"news\",\"country\":\"HK\",\"language\":\"en\",\"authors\":[\"Caroline Kwok\",\"Avery Choi\"],\"media\":\"https://cdn.i-scmp.com/sites/default/files/styles/700x400/public/d8/video/images/2021/08/04/web_-_covid-19_returns_to_chinas_wuhan.jpg?itok=5cfPqfEL\",\"is_opinion\":false,\"twitter_account\":\"@SCMPNews\",\"_score\":4.7101316,\"_id\":\"d506b100eadf685412575ebb93b4d68e\"},{\"title\":\"Can Ashwagandha help in COVID-19?\",\"author\":null,\"published_date\":\"2021-08-05 06:43:52\",\"published_date_precision\":\"full\",\"link\":\"https://timesofindia.indiatimes.com/life-style/food-news/can-ashwagandha-help-in-covid-19/photostory/85062189.cms\",\"clean_url\":\"indiatimes.com\",\"summary\":\"The participants will have to take the 500mg tablets twice a day. A monthly follow-up of self-reported quality of life, impairment to activities of daily living, mental and physical health symptoms, supplement use, and adverse events will be carried out.\\n\\n\\n\\n\\\"For three months, one group of 1,000 participants will be administered Ashwagandha (AG) tablets while the second group of 1,000 participants will be assigned a placebo, which is indistinguishable from AG in looks and taste. Both patients and\",\"rights\":\"indiatimes.com\",\"rank\":325,\"topic\":\"news\",\"country\":\"IN\",\"language\":\"en\",\"authors\":[],\"media\":\"https://static.toiimg.com/photo/85062208.cms\",\"is_opinion\":false,\"twitter_account\":\"@timesofindia\",\"_score\":4.7100296,\"_id\":\"ec58902ab2a666b4c3a2d8ff29f8135c\"},{\"title\":\"GHBU reports COVID numbers are down\",\"author\":\"Pauline Kerr, Local Journalism Initiative Reporter - The Walkerton Herald Times\",\"published_date\":\"2021-08-05 17:19:28\",\"published_date_precision\":\"full\",\"link\":\"https://www.thestar.com/news/canada/2021/08/05/ghbu-reports-covid-numbers-are-down.html\",\"clean_url\":\"thestar.com\",\"summary\":\"GREY-BRUCE \\u2013 With only three new cases reported as of Aug. 2, the local health unit reports Grey-Bruce is no longer a provincially-designated COVID-19 hot spot. There are presently 71 active cases with 123 high-risk contacts, down from over 30 new cases in one day, with close to 200 active cases and hundreds of high-risk contacts only three weeks ago. Because of the high numbers, Grey-Bruce has not been in a full step three of the recovery process, but rather remained in a modified step three. P\",\"rights\":\"\\u00a9 Copyright 1996 - 2020 Toronto Star Newspapers Limited. All Rights Reserved , http://www.thestar.com/terms\",\"rank\":808,\"topic\":\"news\",\"country\":\"CA\",\"language\":\"en\",\"authors\":[\"Pauline Kerr, Local Journalism Initiative Reporter - The Walkerton Herald Times\"],\"media\":\"https://www.thestar.com/assets/img/thestar-ribbon.png\",\"is_opinion\":false,\"twitter_account\":\"@TorontoStar\",\"_score\":4.709982,\"_id\":\"eed356fc055faaddf92bcec07d31fb41\"},{\"title\":\"U.S. hits new Covid milestones\",\"author\":null,\"published_date\":\"2021-08-07 22:36:21\",\"published_date_precision\":\"full\",\"link\":\"https://www.nbcnews.com/nightly-news/video/u-s-hits-new-covid-milestones-118113861939\",\"clean_url\":\"nbcnews.com\",\"summary\":\"Covid cases have more than doubled in the U.S. in the last two weeks. There are now over 100,000 new daily infections. Florida has rapidly become the country's epicenter, with 23,000 cases reported Friday.Aug. 7, 2021\",\"rights\":\"\\u00a9 2021 NBCNews.com\",\"rank\":240,\"topic\":\"news\",\"country\":\"GB\",\"language\":\"en\",\"authors\":[],\"media\":\"https://media-cldnry.s-nbcnews.com/image/upload/t_nbcnews-fp-1200-630,f_auto,q_auto:best/mpx/2704722219/2021_08/1628375740119_nn_vhi_new_covid_milestones_210807_1920x1080.jpg\",\"is_opinion\":false,\"twitter_account\":\"NBCNews\",\"_score\":4.7097855,\"_id\":\"ce125c75a3057ba543fc39dac5e90d77\"},{\"title\":\"For seniors especially, COVID can be stealthy\",\"author\":\"Paula Span\",\"published_date\":\"2021-08-08 17:06:00\",\"published_date_precision\":\"full\",\"link\":\"https://www.boston.com/news/coronavirus/2021/08/08/for-seniors-especially-covid-can-be-stealthy/\",\"clean_url\":\"boston.com\",\"summary\":\"One day in March 2020, Rosemary Bily suddenly grew so tired she could barely get out of bed. 'She slept a lot,' said her son-in-law Rich Lamanno. 'She was wiped out for most of a month.' Bily, now 86, also developed nausea and diarrhea, along with a slight cough, and subsisted mostly on Tylenol and Gatorade. A few days later her husband, Eugene Bily, 90, started coughing and became lethargic as well. Had it not been for a family gathering a few days earlier, the Bilys' children would not have su\",\"rights\":\"boston.com\",\"rank\":612,\"topic\":\"science\",\"country\":\"US\",\"language\":\"en\",\"authors\":[\"Paula Span\",\"New York Times Service\"],\"media\":\"https://bdc2020.o0bc.com/wp-content/uploads/2021/04/s3___bgmp-arc_arc-feeds_generic-photos_to-arc_greenhouse02VaccineSeniors2--606ddbdb4fbaa-scaled.jpg\",\"is_opinion\":false,\"twitter_account\":\"@BostonDotCom\",\"_score\":4.70976,\"_id\":\"d07c659d2788aecfd43c822332e4a2ab\"},{\"title\":\"Traits that Covid rule breakers share\",\"author\":null,\"published_date\":\"2021-08-03 07:36:00\",\"published_date_precision\":\"full\",\"link\":\"https://www.news.com.au/national/study-shows-the-traits-that-covid-rule-breakers-share/news-story/b5db95dd0672eb8117fcda8ecee09cb7\",\"clean_url\":\"news.com.au\",\"summary\":\"New research has identified the characteristics of people who are less likely to follow Covid-19 rules as being mostly male and less considerate than others. A University of Sydney study found about 10 per cent of people surveyed in Australia, United States, United Kingdom and Canada did not appear to be following social distancing rules and had a non-compliant attitude.They were mostly male, less agreeable (cooperative, considerate), were less intellectual (less willing to try new experiences),\",\"rights\":\"ntnews.com.au\",\"rank\":570,\"topic\":\"news\",\"country\":\"AU\",\"language\":\"en\",\"authors\":[],\"media\":\"https://cdn.newsapi.com.au/image/v1/f869a605afc2a61a46c3c1caa9a81da5\",\"is_opinion\":false,\"twitter_account\":\"@TheNTNews\",\"_score\":4.709508,\"_id\":\"8d444d4d76a4661d1d1ea686f4a95616\"},{\"title\":\"Immunocompromised and COVID-19: What's next?\",\"author\":null,\"published_date\":\"2021-08-09 09:57:48\",\"published_date_precision\":\"full\",\"link\":\"https://news.yahoo.com/immunocompromised-covid-19-whats-next-095748003.html\",\"clean_url\":\"yahoo.com\",\"summary\":\"The Daily Beast\\n\\nDouglas PetersenOn July 31, 2019, Brian Petersen, a 39-year-old school teacher in Texas, went on the gay dating app Grindr and struck up a conversation with a man whose profile name was 'Fresh Meat.'He asked how the man's week was going and if he was 'looking for something tonight,' according to a transcript of the chat obtained by The Daily Beast. 'You into younger boys,' the man replied, apparently posing the question.When Petersen asked for the man's age, he said 'under 18.' \",\"rights\":\"yahoo.com\",\"rank\":30,\"topic\":\"news\",\"country\":\"US\",\"language\":\"en\",\"authors\":[],\"media\":\"https://s.yimg.com/hd/cp-video-transcode/prod/2021-08/09/6110fe5d89e9c75669609982/6110fe5d89e9c75669609983_o_U_v2.jpg\",\"is_opinion\":false,\"twitter_account\":\"@YahooNews\",\"_score\":4.708917,\"_id\":\"8312cdd4eb707b1447373ba2f5684f2d\"},{\"title\":\"Covid denier refuses vaccine for child\",\"author\":\"Alison Barrett\",\"published_date\":\"2021-08-05 01:22:00\",\"published_date_precision\":\"full\",\"link\":\"https://www.news.com.au/finance/money/costs/sisters-in-law-covid-vaccine-for-kids-what-to-do-if-parents-disagree/news-story/6a82bd401b48b32a1063f25caedc1c3f\",\"clean_url\":\"news.com.au\",\"summary\":\"Welcome to Sisters In Law, news.com.au's weekly column solving all of your legal problems. This week, our resident lawyers and real-life sisters Alison and Jillian Barrett from Maurice Blackburn advise what to about an ex who doesn't want his child vaccinated.Question:I separated from my husband before lockdown in 2020 and we co-parent a child together. Unfortunately, he is a covid-denier and an anti-vaxxer who refuses to get the vaccine. However, he has also said that he will never allow me to \",\"rights\":\"news.com.au\",\"rank\":570,\"topic\":\"finance\",\"country\":\"AU\",\"language\":\"en\",\"authors\":[\"Alison Barrett\",\"Jillian Barrett\"],\"media\":\"https://cdn.newsapi.com.au/image/v1/5cdb30c0d5538e1617754577e6abf48f?width=1280\",\"is_opinion\":false,\"twitter_account\":\"@newscomauHQ\",\"_score\":4.708893,\"_id\":\"70c09bf91d67e0d4475f0c35b6fd5fd9\"},{\"title\":\"Who owns COVID-19 vaccines?\",\"author\":\"Nancy Jecker\",\"published_date\":\"2021-08-08 19:01:00\",\"published_date_precision\":\"full\",\"link\":\"https://www.seattletimes.com/opinion/who-owns-covid-19-vaccines/?utm_source=RSS&utm_medium=Referral&utm_campaign=RSS_all\",\"clean_url\":\"seattletimes.com\",\"summary\":null,\"rights\":null,\"rank\":863,\"topic\":\"news\",\"country\":\"US\",\"language\":\"en\",\"authors\":[\"Nancy Jecker\"],\"media\":null,\"is_opinion\":false,\"twitter_account\":null,\"_score\":4.7088614,\"_id\":\"5bfd2ac1957ab62fb83c79d8269f2dfd\"},{\"title\":\"For Seniors Especially, Covid Can Be Stealthy\",\"author\":\"Paula Span\",\"published_date\":\"2021-08-08 09:00:18\",\"published_date_precision\":\"full\",\"link\":\"https://www.nytimes.com/2021/08/08/health/coronavirus-symptoms-elderly.html\",\"clean_url\":\"nytimes.com\",\"summary\":\"Continue reading the main storyWith infections increasing once more, and hospitalization rising among older adults, health experts offer a timely warning: a coronavirus infection can look different in older patients.Rosemary Bily outside her house in Oceanside, NY. She and her husband, Eugene, and their son-in-law Rich Lamanno contracted Covid in March of 2020 after attending a family party.Credit...Gregg Vigliotti for The New York TimesAug. 8, 2021, 5:00 a.m. ETOne day in March of 2020, Rosemar\",\"rights\":\"Copyright 2021 The New York Times Company\",\"rank\":39,\"topic\":\"news\",\"country\":\"US\",\"language\":\"en\",\"authors\":[\"Paula Span\"],\"media\":\"https://static01.nyt.com/images/2021/08/10/science/07SCI-SPAN-ATYPICAL-1/07SCI-SPAN-ATYPICAL-1-facebookJumbo.jpg\",\"is_opinion\":false,\"twitter_account\":\"@nytimes\",\"_score\":4.708784,\"_id\":\"ba187e7acffb18fef7c1c31434b97ef0\"},{\"title\":\"Cuyahoga At \\\"Substantial\\\" Level For COVID Transmission\",\"author\":\"Tom Moore\",\"published_date\":\"2021-08-03 17:00:00\",\"published_date_precision\":\"timezone unknown\",\"link\":\"https://wtam.iheart.com/content/2021-08-03-cuyahoga-at-substantial-level-for-covid-transmission/\",\"clean_url\":\"iheart.com\",\"summary\":\"(Cleveland) - Over the weekend, Cuyahoga County reached a level of COVID-19 transmission defined by the Centers for Disease Control as \\\"substantial.\\\" That means there have been between 50 and 100 new cases of COVID-19 per 100,000 people in the last seven days. The CDC has created a map that points this out. It's at \\\"substantial\\\" and \\\"high\\\" levels in which the CDC recommends mask wearing indoors for everyone, even those people who are vaccinated. Across Northeast Ohio, most counties are now at th\",\"rights\":\"iheart.com\",\"rank\":883,\"topic\":\"news\",\"country\":\"US\",\"language\":\"en\",\"authors\":[\"Tom Moore\"],\"media\":\"https://i.iheart.com/v3/re/new_assets/6109292b4ad99df45c3dd09e?ops=gravity(%22north%22),fit(740,416),quality(65)\",\"is_opinion\":false,\"twitter_account\":\"@wtam1100\",\"_score\":4.707833,\"_id\":\"1ae11964273c012cab4884eabcef0eea\"},{\"title\":\"Live COVID-19 updates: Uganda resumes COVID-19 vaccination after weeks of stock-out\",\"author\":null,\"published_date\":\"2021-08-09 09:15:00\",\"published_date_precision\":\"timezone unknown\",\"link\":\"http://www.xinhuanet.com/english/2021-08/09/c_1310117362.htm\",\"clean_url\":\"xinhuanet.com\",\"summary\":\"Source: Xinhua| 2021-08-09 16:50:59|Editor: huaxia BEIJING -- The following are the updates on the global fight against the COVID-19 pandemic. ---- PHNOM PENH -- Cambodia on Monday confirmed 508 new COVID-19 cases, of which 121 were imported, raising the national total caseload to 82,399, the Ministry of Health (MoH) said in a statement. Twenty-three more fatalities had been registered, taking the overall death toll to 1,585, the MoH said, adding that 660 other patients had recovered, bringing t\",\"rights\":\"xinhuanet.com\",\"rank\":200,\"topic\":\"news\",\"country\":\"ZH\",\"language\":\"en\",\"authors\":[],\"media\":\"\",\"is_opinion\":false,\"twitter_account\":null,\"_score\":4.7077427,\"_id\":\"4379d9fef39128e3bb5040560c699d13\"},{\"title\":\"Indonesia's COVID spike overwhelms doctors\",\"author\":\"AP\",\"published_date\":\"2021-08-06 10:52:27\",\"published_date_precision\":\"full\",\"link\":\"https://www.usatoday.com/videos/news/nation/2021/08/06/indonesias-covid-spike-overwhelms-doctors/5509002001/\",\"clean_url\":\"usatoday.com\",\"summary\":\"Indonesia has surpassed 100,000 confirmed COVID-19 deaths, a grim milestone in a country struggling with its worst pandemic wave fueled by the delta variant. (Aug. 4)\",\"rights\":\"Copyright 2021, GANNETT\",\"rank\":126,\"topic\":\"news\",\"country\":\"US\",\"language\":\"en\",\"authors\":[\"AP Domestic\",\"AP\"],\"media\":\"https://www.gannett-cdn.com/authoring/video-thumbnails/74c36d9d-cb15-4b2f-8078-0b950806fc17_poster.jpg?quality=10\",\"is_opinion\":false,\"twitter_account\":null,\"_score\":4.7074986,\"_id\":\"349c9362311b7d1260c5dd65917b563e\"},{\"title\":\"WHO 'deeply concerned' by Long Covid\",\"author\":\"https://www.facebook.com/FRANCE24.English\",\"published_date\":\"2021-08-04 19:10:15\",\"published_date_precision\":\"full\",\"link\":\"https://www.france24.com/en/live-news/20210804-who-deeply-concerned-by-long-covid\",\"clean_url\":\"france24.com\",\"summary\":\"Long Covid remains one of the most mysterious aspects of the pandemic of the coronavirus pandemic Philippe LOPEZ AFP Geneva (AFP) With nearly 200 million people known to have had Covid-19, the WHO said Wednesday it was deeply concerned by the unknown numbers who may still be suffering with Long Covid.The World Health Organization urged people struggling with the after-effects of the virus -- despite having recovered from the acute phase -- to seek medical help.Long Covid remains one of the most \",\"rights\":\"france24.com\",\"rank\":989,\"topic\":\"news\",\"country\":\"FR\",\"language\":\"en\",\"authors\":[\"https://www.facebook.com/FRANCE24.English\"],\"media\":\"https://s.france24.com/media/display/991cbbfe-f557-11eb-ab2c-005056a97e36/w:1280/p:16x9/a286c5f443add8ca962281c2632e60213bba18ff.jpg\",\"is_opinion\":false,\"twitter_account\":\"@FRANCE24\",\"_score\":4.707373,\"_id\":\"56e72deed823c15f8b2a30f07ff8549f\"},{\"title\":\"The Times view on: Covid jabs and the young\",\"author\":null,\"published_date\":\"2021-08-05 23:01:00\",\"published_date_precision\":\"full\",\"link\":\"https://www.thetimes.co.uk/article/the-times-view-on-covid-jabs-and-the-young-j79n5v2mm\",\"clean_url\":\"thetimes.co.uk\",\"summary\":\"It is in young people's interests, as well as those of society as a whole, to be jabbed against CovidGETTY IMAGESThe coronavirus crisis may be far from over, but some semblance of greater normality has been made possible by vaccines and protective measures. Yet the world as it will be, beyond the pandemic, is not the same as the one that prevailed before. Evidence of this was provided by a prediction yesterday by Grant Shapps, the transport secretary, that Britons would need to be vaccinated 'fo\",\"rights\":\"thetimes.co.uk\",\"rank\":529,\"topic\":\"news\",\"country\":\"GB\",\"language\":\"en\",\"authors\":[],\"media\":\"https://www.thetimes.co.uk/imageserver/image/%2Fmethode%2Ftimes%2Fprod%2Fweb%2Fbin%2F1a44ae72-f61a-11eb-8f01-2c678acbb979.jpg?crop=6000%2C3375%2C0%2C475&resize=685\",\"is_opinion\":false,\"twitter_account\":null,\"_score\":4.7055116,\"_id\":\"40cfb0f91d05b441259608af50c93938\"},{\"title\":\"Moderna CEO on COVID booster shots\",\"author\":null,\"published_date\":\"2021-08-05 12:53:41\",\"published_date_precision\":\"full\",\"link\":\"https://video.foxbusiness.com/v/6266656275001/\",\"clean_url\":\"foxbusiness.com\",\"summary\":\"\",\"rights\":\"foxbusiness.com\",\"rank\":943,\"topic\":\"news\",\"country\":\"US\",\"language\":\"en\",\"authors\":[],\"media\":\"https://cf-images.us-east-1.prod.boltdns.net/v1/static/854081161001/cd37e4a8-3d01-4ef9-ba1c-ab74d6e4b4b9/c2d28b72-69b6-48ce-8d2a-05ba32921a10/1280x720/match/image.jpg\",\"is_opinion\":false,\"twitter_account\":\"@foxbusiness\",\"_score\":4.70538,\"_id\":\"445452e654e5e4fccaadbe7bf7b745cf\"},{\"title\":\"Covid vaccine inequity 'completely unacceptable'\",\"author\":null,\"published_date\":\"2021-08-03 07:45:00\",\"published_date_precision\":\"timezone unknown\",\"link\":\"https://www.bbc.co.uk/news/av/world-asia-58067686\",\"clean_url\":\"bbc.co.uk\",\"summary\":\"A panel convened by the World Health Organization to look at what lessons could be learnt from the Covid pandemic has recommended that high-income countries do more to help low-income countries.Richer countries should give $19 billion to fund access to vaccines and treatments in poorer countries, and give 1 billion doses by September, The Independent Panel for Pandemic Preparedness and Response has said.But so far the pledges from richer countries are \\\"not big enough\\\", says the panel's co-chair \",\"rights\":\"bbc.co.uk\",\"rank\":66,\"topic\":\"world\",\"country\":\"US\",\"language\":\"en\",\"authors\":[],\"media\":\"https://ichef.bbci.co.uk/news/1024/branded_news/11B8F/production/_119719527_p09r5cl0.jpg\",\"is_opinion\":false,\"twitter_account\":\"@BBCNews\",\"_score\":4.7052355,\"_id\":\"b0033651d2c8630a75c859d7d7e178b0\"},{\"title\":\"When Are You Contagious With COVID-19?\",\"author\":\"MedicalNewsToday.com\",\"published_date\":\"2021-08-06 00:50:11\",\"published_date_precision\":\"full\",\"link\":\"https://www.medicalnewstoday.com/articles/when-are-you-contagious-with-covid?utm_source=Sailthru%20Email&utm_medium=Email&utm_campaign=newsAlerts&utm_term=coronavirus&utm_content=2021-07-26&apid=35168294&rvid=c71afb4ed31f75488d6da63c33654b9e80a39619625f83ffc49d9490457250d6\",\"clean_url\":\"medicalnewstoday.com\",\"summary\":\"The novel coronavirus is highly contagious. It spreads through tiny droplets or direct contact with someone carrying the infection. The best method of preventing the spread of SARS-CoV-2 is to self-isolate and follow all government guidelines following a possible infection. \\nRead on to find out more about how and when COVID-19 is contagious, and how to treat and prevent the infection. \\n\\n\\nWhen are you most contagious with COVID-19?\\n\\n\\n\\n\\n\\nA\\u00a02020 review\\u00a0of data from 5,340 people with SARS-CoV-2 infe\",\"rights\":\"southfloridareporter.com\",\"rank\":550,\"topic\":\"news\",\"country\":\"unknown\",\"language\":\"en\",\"authors\":[\"MedicalNewsToday.com\"],\"media\":\"https://southfloridareporter.s3.amazonaws.com/wp-content/uploads/2021/08/05190821/caucasian-famiy-face-masks-gloves-isolated-home-with-coronavirus-respiratory-symptoms-such-as-fever-headache-cough-mild-condition-healthcare-medicine-quarantine-treatment-concept.jpg\",\"is_opinion\":false,\"twitter_account\":\"@SFLReporter\",\"_score\":4.705201,\"_id\":\"673d2a5c111826ed5d818675bf3a32d6\"},{\"title\":\"Riverside County COVID-19 Update\",\"author\":null,\"published_date\":\"2021-08-07 00:45:49\",\"published_date_precision\":\"full\",\"link\":\"https://patch.com/california/murrieta/riverside-county-covid-19-update-0\",\"clean_url\":\"patch.com\",\"summary\":\"According to Riverside University Health System, 58.4% of county residents 12 and older have received at least one coronavirus vaccine shot, and 50.4% have been fully vaccinated. (Shutterstock)RIVERSIDE COUNTY, CA \\u2014 No additional coronavirus deaths were reported in Riverside County Friday, continuing a four-day trend, though an uptick in hospitalizations was reported along with 1,226 newly confirmed virus cases.The number of COVID-19 fatalities stood at 4,667 on Friday, the same number reported \",\"rights\":\"patch.com\",\"rank\":881,\"topic\":\"news\",\"country\":\"US\",\"language\":\"en\",\"authors\":[],\"media\":\"https://patch.com/img/cdn20/shutterstock/23735283/20210806/084548/styles/patch_image/public/shutterstock-1677576121___06204216289.jpg\",\"is_opinion\":false,\"twitter_account\":null,\"_score\":4.7049913,\"_id\":\"5e68e441042fad0dc30632f4c2139e73\"},{\"title\":\"COVID-19: 'To protect my family'\",\"author\":\"Sky Uk Limited\",\"published_date\":\"2021-08-06 20:48:00\",\"published_date_precision\":\"timezone unknown\",\"link\":\"https://news.sky.com/story/covid-19-to-protect-my-family-16-and-17-year-olds-in-northern-ireland-get-vaccinated-12374891\",\"clean_url\":\"sky.com\",\"summary\":\"Teenagers in Northern Ireland have become the first 16 to 17-year-olds to get a COVID vaccine in the UK.Those in the age category, with no underlying health conditions, have been able to receive a vaccine since Friday.\\nYoungsters have been able to attend walk-in appointments at seven regional vaccination centres, and some in Belfast have spoken of being motivated to get the jab by wanting to protect their families against the virus.\\t Please use Chrome browser for a more accessible video player T\",\"rights\":\"sky.com\",\"rank\":562,\"topic\":\"science\",\"country\":\"US\",\"language\":\"en\",\"authors\":[\"Sky Uk Limited\"],\"media\":\"https://e3.365dm.com/21/06/1600x900/skynews-covid-vaccination_5415017.jpg?20210624162105\",\"is_opinion\":false,\"twitter_account\":\"@skynews\",\"_score\":4.7049837,\"_id\":\"925d9f736b493d8ef0e181e5b7598342\"},{\"title\":\"City in lockdown as Covid cases soar\",\"author\":\"Alexis Carey\",\"published_date\":\"2021-08-08 20:29:00\",\"published_date_precision\":\"full\",\"link\":\"https://www.news.com.au/national/breaking-news/live-breaking-news-nsw-lockdown-updates-and-covid19-case-numbers/live-coverage/c9772ffb07d5cf35f257c9cb303d81f2\",\"clean_url\":\"news.com.au\",\"summary\":\"The NSW city of Tamworth has been plunged into a week-long lockdown, with a top tourist town also on high alert.An infected woman from the Newcastle area is believed to have broken that region's lockdown to enter Tamworth on August 5.She is believed to have attended a string of venues in Tamworth, including a cafe, pub and restaurant.As a result, the regional city will now enter a week-long lockdown at 5pm this afternoon as the Delta variant spreads to regional NSW.The Byron Bay area is also on \",\"rights\":\"thechronicle.com.au\",\"rank\":570,\"topic\":\"news\",\"country\":\"AU\",\"language\":\"en\",\"authors\":[\"Alexis Carey\",\"August\"],\"media\":\"https://content.api.news/v3/images/bin/a84cc985d09cf9c2e7611f2ba5c3a1d2\",\"is_opinion\":false,\"twitter_account\":\"@the_chronicle_\",\"_score\":4.704859,\"_id\":\"323d65548e31762ada7e736edcba081f\"}],\"user_input\":{\"q\":\"COVID\",\"lang\":\"en\",\"from\":\"2021-08-03 00:00:00\",\"sort_by\":\"relevancy\",\"page\":10,\"size\":25}}\n",
      "\n"
     ]
    }
   ],
   "source": [
    "import requests\n",
    "from dotenv import load_dotenv\n",
    "import os\n",
    "load_dotenv()\n",
    "\n",
    "url = os.getenv('RAPIDAPI_URL')\n",
    "print(url)\n",
    "\n",
    "#querystring = {\"q\":\"COVID\",\"lang\":\"en\", \"from\":\"2019-01-01\", \"to\":\"2020-12-31\"}\n",
    "querystring = {\"q\":\"COVID\",\"lang\":\"en\", \"page_size\": 25, \"page\": 10}\n",
    "\n",
    "headers = {\n",
    "    'x-rapidapi-key': os.getenv('X_RAPIDAPI_KEY'),\n",
    "    'x-rapidapi-host': os.getenv('X_RAPIDAPI_HOST')\n",
    "    }\n",
    "\n",
    "response = requests.request(\"GET\", url, headers=headers, params=querystring)\n",
    "\n",
    "print(response.text)"
   ]
  },
  {
   "cell_type": "code",
   "execution_count": 32,
   "id": "4e103b62",
   "metadata": {},
   "outputs": [
    {
     "name": "stdout",
     "output_type": "stream",
     "text": [
      "389\n",
      "0\n",
      "500\n",
      "500\n",
      "0\n",
      "500\n",
      "500\n",
      "217\n",
      "500\n",
      "500\n",
      "500\n",
      "500\n",
      "500\n",
      "500\n",
      "500\n",
      "166\n",
      "500\n",
      "500\n",
      "0\n",
      "500\n",
      "500\n",
      "500\n",
      "500\n",
      "500\n"
     ]
    }
   ],
   "source": [
    "response_json = response.json()\n",
    "#print(len(response_json['value']))\n",
    "for i in range(0,25):\n",
    "    #print(i)\n",
    "    if response_json['articles'][i]['summary'] != None:\n",
    "        print(len(response_json['articles'][i]['summary']))"
   ]
  }
 ],
 "metadata": {
  "kernelspec": {
   "display_name": "Python 3 (ipykernel)",
   "language": "python",
   "name": "python3"
  },
  "language_info": {
   "codemirror_mode": {
    "name": "ipython",
    "version": 3
   },
   "file_extension": ".py",
   "mimetype": "text/x-python",
   "name": "python",
   "nbconvert_exporter": "python",
   "pygments_lexer": "ipython3",
   "version": "3.8.6"
  },
  "toc": {
   "base_numbering": 1,
   "nav_menu": {},
   "number_sections": true,
   "sideBar": true,
   "skip_h1_title": false,
   "title_cell": "Table of Contents",
   "title_sidebar": "Contents",
   "toc_cell": false,
   "toc_position": {},
   "toc_section_display": true,
   "toc_window_display": false
  }
 },
 "nbformat": 4,
 "nbformat_minor": 5
}
